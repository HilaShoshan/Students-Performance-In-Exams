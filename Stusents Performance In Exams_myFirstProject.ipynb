{
 "cells": [
  {
   "cell_type": "markdown",
   "metadata": {},
   "source": [
    "# This data set includes scores from three exams and a variety of personal, social, and economic factors that have interaction effects upon them.\n",
    "\n",
    "# It's interesting to analysis different conditions, and see how this may affect student scores in exams.\n",
    "\n",
    "# I will see what are the most influential factors in test scores, How much exam preparation course is effective, What are the students' strengths: math, reading or writing? and other interesting questions..."
   ]
  },
  {
   "cell_type": "code",
   "execution_count": 1,
   "metadata": {},
   "outputs": [
    {
     "data": {
      "text/html": [
       "<div>\n",
       "<style scoped>\n",
       "    .dataframe tbody tr th:only-of-type {\n",
       "        vertical-align: middle;\n",
       "    }\n",
       "\n",
       "    .dataframe tbody tr th {\n",
       "        vertical-align: top;\n",
       "    }\n",
       "\n",
       "    .dataframe thead th {\n",
       "        text-align: right;\n",
       "    }\n",
       "</style>\n",
       "<table border=\"1\" class=\"dataframe\">\n",
       "  <thead>\n",
       "    <tr style=\"text-align: right;\">\n",
       "      <th></th>\n",
       "      <th>gender</th>\n",
       "      <th>race/ethnicity</th>\n",
       "      <th>parental level of education</th>\n",
       "      <th>test preparation course</th>\n",
       "      <th>math score</th>\n",
       "      <th>reading score</th>\n",
       "      <th>writing score</th>\n",
       "    </tr>\n",
       "  </thead>\n",
       "  <tbody>\n",
       "    <tr>\n",
       "      <th>0</th>\n",
       "      <td>female</td>\n",
       "      <td>group B</td>\n",
       "      <td>bachelor's degree</td>\n",
       "      <td>none</td>\n",
       "      <td>72</td>\n",
       "      <td>72</td>\n",
       "      <td>74</td>\n",
       "    </tr>\n",
       "    <tr>\n",
       "      <th>1</th>\n",
       "      <td>female</td>\n",
       "      <td>group C</td>\n",
       "      <td>some college</td>\n",
       "      <td>completed</td>\n",
       "      <td>69</td>\n",
       "      <td>90</td>\n",
       "      <td>88</td>\n",
       "    </tr>\n",
       "    <tr>\n",
       "      <th>2</th>\n",
       "      <td>female</td>\n",
       "      <td>group B</td>\n",
       "      <td>master's degree</td>\n",
       "      <td>none</td>\n",
       "      <td>90</td>\n",
       "      <td>95</td>\n",
       "      <td>93</td>\n",
       "    </tr>\n",
       "    <tr>\n",
       "      <th>3</th>\n",
       "      <td>male</td>\n",
       "      <td>group A</td>\n",
       "      <td>associate's degree</td>\n",
       "      <td>none</td>\n",
       "      <td>47</td>\n",
       "      <td>57</td>\n",
       "      <td>44</td>\n",
       "    </tr>\n",
       "    <tr>\n",
       "      <th>4</th>\n",
       "      <td>male</td>\n",
       "      <td>group C</td>\n",
       "      <td>some college</td>\n",
       "      <td>none</td>\n",
       "      <td>76</td>\n",
       "      <td>78</td>\n",
       "      <td>75</td>\n",
       "    </tr>\n",
       "    <tr>\n",
       "      <th>5</th>\n",
       "      <td>female</td>\n",
       "      <td>group B</td>\n",
       "      <td>associate's degree</td>\n",
       "      <td>none</td>\n",
       "      <td>71</td>\n",
       "      <td>83</td>\n",
       "      <td>78</td>\n",
       "    </tr>\n",
       "    <tr>\n",
       "      <th>6</th>\n",
       "      <td>female</td>\n",
       "      <td>group B</td>\n",
       "      <td>some college</td>\n",
       "      <td>completed</td>\n",
       "      <td>88</td>\n",
       "      <td>95</td>\n",
       "      <td>92</td>\n",
       "    </tr>\n",
       "    <tr>\n",
       "      <th>7</th>\n",
       "      <td>male</td>\n",
       "      <td>group B</td>\n",
       "      <td>some college</td>\n",
       "      <td>none</td>\n",
       "      <td>40</td>\n",
       "      <td>43</td>\n",
       "      <td>39</td>\n",
       "    </tr>\n",
       "    <tr>\n",
       "      <th>8</th>\n",
       "      <td>male</td>\n",
       "      <td>group D</td>\n",
       "      <td>high school</td>\n",
       "      <td>completed</td>\n",
       "      <td>64</td>\n",
       "      <td>64</td>\n",
       "      <td>67</td>\n",
       "    </tr>\n",
       "    <tr>\n",
       "      <th>9</th>\n",
       "      <td>female</td>\n",
       "      <td>group B</td>\n",
       "      <td>high school</td>\n",
       "      <td>none</td>\n",
       "      <td>38</td>\n",
       "      <td>60</td>\n",
       "      <td>50</td>\n",
       "    </tr>\n",
       "    <tr>\n",
       "      <th>10</th>\n",
       "      <td>male</td>\n",
       "      <td>group C</td>\n",
       "      <td>associate's degree</td>\n",
       "      <td>none</td>\n",
       "      <td>58</td>\n",
       "      <td>54</td>\n",
       "      <td>52</td>\n",
       "    </tr>\n",
       "    <tr>\n",
       "      <th>11</th>\n",
       "      <td>male</td>\n",
       "      <td>group D</td>\n",
       "      <td>associate's degree</td>\n",
       "      <td>none</td>\n",
       "      <td>40</td>\n",
       "      <td>52</td>\n",
       "      <td>43</td>\n",
       "    </tr>\n",
       "    <tr>\n",
       "      <th>12</th>\n",
       "      <td>female</td>\n",
       "      <td>group B</td>\n",
       "      <td>high school</td>\n",
       "      <td>none</td>\n",
       "      <td>65</td>\n",
       "      <td>81</td>\n",
       "      <td>73</td>\n",
       "    </tr>\n",
       "    <tr>\n",
       "      <th>13</th>\n",
       "      <td>male</td>\n",
       "      <td>group A</td>\n",
       "      <td>some college</td>\n",
       "      <td>completed</td>\n",
       "      <td>78</td>\n",
       "      <td>72</td>\n",
       "      <td>70</td>\n",
       "    </tr>\n",
       "    <tr>\n",
       "      <th>14</th>\n",
       "      <td>female</td>\n",
       "      <td>group A</td>\n",
       "      <td>master's degree</td>\n",
       "      <td>none</td>\n",
       "      <td>50</td>\n",
       "      <td>53</td>\n",
       "      <td>58</td>\n",
       "    </tr>\n",
       "    <tr>\n",
       "      <th>15</th>\n",
       "      <td>female</td>\n",
       "      <td>group C</td>\n",
       "      <td>some high school</td>\n",
       "      <td>none</td>\n",
       "      <td>69</td>\n",
       "      <td>75</td>\n",
       "      <td>78</td>\n",
       "    </tr>\n",
       "    <tr>\n",
       "      <th>16</th>\n",
       "      <td>male</td>\n",
       "      <td>group C</td>\n",
       "      <td>high school</td>\n",
       "      <td>none</td>\n",
       "      <td>88</td>\n",
       "      <td>89</td>\n",
       "      <td>86</td>\n",
       "    </tr>\n",
       "    <tr>\n",
       "      <th>17</th>\n",
       "      <td>female</td>\n",
       "      <td>group B</td>\n",
       "      <td>some high school</td>\n",
       "      <td>none</td>\n",
       "      <td>18</td>\n",
       "      <td>32</td>\n",
       "      <td>28</td>\n",
       "    </tr>\n",
       "    <tr>\n",
       "      <th>18</th>\n",
       "      <td>male</td>\n",
       "      <td>group C</td>\n",
       "      <td>master's degree</td>\n",
       "      <td>completed</td>\n",
       "      <td>46</td>\n",
       "      <td>42</td>\n",
       "      <td>46</td>\n",
       "    </tr>\n",
       "    <tr>\n",
       "      <th>19</th>\n",
       "      <td>female</td>\n",
       "      <td>group C</td>\n",
       "      <td>associate's degree</td>\n",
       "      <td>none</td>\n",
       "      <td>54</td>\n",
       "      <td>58</td>\n",
       "      <td>61</td>\n",
       "    </tr>\n",
       "  </tbody>\n",
       "</table>\n",
       "</div>"
      ],
      "text/plain": [
       "    gender race/ethnicity parental level of education test preparation course  \\\n",
       "0   female        group B           bachelor's degree                    none   \n",
       "1   female        group C                some college               completed   \n",
       "2   female        group B             master's degree                    none   \n",
       "3     male        group A          associate's degree                    none   \n",
       "4     male        group C                some college                    none   \n",
       "5   female        group B          associate's degree                    none   \n",
       "6   female        group B                some college               completed   \n",
       "7     male        group B                some college                    none   \n",
       "8     male        group D                 high school               completed   \n",
       "9   female        group B                 high school                    none   \n",
       "10    male        group C          associate's degree                    none   \n",
       "11    male        group D          associate's degree                    none   \n",
       "12  female        group B                 high school                    none   \n",
       "13    male        group A                some college               completed   \n",
       "14  female        group A             master's degree                    none   \n",
       "15  female        group C            some high school                    none   \n",
       "16    male        group C                 high school                    none   \n",
       "17  female        group B            some high school                    none   \n",
       "18    male        group C             master's degree               completed   \n",
       "19  female        group C          associate's degree                    none   \n",
       "\n",
       "    math score  reading score  writing score  \n",
       "0           72             72             74  \n",
       "1           69             90             88  \n",
       "2           90             95             93  \n",
       "3           47             57             44  \n",
       "4           76             78             75  \n",
       "5           71             83             78  \n",
       "6           88             95             92  \n",
       "7           40             43             39  \n",
       "8           64             64             67  \n",
       "9           38             60             50  \n",
       "10          58             54             52  \n",
       "11          40             52             43  \n",
       "12          65             81             73  \n",
       "13          78             72             70  \n",
       "14          50             53             58  \n",
       "15          69             75             78  \n",
       "16          88             89             86  \n",
       "17          18             32             28  \n",
       "18          46             42             46  \n",
       "19          54             58             61  "
      ]
     },
     "execution_count": 1,
     "metadata": {},
     "output_type": "execute_result"
    }
   ],
   "source": [
    "import numpy as np \n",
    "import pandas as pd \n",
    "from pandas import Series, DataFrame\n",
    "import matplotlib.pyplot as plt\n",
    "%matplotlib notebook \n",
    "import seaborn as sns\n",
    "\n",
    "data= pd.read_csv('StudentsPerformance.csv', encoding= 'ISO-8859-1')\n",
    "del data['lunch']\n",
    "data.head(20)"
   ]
  },
  {
   "cell_type": "code",
   "execution_count": 2,
   "metadata": {},
   "outputs": [
    {
     "name": "stdout",
     "output_type": "stream",
     "text": [
      "(1000, 7)\n"
     ]
    }
   ],
   "source": [
    "print(data.shape)\n",
    "# The size of the data set: \n",
    "# 7 columns representing 8 different categories\n",
    "# 1000 lines representing 1000 students- enough to draw conclusions :)"
   ]
  },
  {
   "cell_type": "code",
   "execution_count": 3,
   "metadata": {},
   "outputs": [
    {
     "data": {
      "text/plain": [
       "gender                         0\n",
       "race/ethnicity                 0\n",
       "parental level of education    0\n",
       "test preparation course        0\n",
       "math score                     0\n",
       "reading score                  0\n",
       "writing score                  0\n",
       "dtype: int64"
      ]
     },
     "execution_count": 3,
     "metadata": {},
     "output_type": "execute_result"
    }
   ],
   "source": [
    "data.isnull().sum()\n",
    "# Check that there is not much missing values"
   ]
  },
  {
   "cell_type": "code",
   "execution_count": 4,
   "metadata": {},
   "outputs": [],
   "source": [
    "# We can see that there are no lack of values at all."
   ]
  },
  {
   "cell_type": "code",
   "execution_count": 5,
   "metadata": {},
   "outputs": [
    {
     "data": {
      "text/html": [
       "<div>\n",
       "<style scoped>\n",
       "    .dataframe tbody tr th:only-of-type {\n",
       "        vertical-align: middle;\n",
       "    }\n",
       "\n",
       "    .dataframe tbody tr th {\n",
       "        vertical-align: top;\n",
       "    }\n",
       "\n",
       "    .dataframe thead th {\n",
       "        text-align: right;\n",
       "    }\n",
       "</style>\n",
       "<table border=\"1\" class=\"dataframe\">\n",
       "  <thead>\n",
       "    <tr style=\"text-align: right;\">\n",
       "      <th></th>\n",
       "      <th>gender</th>\n",
       "      <th>race/ethnicity</th>\n",
       "      <th>parental level of education</th>\n",
       "      <th>test preparation course</th>\n",
       "      <th>math score</th>\n",
       "      <th>reading score</th>\n",
       "      <th>writing score</th>\n",
       "      <th>final grade</th>\n",
       "    </tr>\n",
       "  </thead>\n",
       "  <tbody>\n",
       "    <tr>\n",
       "      <th>178</th>\n",
       "      <td>female</td>\n",
       "      <td>group B</td>\n",
       "      <td>master's degree</td>\n",
       "      <td>completed</td>\n",
       "      <td>52</td>\n",
       "      <td>70</td>\n",
       "      <td>62</td>\n",
       "      <td>61.333333</td>\n",
       "    </tr>\n",
       "    <tr>\n",
       "      <th>509</th>\n",
       "      <td>female</td>\n",
       "      <td>group C</td>\n",
       "      <td>bachelor's degree</td>\n",
       "      <td>none</td>\n",
       "      <td>86</td>\n",
       "      <td>92</td>\n",
       "      <td>87</td>\n",
       "      <td>88.333333</td>\n",
       "    </tr>\n",
       "    <tr>\n",
       "      <th>317</th>\n",
       "      <td>male</td>\n",
       "      <td>group C</td>\n",
       "      <td>associate's degree</td>\n",
       "      <td>none</td>\n",
       "      <td>83</td>\n",
       "      <td>72</td>\n",
       "      <td>78</td>\n",
       "      <td>77.666667</td>\n",
       "    </tr>\n",
       "    <tr>\n",
       "      <th>398</th>\n",
       "      <td>male</td>\n",
       "      <td>group B</td>\n",
       "      <td>some high school</td>\n",
       "      <td>none</td>\n",
       "      <td>74</td>\n",
       "      <td>63</td>\n",
       "      <td>57</td>\n",
       "      <td>64.666667</td>\n",
       "    </tr>\n",
       "    <tr>\n",
       "      <th>915</th>\n",
       "      <td>female</td>\n",
       "      <td>group E</td>\n",
       "      <td>some college</td>\n",
       "      <td>none</td>\n",
       "      <td>68</td>\n",
       "      <td>70</td>\n",
       "      <td>66</td>\n",
       "      <td>68.000000</td>\n",
       "    </tr>\n",
       "  </tbody>\n",
       "</table>\n",
       "</div>"
      ],
      "text/plain": [
       "     gender race/ethnicity parental level of education  \\\n",
       "178  female        group B             master's degree   \n",
       "509  female        group C           bachelor's degree   \n",
       "317    male        group C          associate's degree   \n",
       "398    male        group B            some high school   \n",
       "915  female        group E                some college   \n",
       "\n",
       "    test preparation course  math score  reading score  writing score  \\\n",
       "178               completed          52             70             62   \n",
       "509                    none          86             92             87   \n",
       "317                    none          83             72             78   \n",
       "398                    none          74             63             57   \n",
       "915                    none          68             70             66   \n",
       "\n",
       "     final grade  \n",
       "178    61.333333  \n",
       "509    88.333333  \n",
       "317    77.666667  \n",
       "398    64.666667  \n",
       "915    68.000000  "
      ]
     },
     "execution_count": 5,
     "metadata": {},
     "output_type": "execute_result"
    }
   ],
   "source": [
    "# Now I want to add a column that shows the student's final score (math grade, reading and writing together)\n",
    "data['final grade']= (data['math score']+data['reading score']+data['writing score'])/3\n",
    "data.sample(5)"
   ]
  },
  {
   "cell_type": "code",
   "execution_count": 6,
   "metadata": {},
   "outputs": [
    {
     "data": {
      "text/html": [
       "<div>\n",
       "<style scoped>\n",
       "    .dataframe tbody tr th:only-of-type {\n",
       "        vertical-align: middle;\n",
       "    }\n",
       "\n",
       "    .dataframe tbody tr th {\n",
       "        vertical-align: top;\n",
       "    }\n",
       "\n",
       "    .dataframe thead th {\n",
       "        text-align: right;\n",
       "    }\n",
       "</style>\n",
       "<table border=\"1\" class=\"dataframe\">\n",
       "  <thead>\n",
       "    <tr style=\"text-align: right;\">\n",
       "      <th></th>\n",
       "      <th>math score</th>\n",
       "      <th>reading score</th>\n",
       "      <th>writing score</th>\n",
       "      <th>final grade</th>\n",
       "    </tr>\n",
       "  </thead>\n",
       "  <tbody>\n",
       "    <tr>\n",
       "      <th>count</th>\n",
       "      <td>1000.00000</td>\n",
       "      <td>1000.000000</td>\n",
       "      <td>1000.000000</td>\n",
       "      <td>1000.000000</td>\n",
       "    </tr>\n",
       "    <tr>\n",
       "      <th>mean</th>\n",
       "      <td>66.08900</td>\n",
       "      <td>69.169000</td>\n",
       "      <td>68.054000</td>\n",
       "      <td>67.770667</td>\n",
       "    </tr>\n",
       "    <tr>\n",
       "      <th>std</th>\n",
       "      <td>15.16308</td>\n",
       "      <td>14.600192</td>\n",
       "      <td>15.195657</td>\n",
       "      <td>14.257326</td>\n",
       "    </tr>\n",
       "    <tr>\n",
       "      <th>min</th>\n",
       "      <td>0.00000</td>\n",
       "      <td>17.000000</td>\n",
       "      <td>10.000000</td>\n",
       "      <td>9.000000</td>\n",
       "    </tr>\n",
       "    <tr>\n",
       "      <th>25%</th>\n",
       "      <td>57.00000</td>\n",
       "      <td>59.000000</td>\n",
       "      <td>57.750000</td>\n",
       "      <td>58.333333</td>\n",
       "    </tr>\n",
       "    <tr>\n",
       "      <th>50%</th>\n",
       "      <td>66.00000</td>\n",
       "      <td>70.000000</td>\n",
       "      <td>69.000000</td>\n",
       "      <td>68.333333</td>\n",
       "    </tr>\n",
       "    <tr>\n",
       "      <th>75%</th>\n",
       "      <td>77.00000</td>\n",
       "      <td>79.000000</td>\n",
       "      <td>79.000000</td>\n",
       "      <td>77.666667</td>\n",
       "    </tr>\n",
       "    <tr>\n",
       "      <th>max</th>\n",
       "      <td>100.00000</td>\n",
       "      <td>100.000000</td>\n",
       "      <td>100.000000</td>\n",
       "      <td>100.000000</td>\n",
       "    </tr>\n",
       "  </tbody>\n",
       "</table>\n",
       "</div>"
      ],
      "text/plain": [
       "       math score  reading score  writing score  final grade\n",
       "count  1000.00000    1000.000000    1000.000000  1000.000000\n",
       "mean     66.08900      69.169000      68.054000    67.770667\n",
       "std      15.16308      14.600192      15.195657    14.257326\n",
       "min       0.00000      17.000000      10.000000     9.000000\n",
       "25%      57.00000      59.000000      57.750000    58.333333\n",
       "50%      66.00000      70.000000      69.000000    68.333333\n",
       "75%      77.00000      79.000000      79.000000    77.666667\n",
       "max     100.00000     100.000000     100.000000   100.000000"
      ]
     },
     "execution_count": 6,
     "metadata": {},
     "output_type": "execute_result"
    }
   ],
   "source": [
    "data.describe()\n",
    "# Basic learning about the data- set"
   ]
  },
  {
   "cell_type": "code",
   "execution_count": 7,
   "metadata": {},
   "outputs": [],
   "source": [
    "# The data above show that:\n",
    "# 1) The average and standard deviation for the three grades is quite similar.\n",
    "# 2) In the three subjects the maximum score was 100. \n",
    "# 3) Only in math had a student whose score was 0."
   ]
  },
  {
   "cell_type": "markdown",
   "metadata": {},
   "source": [
    " # What are the students' strengths: math, reading or writing?"
   ]
  },
  {
   "cell_type": "code",
   "execution_count": 8,
   "metadata": {},
   "outputs": [
    {
     "data": {
      "text/plain": [
       "math score       66.089000\n",
       "reading score    69.169000\n",
       "writing score    68.054000\n",
       "final grade      67.770667\n",
       "dtype: float64"
      ]
     },
     "execution_count": 8,
     "metadata": {},
     "output_type": "execute_result"
    }
   ],
   "source": [
    "data.mean(numeric_only='true')"
   ]
  },
  {
   "cell_type": "code",
   "execution_count": 9,
   "metadata": {},
   "outputs": [
    {
     "data": {
      "text/plain": [
       "<matplotlib.axes._subplots.AxesSubplot at 0x27fda312fd0>"
      ]
     },
     "execution_count": 9,
     "metadata": {},
     "output_type": "execute_result"
    },
    {
     "data": {
      "image/png": "[encoded data removed]",
      "text/plain": [
       "<Figure size 432x288 with 1 Axes>"
      ]
     },
     "metadata": {
      "needs_background": "light"
     },
     "output_type": "display_data"
    }
   ],
   "source": [
    "data.mean(numeric_only='true').plot(kind='bar', ylim= [0,100])"
   ]
  },
  {
   "cell_type": "code",
   "execution_count": 10,
   "metadata": {},
   "outputs": [],
   "source": [
    " # We can notice that the scores are quite similar, but the average math is lower than the others."
   ]
  },
  {
   "cell_type": "code",
   "execution_count": 11,
   "metadata": {},
   "outputs": [
    {
     "data": {
      "text/html": [
       "<div>\n",
       "<style scoped>\n",
       "    .dataframe tbody tr th:only-of-type {\n",
       "        vertical-align: middle;\n",
       "    }\n",
       "\n",
       "    .dataframe tbody tr th {\n",
       "        vertical-align: top;\n",
       "    }\n",
       "\n",
       "    .dataframe thead th {\n",
       "        text-align: right;\n",
       "    }\n",
       "</style>\n",
       "<table border=\"1\" class=\"dataframe\">\n",
       "  <thead>\n",
       "    <tr style=\"text-align: right;\">\n",
       "      <th></th>\n",
       "      <th>math score</th>\n",
       "      <th>reading score</th>\n",
       "      <th>writing score</th>\n",
       "      <th>final grade</th>\n",
       "    </tr>\n",
       "    <tr>\n",
       "      <th>gender</th>\n",
       "      <th></th>\n",
       "      <th></th>\n",
       "      <th></th>\n",
       "      <th></th>\n",
       "    </tr>\n",
       "  </thead>\n",
       "  <tbody>\n",
       "    <tr>\n",
       "      <th>female</th>\n",
       "      <td>63.633205</td>\n",
       "      <td>72.608108</td>\n",
       "      <td>72.467181</td>\n",
       "      <td>69.569498</td>\n",
       "    </tr>\n",
       "    <tr>\n",
       "      <th>male</th>\n",
       "      <td>68.728216</td>\n",
       "      <td>65.473029</td>\n",
       "      <td>63.311203</td>\n",
       "      <td>65.837483</td>\n",
       "    </tr>\n",
       "  </tbody>\n",
       "</table>\n",
       "</div>"
      ],
      "text/plain": [
       "        math score  reading score  writing score  final grade\n",
       "gender                                                       \n",
       "female   63.633205      72.608108      72.467181    69.569498\n",
       "male     68.728216      65.473029      63.311203    65.837483"
      ]
     },
     "execution_count": 11,
     "metadata": {},
     "output_type": "execute_result"
    }
   ],
   "source": [
    "# Now, it is interesting to see who leads in every subject- boys or girls? \n",
    "\n",
    "data.groupby(['gender']).mean()"
   ]
  },
  {
   "cell_type": "code",
   "execution_count": 12,
   "metadata": {},
   "outputs": [
    {
     "data": {
      "text/plain": [
       "<matplotlib.axes._subplots.AxesSubplot at 0x27fda4d2d68>"
      ]
     },
     "execution_count": 12,
     "metadata": {},
     "output_type": "execute_result"
    },
    {
     "data": {
      "image/png": "[encoded data removed]",
      "text/plain": [
       "<Figure size 432x288 with 1 Axes>"
      ]
     },
     "metadata": {
      "needs_background": "light"
     },
     "output_type": "display_data"
    }
   ],
   "source": [
    "data.groupby(['gender']).mean().plot(ylim= [0,100], kind= 'bar')"
   ]
  },
  {
   "cell_type": "code",
   "execution_count": 13,
   "metadata": {},
   "outputs": [],
   "source": [
    "# In general, the girls' final grade is higher than that of the boys.\n",
    "# And if we look more deeply: girls have higher grades in reading and writing, while boys lead in math."
   ]
  },
  {
   "cell_type": "code",
   "execution_count": 14,
   "metadata": {},
   "outputs": [],
   "source": [
    "# Let's cheak out  in each subject: how many students passed the test and how many failed. "
   ]
  },
  {
   "cell_type": "code",
   "execution_count": 15,
   "metadata": {},
   "outputs": [
    {
     "data": {
      "text/plain": [
       "Passed    677\n",
       "Failed    323\n",
       "Name: Math_PassOrNot, dtype: int64"
      ]
     },
     "execution_count": 15,
     "metadata": {},
     "output_type": "execute_result"
    }
   ],
   "source": [
    "data['Math_PassOrNot']= np.where(data['math score']<60, 'Failed', 'Passed')\n",
    "data.Math_PassOrNot.value_counts()"
   ]
  },
  {
   "cell_type": "code",
   "execution_count": 16,
   "metadata": {},
   "outputs": [
    {
     "data": {
      "text/plain": [
       "Passed    719\n",
       "Failed    281\n",
       "Name: Writing_PassOrNot, dtype: int64"
      ]
     },
     "execution_count": 16,
     "metadata": {},
     "output_type": "execute_result"
    }
   ],
   "source": [
    "data['Writing_PassOrNot']= np.where(data['writing score']<60, 'Failed', 'Passed')\n",
    "data.Writing_PassOrNot.value_counts()"
   ]
  },
  {
   "cell_type": "code",
   "execution_count": 17,
   "metadata": {},
   "outputs": [
    {
     "data": {
      "text/plain": [
       "Passed    746\n",
       "Failed    254\n",
       "Name: Reading_PassOrNot, dtype: int64"
      ]
     },
     "execution_count": 17,
     "metadata": {},
     "output_type": "execute_result"
    }
   ],
   "source": [
    "data['Reading_PassOrNot']= np.where(data['reading score']<60, 'Failed', 'Passed')\n",
    "data.Reading_PassOrNot.value_counts()"
   ]
  },
  {
   "cell_type": "code",
   "execution_count": 18,
   "metadata": {},
   "outputs": [],
   "source": [
    "# Math has the greatest amount of failure."
   ]
  },
  {
   "cell_type": "code",
   "execution_count": 19,
   "metadata": {},
   "outputs": [
    {
     "data": {
      "text/plain": [
       "Passed    715\n",
       "Failed    285\n",
       "Name: PassStatus, dtype: int64"
      ]
     },
     "execution_count": 19,
     "metadata": {},
     "output_type": "execute_result"
    }
   ],
   "source": [
    "# Now let's cheak the distribution of passes and failures by boys and girls. \n",
    "\n",
    "data= data.rename({'final grade':'grade'}, axis='columns')\n",
    "\n",
    "data['PassStatus']= np.where(data['grade']<60, 'Failed', 'Passed')\n",
    "data.PassStatus.value_counts()"
   ]
  },
  {
   "cell_type": "code",
   "execution_count": 20,
   "metadata": {},
   "outputs": [
    {
     "data": {
      "image/png": "[encoded data removed]",
      "text/plain": [
       "<Figure size 432x432 with 1 Axes>"
      ]
     },
     "metadata": {
      "needs_background": "light"
     },
     "output_type": "display_data"
    }
   ],
   "source": [
    "plt.figure(figsize=(6,6))\n",
    "sns.countplot(x=\"gender\", hue=\"PassStatus\", data=data, color='black')\n",
    "plt.show()"
   ]
  },
  {
   "cell_type": "markdown",
   "metadata": {},
   "source": [
    "# How much exam preparation course is effective ?"
   ]
  },
  {
   "cell_type": "code",
   "execution_count": 21,
   "metadata": {},
   "outputs": [
    {
     "data": {
      "text/html": [
       "<div>\n",
       "<style scoped>\n",
       "    .dataframe tbody tr th:only-of-type {\n",
       "        vertical-align: middle;\n",
       "    }\n",
       "\n",
       "    .dataframe tbody tr th {\n",
       "        vertical-align: top;\n",
       "    }\n",
       "\n",
       "    .dataframe thead th {\n",
       "        text-align: right;\n",
       "    }\n",
       "</style>\n",
       "<table border=\"1\" class=\"dataframe\">\n",
       "  <thead>\n",
       "    <tr style=\"text-align: right;\">\n",
       "      <th></th>\n",
       "      <th>gender</th>\n",
       "      <th>race/ethnicity</th>\n",
       "      <th>parental level of education</th>\n",
       "      <th>course</th>\n",
       "      <th>math score</th>\n",
       "      <th>reading score</th>\n",
       "      <th>writing score</th>\n",
       "      <th>grade</th>\n",
       "      <th>Math_PassOrNot</th>\n",
       "      <th>Writing_PassOrNot</th>\n",
       "      <th>Reading_PassOrNot</th>\n",
       "      <th>PassStatus</th>\n",
       "    </tr>\n",
       "  </thead>\n",
       "  <tbody>\n",
       "    <tr>\n",
       "      <th>0</th>\n",
       "      <td>female</td>\n",
       "      <td>group B</td>\n",
       "      <td>bachelor's degree</td>\n",
       "      <td>none</td>\n",
       "      <td>72</td>\n",
       "      <td>72</td>\n",
       "      <td>74</td>\n",
       "      <td>72.666667</td>\n",
       "      <td>Passed</td>\n",
       "      <td>Passed</td>\n",
       "      <td>Passed</td>\n",
       "      <td>Passed</td>\n",
       "    </tr>\n",
       "    <tr>\n",
       "      <th>1</th>\n",
       "      <td>female</td>\n",
       "      <td>group C</td>\n",
       "      <td>some college</td>\n",
       "      <td>completed</td>\n",
       "      <td>69</td>\n",
       "      <td>90</td>\n",
       "      <td>88</td>\n",
       "      <td>82.333333</td>\n",
       "      <td>Passed</td>\n",
       "      <td>Passed</td>\n",
       "      <td>Passed</td>\n",
       "      <td>Passed</td>\n",
       "    </tr>\n",
       "    <tr>\n",
       "      <th>2</th>\n",
       "      <td>female</td>\n",
       "      <td>group B</td>\n",
       "      <td>master's degree</td>\n",
       "      <td>none</td>\n",
       "      <td>90</td>\n",
       "      <td>95</td>\n",
       "      <td>93</td>\n",
       "      <td>92.666667</td>\n",
       "      <td>Passed</td>\n",
       "      <td>Passed</td>\n",
       "      <td>Passed</td>\n",
       "      <td>Passed</td>\n",
       "    </tr>\n",
       "    <tr>\n",
       "      <th>3</th>\n",
       "      <td>male</td>\n",
       "      <td>group A</td>\n",
       "      <td>associate's degree</td>\n",
       "      <td>none</td>\n",
       "      <td>47</td>\n",
       "      <td>57</td>\n",
       "      <td>44</td>\n",
       "      <td>49.333333</td>\n",
       "      <td>Failed</td>\n",
       "      <td>Failed</td>\n",
       "      <td>Failed</td>\n",
       "      <td>Failed</td>\n",
       "    </tr>\n",
       "    <tr>\n",
       "      <th>4</th>\n",
       "      <td>male</td>\n",
       "      <td>group C</td>\n",
       "      <td>some college</td>\n",
       "      <td>none</td>\n",
       "      <td>76</td>\n",
       "      <td>78</td>\n",
       "      <td>75</td>\n",
       "      <td>76.333333</td>\n",
       "      <td>Passed</td>\n",
       "      <td>Passed</td>\n",
       "      <td>Passed</td>\n",
       "      <td>Passed</td>\n",
       "    </tr>\n",
       "  </tbody>\n",
       "</table>\n",
       "</div>"
      ],
      "text/plain": [
       "   gender race/ethnicity parental level of education     course  math score  \\\n",
       "0  female        group B           bachelor's degree       none          72   \n",
       "1  female        group C                some college  completed          69   \n",
       "2  female        group B             master's degree       none          90   \n",
       "3    male        group A          associate's degree       none          47   \n",
       "4    male        group C                some college       none          76   \n",
       "\n",
       "   reading score  writing score      grade Math_PassOrNot Writing_PassOrNot  \\\n",
       "0             72             74  72.666667         Passed            Passed   \n",
       "1             90             88  82.333333         Passed            Passed   \n",
       "2             95             93  92.666667         Passed            Passed   \n",
       "3             57             44  49.333333         Failed            Failed   \n",
       "4             78             75  76.333333         Passed            Passed   \n",
       "\n",
       "  Reading_PassOrNot PassStatus  \n",
       "0            Passed     Passed  \n",
       "1            Passed     Passed  \n",
       "2            Passed     Passed  \n",
       "3            Failed     Failed  \n",
       "4            Passed     Passed  "
      ]
     },
     "execution_count": 21,
     "metadata": {},
     "output_type": "execute_result"
    }
   ],
   "source": [
    "data= data.rename({'test preparation course':'course'}, axis='columns')\n",
    "data.head()"
   ]
  },
  {
   "cell_type": "code",
   "execution_count": 22,
   "metadata": {},
   "outputs": [
    {
     "data": {
      "text/plain": [
       "none         642\n",
       "completed    358\n",
       "Name: course, dtype: int64"
      ]
     },
     "execution_count": 22,
     "metadata": {},
     "output_type": "execute_result"
    }
   ],
   "source": [
    "# We will see how many of the examinees chose to take a preparatory course.\n",
    "data['course'].value_counts()"
   ]
  },
  {
   "cell_type": "code",
   "execution_count": 23,
   "metadata": {},
   "outputs": [
    {
     "data": {
      "image/png": "[encoded data removed]",
      "text/plain": [
       "<Figure size 432x288 with 1 Axes>"
      ]
     },
     "metadata": {},
     "output_type": "display_data"
    }
   ],
   "source": [
    "labels = ['none', 'completed']\n",
    "sizes = [642, 358]\n",
    "colors = ['yellowgreen', 'lightcoral']\n",
    "patches, texts = plt.pie(sizes, colors=colors, shadow=True, startangle=90)\n",
    "plt.legend(patches, labels, loc=\"best\")\n",
    "plt.axis('equal')\n",
    "plt.tight_layout()\n",
    "plt.show()"
   ]
  },
  {
   "cell_type": "code",
   "execution_count": 24,
   "metadata": {},
   "outputs": [],
   "source": [
    "# We see that most students chose not to take a test preparation course. "
   ]
  },
  {
   "cell_type": "code",
   "execution_count": 25,
   "metadata": {},
   "outputs": [
    {
     "data": {
      "text/plain": [
       "<matplotlib.axes._subplots.AxesSubplot at 0x27fda8d1a90>"
      ]
     },
     "execution_count": 25,
     "metadata": {},
     "output_type": "execute_result"
    },
    {
     "data": {
      "image/png": "[encoded data removed]",
      "text/plain": [
       "<Figure size 432x288 with 1 Axes>"
      ]
     },
     "metadata": {
      "needs_background": "light"
     },
     "output_type": "display_data"
    }
   ],
   "source": [
    "data.groupby(['course']).mean().plot(ylim= [0,100], kind= 'bar')"
   ]
  },
  {
   "cell_type": "code",
   "execution_count": 26,
   "metadata": {},
   "outputs": [],
   "source": [
    "# we can see, in general, that students who chose to take a preparatory course were eventually given higher grades. "
   ]
  },
  {
   "cell_type": "markdown",
   "metadata": {},
   "source": [
    "# Are socio-economic factors and parental level of education affecting exam scores? "
   ]
  },
  {
   "cell_type": "code",
   "execution_count": 27,
   "metadata": {},
   "outputs": [],
   "source": [
    "# Let's examine the effect of parents' education on student scores on the various tests: "
   ]
  },
  {
   "cell_type": "code",
   "execution_count": 28,
   "metadata": {},
   "outputs": [
    {
     "data": {
      "text/html": [
       "<div>\n",
       "<style scoped>\n",
       "    .dataframe tbody tr th:only-of-type {\n",
       "        vertical-align: middle;\n",
       "    }\n",
       "\n",
       "    .dataframe tbody tr th {\n",
       "        vertical-align: top;\n",
       "    }\n",
       "\n",
       "    .dataframe thead th {\n",
       "        text-align: right;\n",
       "    }\n",
       "</style>\n",
       "<table border=\"1\" class=\"dataframe\">\n",
       "  <thead>\n",
       "    <tr style=\"text-align: right;\">\n",
       "      <th></th>\n",
       "      <th>math score</th>\n",
       "      <th>reading score</th>\n",
       "      <th>writing score</th>\n",
       "      <th>grade</th>\n",
       "    </tr>\n",
       "    <tr>\n",
       "      <th>parental level of education</th>\n",
       "      <th></th>\n",
       "      <th></th>\n",
       "      <th></th>\n",
       "      <th></th>\n",
       "    </tr>\n",
       "  </thead>\n",
       "  <tbody>\n",
       "    <tr>\n",
       "      <th>associate's degree</th>\n",
       "      <td>67.882883</td>\n",
       "      <td>70.927928</td>\n",
       "      <td>69.896396</td>\n",
       "      <td>69.569069</td>\n",
       "    </tr>\n",
       "    <tr>\n",
       "      <th>bachelor's degree</th>\n",
       "      <td>69.389831</td>\n",
       "      <td>73.000000</td>\n",
       "      <td>73.381356</td>\n",
       "      <td>71.923729</td>\n",
       "    </tr>\n",
       "    <tr>\n",
       "      <th>high school</th>\n",
       "      <td>62.137755</td>\n",
       "      <td>64.704082</td>\n",
       "      <td>62.448980</td>\n",
       "      <td>63.096939</td>\n",
       "    </tr>\n",
       "    <tr>\n",
       "      <th>master's degree</th>\n",
       "      <td>69.745763</td>\n",
       "      <td>75.372881</td>\n",
       "      <td>75.677966</td>\n",
       "      <td>73.598870</td>\n",
       "    </tr>\n",
       "    <tr>\n",
       "      <th>some college</th>\n",
       "      <td>67.128319</td>\n",
       "      <td>69.460177</td>\n",
       "      <td>68.840708</td>\n",
       "      <td>68.476401</td>\n",
       "    </tr>\n",
       "    <tr>\n",
       "      <th>some high school</th>\n",
       "      <td>63.497207</td>\n",
       "      <td>66.938547</td>\n",
       "      <td>64.888268</td>\n",
       "      <td>65.108007</td>\n",
       "    </tr>\n",
       "  </tbody>\n",
       "</table>\n",
       "</div>"
      ],
      "text/plain": [
       "                             math score  reading score  writing score  \\\n",
       "parental level of education                                             \n",
       "associate's degree            67.882883      70.927928      69.896396   \n",
       "bachelor's degree             69.389831      73.000000      73.381356   \n",
       "high school                   62.137755      64.704082      62.448980   \n",
       "master's degree               69.745763      75.372881      75.677966   \n",
       "some college                  67.128319      69.460177      68.840708   \n",
       "some high school              63.497207      66.938547      64.888268   \n",
       "\n",
       "                                 grade  \n",
       "parental level of education             \n",
       "associate's degree           69.569069  \n",
       "bachelor's degree            71.923729  \n",
       "high school                  63.096939  \n",
       "master's degree              73.598870  \n",
       "some college                 68.476401  \n",
       "some high school             65.108007  "
      ]
     },
     "execution_count": 28,
     "metadata": {},
     "output_type": "execute_result"
    }
   ],
   "source": [
    "data.groupby(['parental level of education']).mean()"
   ]
  },
  {
   "cell_type": "code",
   "execution_count": 29,
   "metadata": {},
   "outputs": [
    {
     "data": {
      "text/html": [
       "<div>\n",
       "<style scoped>\n",
       "    .dataframe tbody tr th:only-of-type {\n",
       "        vertical-align: middle;\n",
       "    }\n",
       "\n",
       "    .dataframe tbody tr th {\n",
       "        vertical-align: top;\n",
       "    }\n",
       "\n",
       "    .dataframe thead th {\n",
       "        text-align: right;\n",
       "    }\n",
       "</style>\n",
       "<table border=\"1\" class=\"dataframe\">\n",
       "  <thead>\n",
       "    <tr style=\"text-align: right;\">\n",
       "      <th></th>\n",
       "      <th>gender</th>\n",
       "      <th>race/ethnicity</th>\n",
       "      <th>parentDegree</th>\n",
       "      <th>course</th>\n",
       "      <th>math score</th>\n",
       "      <th>reading score</th>\n",
       "      <th>writing score</th>\n",
       "      <th>grade</th>\n",
       "      <th>Math_PassOrNot</th>\n",
       "      <th>Writing_PassOrNot</th>\n",
       "      <th>Reading_PassOrNot</th>\n",
       "      <th>PassStatus</th>\n",
       "    </tr>\n",
       "  </thead>\n",
       "  <tbody>\n",
       "    <tr>\n",
       "      <th>0</th>\n",
       "      <td>female</td>\n",
       "      <td>group B</td>\n",
       "      <td>bachelor's degree</td>\n",
       "      <td>none</td>\n",
       "      <td>72</td>\n",
       "      <td>72</td>\n",
       "      <td>74</td>\n",
       "      <td>72.666667</td>\n",
       "      <td>Passed</td>\n",
       "      <td>Passed</td>\n",
       "      <td>Passed</td>\n",
       "      <td>Passed</td>\n",
       "    </tr>\n",
       "    <tr>\n",
       "      <th>1</th>\n",
       "      <td>female</td>\n",
       "      <td>group C</td>\n",
       "      <td>some college</td>\n",
       "      <td>completed</td>\n",
       "      <td>69</td>\n",
       "      <td>90</td>\n",
       "      <td>88</td>\n",
       "      <td>82.333333</td>\n",
       "      <td>Passed</td>\n",
       "      <td>Passed</td>\n",
       "      <td>Passed</td>\n",
       "      <td>Passed</td>\n",
       "    </tr>\n",
       "    <tr>\n",
       "      <th>2</th>\n",
       "      <td>female</td>\n",
       "      <td>group B</td>\n",
       "      <td>master's degree</td>\n",
       "      <td>none</td>\n",
       "      <td>90</td>\n",
       "      <td>95</td>\n",
       "      <td>93</td>\n",
       "      <td>92.666667</td>\n",
       "      <td>Passed</td>\n",
       "      <td>Passed</td>\n",
       "      <td>Passed</td>\n",
       "      <td>Passed</td>\n",
       "    </tr>\n",
       "    <tr>\n",
       "      <th>3</th>\n",
       "      <td>male</td>\n",
       "      <td>group A</td>\n",
       "      <td>associate's degree</td>\n",
       "      <td>none</td>\n",
       "      <td>47</td>\n",
       "      <td>57</td>\n",
       "      <td>44</td>\n",
       "      <td>49.333333</td>\n",
       "      <td>Failed</td>\n",
       "      <td>Failed</td>\n",
       "      <td>Failed</td>\n",
       "      <td>Failed</td>\n",
       "    </tr>\n",
       "    <tr>\n",
       "      <th>4</th>\n",
       "      <td>male</td>\n",
       "      <td>group C</td>\n",
       "      <td>some college</td>\n",
       "      <td>none</td>\n",
       "      <td>76</td>\n",
       "      <td>78</td>\n",
       "      <td>75</td>\n",
       "      <td>76.333333</td>\n",
       "      <td>Passed</td>\n",
       "      <td>Passed</td>\n",
       "      <td>Passed</td>\n",
       "      <td>Passed</td>\n",
       "    </tr>\n",
       "  </tbody>\n",
       "</table>\n",
       "</div>"
      ],
      "text/plain": [
       "   gender race/ethnicity        parentDegree     course  math score  \\\n",
       "0  female        group B   bachelor's degree       none          72   \n",
       "1  female        group C        some college  completed          69   \n",
       "2  female        group B     master's degree       none          90   \n",
       "3    male        group A  associate's degree       none          47   \n",
       "4    male        group C        some college       none          76   \n",
       "\n",
       "   reading score  writing score      grade Math_PassOrNot Writing_PassOrNot  \\\n",
       "0             72             74  72.666667         Passed            Passed   \n",
       "1             90             88  82.333333         Passed            Passed   \n",
       "2             95             93  92.666667         Passed            Passed   \n",
       "3             57             44  49.333333         Failed            Failed   \n",
       "4             78             75  76.333333         Passed            Passed   \n",
       "\n",
       "  Reading_PassOrNot PassStatus  \n",
       "0            Passed     Passed  \n",
       "1            Passed     Passed  \n",
       "2            Passed     Passed  \n",
       "3            Failed     Failed  \n",
       "4            Passed     Passed  "
      ]
     },
     "execution_count": 29,
     "metadata": {},
     "output_type": "execute_result"
    }
   ],
   "source": [
    "data= data.rename({'parental level of education':'parentDegree'}, axis='columns')\n",
    "data.head()"
   ]
  },
  {
   "cell_type": "code",
   "execution_count": 30,
   "metadata": {},
   "outputs": [
    {
     "name": "stdout",
     "output_type": "stream",
     "text": [
      "     gender race/ethnicity  parentDegree     course  math score  \\\n",
      "0    female        group B             5       none          72   \n",
      "1    female        group C             3  completed          69   \n",
      "2    female        group B             6       none          90   \n",
      "3      male        group A             4       none          47   \n",
      "4      male        group C             3       none          76   \n",
      "5    female        group B             4       none          71   \n",
      "6    female        group B             3  completed          88   \n",
      "7      male        group B             3       none          40   \n",
      "8      male        group D             1  completed          64   \n",
      "9    female        group B             1       none          38   \n",
      "10     male        group C             4       none          58   \n",
      "11     male        group D             4       none          40   \n",
      "12   female        group B             1       none          65   \n",
      "13     male        group A             3  completed          78   \n",
      "14   female        group A             6       none          50   \n",
      "15   female        group C             2       none          69   \n",
      "16     male        group C             1       none          88   \n",
      "17   female        group B             2       none          18   \n",
      "18     male        group C             6  completed          46   \n",
      "19   female        group C             4       none          54   \n",
      "20     male        group D             1       none          66   \n",
      "21   female        group B             3  completed          65   \n",
      "22     male        group D             3       none          44   \n",
      "23   female        group C             2       none          69   \n",
      "24     male        group D             5  completed          74   \n",
      "25     male        group A             6       none          73   \n",
      "26     male        group B             3       none          69   \n",
      "27   female        group C             5       none          67   \n",
      "28     male        group C             1       none          70   \n",
      "29   female        group D             6       none          62   \n",
      "..      ...            ...           ...        ...         ...   \n",
      "970  female        group D             5       none          89   \n",
      "971    male        group C             2  completed          78   \n",
      "972  female        group A             1  completed          53   \n",
      "973  female        group D             3       none          49   \n",
      "974  female        group A             3       none          54   \n",
      "975  female        group C             3  completed          64   \n",
      "976    male        group B             3  completed          60   \n",
      "977    male        group C             4       none          62   \n",
      "978    male        group D             1  completed          55   \n",
      "979  female        group C             4       none          91   \n",
      "980  female        group B             1       none           8   \n",
      "981    male        group D             2       none          81   \n",
      "982    male        group B             2  completed          79   \n",
      "983  female        group A             3  completed          78   \n",
      "984  female        group C             2       none          74   \n",
      "985    male        group A             1       none          57   \n",
      "986  female        group C             4       none          40   \n",
      "987    male        group E             2  completed          81   \n",
      "988  female        group A             2       none          44   \n",
      "989  female        group D             3  completed          67   \n",
      "990    male        group E             1  completed          86   \n",
      "991  female        group B             2  completed          65   \n",
      "992  female        group D             4       none          55   \n",
      "993  female        group D             5       none          62   \n",
      "994    male        group A             1       none          63   \n",
      "995  female        group E             6  completed          88   \n",
      "996    male        group C             1       none          62   \n",
      "997  female        group C             1  completed          59   \n",
      "998  female        group D             3  completed          68   \n",
      "999  female        group D             3       none          77   \n",
      "\n",
      "     reading score  writing score      grade Math_PassOrNot Writing_PassOrNot  \\\n",
      "0               72             74  72.666667         Passed            Passed   \n",
      "1               90             88  82.333333         Passed            Passed   \n",
      "2               95             93  92.666667         Passed            Passed   \n",
      "3               57             44  49.333333         Failed            Failed   \n",
      "4               78             75  76.333333         Passed            Passed   \n",
      "5               83             78  77.333333         Passed            Passed   \n",
      "6               95             92  91.666667         Passed            Passed   \n",
      "7               43             39  40.666667         Failed            Failed   \n",
      "8               64             67  65.000000         Passed            Passed   \n",
      "9               60             50  49.333333         Failed            Failed   \n",
      "10              54             52  54.666667         Failed            Failed   \n",
      "11              52             43  45.000000         Failed            Failed   \n",
      "12              81             73  73.000000         Passed            Passed   \n",
      "13              72             70  73.333333         Passed            Passed   \n",
      "14              53             58  53.666667         Failed            Failed   \n",
      "15              75             78  74.000000         Passed            Passed   \n",
      "16              89             86  87.666667         Passed            Passed   \n",
      "17              32             28  26.000000         Failed            Failed   \n",
      "18              42             46  44.666667         Failed            Failed   \n",
      "19              58             61  57.666667         Failed            Passed   \n",
      "20              69             63  66.000000         Passed            Passed   \n",
      "21              75             70  70.000000         Passed            Passed   \n",
      "22              54             53  50.333333         Failed            Failed   \n",
      "23              73             73  71.666667         Passed            Passed   \n",
      "24              71             80  75.000000         Passed            Passed   \n",
      "25              74             72  73.000000         Passed            Passed   \n",
      "26              54             55  59.333333         Passed            Failed   \n",
      "27              69             75  70.333333         Passed            Passed   \n",
      "28              70             65  68.333333         Passed            Passed   \n",
      "29              70             75  69.000000         Passed            Passed   \n",
      "..             ...            ...        ...            ...               ...   \n",
      "970            100            100  96.333333         Passed            Passed   \n",
      "971             72             69  73.000000         Passed            Passed   \n",
      "972             50             60  54.333333         Failed            Passed   \n",
      "973             65             61  58.333333         Failed            Passed   \n",
      "974             63             67  61.333333         Failed            Passed   \n",
      "975             82             77  74.333333         Passed            Passed   \n",
      "976             62             60  60.666667         Passed            Passed   \n",
      "977             65             58  61.666667         Passed            Failed   \n",
      "978             41             48  48.000000         Failed            Failed   \n",
      "979             95             94  93.333333         Passed            Passed   \n",
      "980             24             23  18.333333         Failed            Failed   \n",
      "981             78             78  79.000000         Passed            Passed   \n",
      "982             85             86  83.333333         Passed            Passed   \n",
      "983             87             91  85.333333         Passed            Passed   \n",
      "984             75             82  77.000000         Passed            Passed   \n",
      "985             51             54  54.000000         Failed            Failed   \n",
      "986             59             51  50.000000         Failed            Failed   \n",
      "987             75             76  77.333333         Passed            Passed   \n",
      "988             45             45  44.666667         Failed            Failed   \n",
      "989             86             83  78.666667         Passed            Passed   \n",
      "990             81             75  80.666667         Passed            Passed   \n",
      "991             82             78  75.000000         Passed            Passed   \n",
      "992             76             76  69.000000         Failed            Passed   \n",
      "993             72             74  69.333333         Passed            Passed   \n",
      "994             63             62  62.666667         Passed            Passed   \n",
      "995             99             95  94.000000         Passed            Passed   \n",
      "996             55             55  57.333333         Passed            Failed   \n",
      "997             71             65  65.000000         Failed            Passed   \n",
      "998             78             77  74.333333         Passed            Passed   \n",
      "999             86             86  83.000000         Passed            Passed   \n",
      "\n",
      "    Reading_PassOrNot PassStatus  \n",
      "0              Passed     Passed  \n",
      "1              Passed     Passed  \n",
      "2              Passed     Passed  \n",
      "3              Failed     Failed  \n",
      "4              Passed     Passed  \n",
      "5              Passed     Passed  \n",
      "6              Passed     Passed  \n",
      "7              Failed     Failed  \n",
      "8              Passed     Passed  \n",
      "9              Passed     Failed  \n",
      "10             Failed     Failed  \n",
      "11             Failed     Failed  \n",
      "12             Passed     Passed  \n",
      "13             Passed     Passed  \n",
      "14             Failed     Failed  \n",
      "15             Passed     Passed  \n",
      "16             Passed     Passed  \n",
      "17             Failed     Failed  \n",
      "18             Failed     Failed  \n",
      "19             Failed     Failed  \n",
      "20             Passed     Passed  \n",
      "21             Passed     Passed  \n",
      "22             Failed     Failed  \n",
      "23             Passed     Passed  \n",
      "24             Passed     Passed  \n",
      "25             Passed     Passed  \n",
      "26             Failed     Failed  \n",
      "27             Passed     Passed  \n",
      "28             Passed     Passed  \n",
      "29             Passed     Passed  \n",
      "..                ...        ...  \n",
      "970            Passed     Passed  \n",
      "971            Passed     Passed  \n",
      "972            Failed     Failed  \n",
      "973            Passed     Failed  \n",
      "974            Passed     Passed  \n",
      "975            Passed     Passed  \n",
      "976            Passed     Passed  \n",
      "977            Passed     Passed  \n",
      "978            Failed     Failed  \n",
      "979            Passed     Passed  \n",
      "980            Failed     Failed  \n",
      "981            Passed     Passed  \n",
      "982            Passed     Passed  \n",
      "983            Passed     Passed  \n",
      "984            Passed     Passed  \n",
      "985            Failed     Failed  \n",
      "986            Failed     Failed  \n",
      "987            Passed     Passed  \n",
      "988            Failed     Failed  \n",
      "989            Passed     Passed  \n",
      "990            Passed     Passed  \n",
      "991            Passed     Passed  \n",
      "992            Passed     Passed  \n",
      "993            Passed     Passed  \n",
      "994            Passed     Passed  \n",
      "995            Passed     Passed  \n",
      "996            Failed     Failed  \n",
      "997            Passed     Passed  \n",
      "998            Passed     Passed  \n",
      "999            Passed     Passed  \n",
      "\n",
      "[1000 rows x 12 columns]\n"
     ]
    }
   ],
   "source": [
    "# I'll rate the level of education by numbers\n",
    "degree= {'high school': 1, 'some high school': 2, 'some college': 3, \"associate's degree\": 4, \"bachelor's degree\": 5, \"master's degree\": 6}\n",
    "data.parentDegree = [degree[item] for item in data.parentDegree] \n",
    "print(data)"
   ]
  },
  {
   "cell_type": "code",
   "execution_count": 31,
   "metadata": {},
   "outputs": [
    {
     "data": {
      "text/plain": [
       "Text(0.5,1,'Math')"
      ]
     },
     "execution_count": 31,
     "metadata": {},
     "output_type": "execute_result"
    },
    {
     "data": {
      "image/png": "[encoded data removed]",
      "text/plain": [
       "<Figure size 432x288 with 1 Axes>"
      ]
     },
     "metadata": {
      "needs_background": "light"
     },
     "output_type": "display_data"
    }
   ],
   "source": [
    "a= sns.countplot(x='parentDegree', data= data, hue='Math_PassOrNot')\n",
    "plt.title('Math')"
   ]
  },
  {
   "cell_type": "code",
   "execution_count": 32,
   "metadata": {},
   "outputs": [
    {
     "data": {
      "text/plain": [
       "Text(0.5,1,'Writing')"
      ]
     },
     "execution_count": 32,
     "metadata": {},
     "output_type": "execute_result"
    },
    {
     "data": {
      "image/png": "[encoded data removed]",
      "text/plain": [
       "<Figure size 432x288 with 1 Axes>"
      ]
     },
     "metadata": {
      "needs_background": "light"
     },
     "output_type": "display_data"
    }
   ],
   "source": [
    "b= sns.countplot(x='parentDegree', data= data, hue='Writing_PassOrNot')\n",
    "plt.title('Writing')"
   ]
  },
  {
   "cell_type": "code",
   "execution_count": 33,
   "metadata": {},
   "outputs": [
    {
     "data": {
      "text/plain": [
       "Text(0.5,1,'Reading')"
      ]
     },
     "execution_count": 33,
     "metadata": {},
     "output_type": "execute_result"
    },
    {
     "data": {
      "image/png": "[encoded data removed]",
      "text/plain": [
       "<Figure size 432x288 with 1 Axes>"
      ]
     },
     "metadata": {
      "needs_background": "light"
     },
     "output_type": "display_data"
    }
   ],
   "source": [
    "c= sns.countplot(x='parentDegree', data= data, hue='Reading_PassOrNot')\n",
    "plt.title('Reading')"
   ]
  },
  {
   "cell_type": "code",
   "execution_count": 34,
   "metadata": {},
   "outputs": [
    {
     "data": {
      "text/plain": [
       "<matplotlib.axes._subplots.AxesSubplot at 0x27fdbca2668>"
      ]
     },
     "execution_count": 34,
     "metadata": {},
     "output_type": "execute_result"
    },
    {
     "data": {
      "image/png": "[encoded data removed]",
      "text/plain": [
       "<Figure size 432x288 with 1 Axes>"
      ]
     },
     "metadata": {
      "needs_background": "light"
     },
     "output_type": "display_data"
    }
   ],
   "source": [
    "data.groupby(['parentDegree']).mean().plot()"
   ]
  },
  {
   "cell_type": "code",
   "execution_count": 35,
   "metadata": {},
   "outputs": [
    {
     "name": "stderr",
     "output_type": "stream",
     "text": [
      "C:\\ProgramData\\Anaconda3\\lib\\site-packages\\scipy\\stats\\stats.py:1713: FutureWarning: Using a non-tuple sequence for multidimensional indexing is deprecated; use `arr[tuple(seq)]` instead of `arr[seq]`. In the future this will be interpreted as an array index, `arr[np.array(seq)]`, which will result either in an error or a different result.\n",
      "  return np.add.reduce(sorted[indexer] * weights, axis=axis) / sumval\n"
     ]
    },
    {
     "data": {
      "text/plain": [
       "<seaborn.axisgrid.FacetGrid at 0x27fdbbe7cf8>"
      ]
     },
     "execution_count": 35,
     "metadata": {},
     "output_type": "execute_result"
    },
    {
     "data": {
      "image/png": "[encoded data removed]",
      "text/plain": [
       "<Figure size 360x360 with 1 Axes>"
      ]
     },
     "metadata": {
      "needs_background": "light"
     },
     "output_type": "display_data"
    }
   ],
   "source": [
    "PD= data[['parentDegree','grade']]\n",
    "sns.lmplot(\"parentDegree\",\"grade\",PD)"
   ]
  },
  {
   "cell_type": "code",
   "execution_count": 36,
   "metadata": {},
   "outputs": [],
   "source": [
    "# We can see that the higher the parental level of education, the higher the average grade of the student. "
   ]
  },
  {
   "cell_type": "code",
   "execution_count": 37,
   "metadata": {},
   "outputs": [
    {
     "data": {
      "text/html": [
       "<div>\n",
       "<style scoped>\n",
       "    .dataframe tbody tr th:only-of-type {\n",
       "        vertical-align: middle;\n",
       "    }\n",
       "\n",
       "    .dataframe tbody tr th {\n",
       "        vertical-align: top;\n",
       "    }\n",
       "\n",
       "    .dataframe thead th {\n",
       "        text-align: right;\n",
       "    }\n",
       "</style>\n",
       "<table border=\"1\" class=\"dataframe\">\n",
       "  <thead>\n",
       "    <tr style=\"text-align: right;\">\n",
       "      <th></th>\n",
       "      <th></th>\n",
       "      <th>math score</th>\n",
       "      <th>reading score</th>\n",
       "      <th>writing score</th>\n",
       "      <th>grade</th>\n",
       "    </tr>\n",
       "    <tr>\n",
       "      <th>race/ethnicity</th>\n",
       "      <th>parentDegree</th>\n",
       "      <th></th>\n",
       "      <th></th>\n",
       "      <th></th>\n",
       "      <th></th>\n",
       "    </tr>\n",
       "  </thead>\n",
       "  <tbody>\n",
       "    <tr>\n",
       "      <th rowspan=\"6\" valign=\"top\">group A</th>\n",
       "      <th>1</th>\n",
       "      <td>60.444444</td>\n",
       "      <td>62.888889</td>\n",
       "      <td>60.500000</td>\n",
       "      <td>61.277778</td>\n",
       "    </tr>\n",
       "    <tr>\n",
       "      <th>2</th>\n",
       "      <td>58.916667</td>\n",
       "      <td>62.083333</td>\n",
       "      <td>58.583333</td>\n",
       "      <td>59.861111</td>\n",
       "    </tr>\n",
       "    <tr>\n",
       "      <th>3</th>\n",
       "      <td>63.888889</td>\n",
       "      <td>65.777778</td>\n",
       "      <td>65.000000</td>\n",
       "      <td>64.888889</td>\n",
       "    </tr>\n",
       "    <tr>\n",
       "      <th>4</th>\n",
       "      <td>61.000000</td>\n",
       "      <td>67.071429</td>\n",
       "      <td>63.571429</td>\n",
       "      <td>63.880952</td>\n",
       "    </tr>\n",
       "    <tr>\n",
       "      <th>5</th>\n",
       "      <td>67.166667</td>\n",
       "      <td>68.083333</td>\n",
       "      <td>68.333333</td>\n",
       "      <td>67.861111</td>\n",
       "    </tr>\n",
       "    <tr>\n",
       "      <th>6</th>\n",
       "      <td>57.666667</td>\n",
       "      <td>64.666667</td>\n",
       "      <td>67.666667</td>\n",
       "      <td>63.333333</td>\n",
       "    </tr>\n",
       "    <tr>\n",
       "      <th rowspan=\"6\" valign=\"top\">group B</th>\n",
       "      <th>1</th>\n",
       "      <td>59.791667</td>\n",
       "      <td>63.458333</td>\n",
       "      <td>61.250000</td>\n",
       "      <td>61.500000</td>\n",
       "    </tr>\n",
       "    <tr>\n",
       "      <th>2</th>\n",
       "      <td>61.815789</td>\n",
       "      <td>66.447368</td>\n",
       "      <td>64.605263</td>\n",
       "      <td>64.289474</td>\n",
       "    </tr>\n",
       "    <tr>\n",
       "      <th>3</th>\n",
       "      <td>63.189189</td>\n",
       "      <td>65.756757</td>\n",
       "      <td>64.189189</td>\n",
       "      <td>64.378378</td>\n",
       "    </tr>\n",
       "    <tr>\n",
       "      <th>4</th>\n",
       "      <td>66.097561</td>\n",
       "      <td>69.585366</td>\n",
       "      <td>68.243902</td>\n",
       "      <td>67.975610</td>\n",
       "    </tr>\n",
       "    <tr>\n",
       "      <th>5</th>\n",
       "      <td>69.300000</td>\n",
       "      <td>72.950000</td>\n",
       "      <td>71.650000</td>\n",
       "      <td>71.300000</td>\n",
       "    </tr>\n",
       "    <tr>\n",
       "      <th>6</th>\n",
       "      <td>67.166667</td>\n",
       "      <td>80.166667</td>\n",
       "      <td>77.166667</td>\n",
       "      <td>74.833333</td>\n",
       "    </tr>\n",
       "    <tr>\n",
       "      <th rowspan=\"6\" valign=\"top\">group C</th>\n",
       "      <th>1</th>\n",
       "      <td>60.906250</td>\n",
       "      <td>64.421875</td>\n",
       "      <td>61.656250</td>\n",
       "      <td>62.328125</td>\n",
       "    </tr>\n",
       "    <tr>\n",
       "      <th>2</th>\n",
       "      <td>60.551020</td>\n",
       "      <td>65.632653</td>\n",
       "      <td>63.285714</td>\n",
       "      <td>63.156463</td>\n",
       "    </tr>\n",
       "    <tr>\n",
       "      <th>3</th>\n",
       "      <td>65.130435</td>\n",
       "      <td>69.420290</td>\n",
       "      <td>68.869565</td>\n",
       "      <td>67.806763</td>\n",
       "    </tr>\n",
       "    <tr>\n",
       "      <th>4</th>\n",
       "      <td>66.730769</td>\n",
       "      <td>71.128205</td>\n",
       "      <td>70.269231</td>\n",
       "      <td>69.376068</td>\n",
       "    </tr>\n",
       "    <tr>\n",
       "      <th>5</th>\n",
       "      <td>68.150000</td>\n",
       "      <td>75.675000</td>\n",
       "      <td>75.900000</td>\n",
       "      <td>73.241667</td>\n",
       "    </tr>\n",
       "    <tr>\n",
       "      <th>6</th>\n",
       "      <td>67.052632</td>\n",
       "      <td>70.526316</td>\n",
       "      <td>69.526316</td>\n",
       "      <td>69.035088</td>\n",
       "    </tr>\n",
       "    <tr>\n",
       "      <th rowspan=\"6\" valign=\"top\">group D</th>\n",
       "      <th>1</th>\n",
       "      <td>62.863636</td>\n",
       "      <td>64.409091</td>\n",
       "      <td>63.159091</td>\n",
       "      <td>63.477273</td>\n",
       "    </tr>\n",
       "    <tr>\n",
       "      <th>2</th>\n",
       "      <td>66.760000</td>\n",
       "      <td>69.980000</td>\n",
       "      <td>69.100000</td>\n",
       "      <td>68.613333</td>\n",
       "    </tr>\n",
       "    <tr>\n",
       "      <th>3</th>\n",
       "      <td>68.731343</td>\n",
       "      <td>70.880597</td>\n",
       "      <td>71.701493</td>\n",
       "      <td>70.437811</td>\n",
       "    </tr>\n",
       "    <tr>\n",
       "      <th>4</th>\n",
       "      <td>67.600000</td>\n",
       "      <td>70.540000</td>\n",
       "      <td>69.860000</td>\n",
       "      <td>69.333333</td>\n",
       "    </tr>\n",
       "    <tr>\n",
       "      <th>5</th>\n",
       "      <td>67.571429</td>\n",
       "      <td>70.142857</td>\n",
       "      <td>71.892857</td>\n",
       "      <td>69.869048</td>\n",
       "    </tr>\n",
       "    <tr>\n",
       "      <th>6</th>\n",
       "      <td>72.521739</td>\n",
       "      <td>77.173913</td>\n",
       "      <td>79.739130</td>\n",
       "      <td>76.478261</td>\n",
       "    </tr>\n",
       "    <tr>\n",
       "      <th rowspan=\"6\" valign=\"top\">group E</th>\n",
       "      <th>1</th>\n",
       "      <td>70.772727</td>\n",
       "      <td>70.318182</td>\n",
       "      <td>67.545455</td>\n",
       "      <td>69.545455</td>\n",
       "    </tr>\n",
       "    <tr>\n",
       "      <th>2</th>\n",
       "      <td>72.111111</td>\n",
       "      <td>69.555556</td>\n",
       "      <td>66.555556</td>\n",
       "      <td>69.407407</td>\n",
       "    </tr>\n",
       "    <tr>\n",
       "      <th>3</th>\n",
       "      <td>73.828571</td>\n",
       "      <td>72.628571</td>\n",
       "      <td>70.200000</td>\n",
       "      <td>72.219048</td>\n",
       "    </tr>\n",
       "    <tr>\n",
       "      <th>4</th>\n",
       "      <td>74.897436</td>\n",
       "      <td>73.820513</td>\n",
       "      <td>73.205128</td>\n",
       "      <td>73.974359</td>\n",
       "    </tr>\n",
       "    <tr>\n",
       "      <th>5</th>\n",
       "      <td>76.555556</td>\n",
       "      <td>74.833333</td>\n",
       "      <td>75.388889</td>\n",
       "      <td>75.592593</td>\n",
       "    </tr>\n",
       "    <tr>\n",
       "      <th>6</th>\n",
       "      <td>74.625000</td>\n",
       "      <td>82.125000</td>\n",
       "      <td>80.500000</td>\n",
       "      <td>79.083333</td>\n",
       "    </tr>\n",
       "  </tbody>\n",
       "</table>\n",
       "</div>"
      ],
      "text/plain": [
       "                             math score  reading score  writing score  \\\n",
       "race/ethnicity parentDegree                                             \n",
       "group A        1              60.444444      62.888889      60.500000   \n",
       "               2              58.916667      62.083333      58.583333   \n",
       "               3              63.888889      65.777778      65.000000   \n",
       "               4              61.000000      67.071429      63.571429   \n",
       "               5              67.166667      68.083333      68.333333   \n",
       "               6              57.666667      64.666667      67.666667   \n",
       "group B        1              59.791667      63.458333      61.250000   \n",
       "               2              61.815789      66.447368      64.605263   \n",
       "               3              63.189189      65.756757      64.189189   \n",
       "               4              66.097561      69.585366      68.243902   \n",
       "               5              69.300000      72.950000      71.650000   \n",
       "               6              67.166667      80.166667      77.166667   \n",
       "group C        1              60.906250      64.421875      61.656250   \n",
       "               2              60.551020      65.632653      63.285714   \n",
       "               3              65.130435      69.420290      68.869565   \n",
       "               4              66.730769      71.128205      70.269231   \n",
       "               5              68.150000      75.675000      75.900000   \n",
       "               6              67.052632      70.526316      69.526316   \n",
       "group D        1              62.863636      64.409091      63.159091   \n",
       "               2              66.760000      69.980000      69.100000   \n",
       "               3              68.731343      70.880597      71.701493   \n",
       "               4              67.600000      70.540000      69.860000   \n",
       "               5              67.571429      70.142857      71.892857   \n",
       "               6              72.521739      77.173913      79.739130   \n",
       "group E        1              70.772727      70.318182      67.545455   \n",
       "               2              72.111111      69.555556      66.555556   \n",
       "               3              73.828571      72.628571      70.200000   \n",
       "               4              74.897436      73.820513      73.205128   \n",
       "               5              76.555556      74.833333      75.388889   \n",
       "               6              74.625000      82.125000      80.500000   \n",
       "\n",
       "                                 grade  \n",
       "race/ethnicity parentDegree             \n",
       "group A        1             61.277778  \n",
       "               2             59.861111  \n",
       "               3             64.888889  \n",
       "               4             63.880952  \n",
       "               5             67.861111  \n",
       "               6             63.333333  \n",
       "group B        1             61.500000  \n",
       "               2             64.289474  \n",
       "               3             64.378378  \n",
       "               4             67.975610  \n",
       "               5             71.300000  \n",
       "               6             74.833333  \n",
       "group C        1             62.328125  \n",
       "               2             63.156463  \n",
       "               3             67.806763  \n",
       "               4             69.376068  \n",
       "               5             73.241667  \n",
       "               6             69.035088  \n",
       "group D        1             63.477273  \n",
       "               2             68.613333  \n",
       "               3             70.437811  \n",
       "               4             69.333333  \n",
       "               5             69.869048  \n",
       "               6             76.478261  \n",
       "group E        1             69.545455  \n",
       "               2             69.407407  \n",
       "               3             72.219048  \n",
       "               4             73.974359  \n",
       "               5             75.592593  \n",
       "               6             79.083333  "
      ]
     },
     "execution_count": 37,
     "metadata": {},
     "output_type": "execute_result"
    }
   ],
   "source": [
    "data.groupby(['race/ethnicity','parentDegree']).mean()"
   ]
  },
  {
   "cell_type": "code",
   "execution_count": 38,
   "metadata": {},
   "outputs": [
    {
     "data": {
      "text/html": [
       "<div>\n",
       "<style scoped>\n",
       "    .dataframe tbody tr th:only-of-type {\n",
       "        vertical-align: middle;\n",
       "    }\n",
       "\n",
       "    .dataframe tbody tr th {\n",
       "        vertical-align: top;\n",
       "    }\n",
       "\n",
       "    .dataframe thead th {\n",
       "        text-align: right;\n",
       "    }\n",
       "</style>\n",
       "<table border=\"1\" class=\"dataframe\">\n",
       "  <thead>\n",
       "    <tr style=\"text-align: right;\">\n",
       "      <th></th>\n",
       "      <th>parentDegree</th>\n",
       "      <th>math score</th>\n",
       "      <th>reading score</th>\n",
       "      <th>writing score</th>\n",
       "      <th>grade</th>\n",
       "    </tr>\n",
       "    <tr>\n",
       "      <th>race/ethnicity</th>\n",
       "      <th></th>\n",
       "      <th></th>\n",
       "      <th></th>\n",
       "      <th></th>\n",
       "      <th></th>\n",
       "    </tr>\n",
       "  </thead>\n",
       "  <tbody>\n",
       "    <tr>\n",
       "      <th>group A</th>\n",
       "      <td>2.853933</td>\n",
       "      <td>61.629213</td>\n",
       "      <td>64.674157</td>\n",
       "      <td>62.674157</td>\n",
       "      <td>62.992509</td>\n",
       "    </tr>\n",
       "    <tr>\n",
       "      <th>group B</th>\n",
       "      <td>2.815789</td>\n",
       "      <td>63.452632</td>\n",
       "      <td>67.352632</td>\n",
       "      <td>65.600000</td>\n",
       "      <td>65.468421</td>\n",
       "    </tr>\n",
       "    <tr>\n",
       "      <th>group C</th>\n",
       "      <td>3.119122</td>\n",
       "      <td>64.463950</td>\n",
       "      <td>69.103448</td>\n",
       "      <td>67.827586</td>\n",
       "      <td>67.131661</td>\n",
       "    </tr>\n",
       "    <tr>\n",
       "      <th>group D</th>\n",
       "      <td>3.141221</td>\n",
       "      <td>67.362595</td>\n",
       "      <td>70.030534</td>\n",
       "      <td>70.145038</td>\n",
       "      <td>69.179389</td>\n",
       "    </tr>\n",
       "    <tr>\n",
       "      <th>group E</th>\n",
       "      <td>3.264286</td>\n",
       "      <td>73.821429</td>\n",
       "      <td>73.028571</td>\n",
       "      <td>71.407143</td>\n",
       "      <td>72.752381</td>\n",
       "    </tr>\n",
       "  </tbody>\n",
       "</table>\n",
       "</div>"
      ],
      "text/plain": [
       "                parentDegree  math score  reading score  writing score  \\\n",
       "race/ethnicity                                                           \n",
       "group A             2.853933   61.629213      64.674157      62.674157   \n",
       "group B             2.815789   63.452632      67.352632      65.600000   \n",
       "group C             3.119122   64.463950      69.103448      67.827586   \n",
       "group D             3.141221   67.362595      70.030534      70.145038   \n",
       "group E             3.264286   73.821429      73.028571      71.407143   \n",
       "\n",
       "                    grade  \n",
       "race/ethnicity             \n",
       "group A         62.992509  \n",
       "group B         65.468421  \n",
       "group C         67.131661  \n",
       "group D         69.179389  \n",
       "group E         72.752381  "
      ]
     },
     "execution_count": 38,
     "metadata": {},
     "output_type": "execute_result"
    }
   ],
   "source": [
    "RE= data.groupby(['race/ethnicity']).mean()\n",
    "RE"
   ]
  },
  {
   "cell_type": "code",
   "execution_count": 39,
   "metadata": {},
   "outputs": [],
   "source": [
    "def Plot_Set(data,X,Ys):\n",
    "    fig,axarr = plt.subplots(1,3,figsize=(12,5))\n",
    "    for id,y in enumerate(Ys):\n",
    "        avgs = data.groupby([X])[y].mean().values\n",
    "        pos = range(len(avgs))\n",
    "        sns.boxplot(x=X, y=y, data=data, ax=axarr[id])\n",
    "        axarr[id].set_ylim([0,105])\n",
    "        plt.setp(axarr[id].get_xticklabels(), rotation=30) \n",
    "    plt.tight_layout()\n",
    "    plt.show()"
   ]
  },
  {
   "cell_type": "code",
   "execution_count": 40,
   "metadata": {},
   "outputs": [
    {
     "data": {
      "image/png": "[encoded data removed]",
      "text/plain": [
       "<Figure size 864x360 with 3 Axes>"
      ]
     },
     "metadata": {
      "needs_background": "light"
     },
     "output_type": "display_data"
    }
   ],
   "source": [
    "Plot_Set(data,X='race/ethnicity',Ys=['math score','reading score','writing score'])"
   ]
  },
  {
   "cell_type": "code",
   "execution_count": 41,
   "metadata": {},
   "outputs": [
    {
     "data": {
      "text/html": [
       "<div>\n",
       "<style scoped>\n",
       "    .dataframe tbody tr th:only-of-type {\n",
       "        vertical-align: middle;\n",
       "    }\n",
       "\n",
       "    .dataframe tbody tr th {\n",
       "        vertical-align: top;\n",
       "    }\n",
       "\n",
       "    .dataframe thead th {\n",
       "        text-align: right;\n",
       "    }\n",
       "</style>\n",
       "<table border=\"1\" class=\"dataframe\">\n",
       "  <thead>\n",
       "    <tr style=\"text-align: right;\">\n",
       "      <th></th>\n",
       "      <th>gender</th>\n",
       "      <th>race</th>\n",
       "      <th>parentDegree</th>\n",
       "      <th>course</th>\n",
       "      <th>math score</th>\n",
       "      <th>reading score</th>\n",
       "      <th>writing score</th>\n",
       "      <th>grade</th>\n",
       "      <th>Math_PassOrNot</th>\n",
       "      <th>Writing_PassOrNot</th>\n",
       "      <th>Reading_PassOrNot</th>\n",
       "      <th>PassStatus</th>\n",
       "    </tr>\n",
       "  </thead>\n",
       "  <tbody>\n",
       "    <tr>\n",
       "      <th>0</th>\n",
       "      <td>female</td>\n",
       "      <td>group B</td>\n",
       "      <td>5</td>\n",
       "      <td>none</td>\n",
       "      <td>72</td>\n",
       "      <td>72</td>\n",
       "      <td>74</td>\n",
       "      <td>72.666667</td>\n",
       "      <td>Passed</td>\n",
       "      <td>Passed</td>\n",
       "      <td>Passed</td>\n",
       "      <td>Passed</td>\n",
       "    </tr>\n",
       "    <tr>\n",
       "      <th>1</th>\n",
       "      <td>female</td>\n",
       "      <td>group C</td>\n",
       "      <td>3</td>\n",
       "      <td>completed</td>\n",
       "      <td>69</td>\n",
       "      <td>90</td>\n",
       "      <td>88</td>\n",
       "      <td>82.333333</td>\n",
       "      <td>Passed</td>\n",
       "      <td>Passed</td>\n",
       "      <td>Passed</td>\n",
       "      <td>Passed</td>\n",
       "    </tr>\n",
       "    <tr>\n",
       "      <th>2</th>\n",
       "      <td>female</td>\n",
       "      <td>group B</td>\n",
       "      <td>6</td>\n",
       "      <td>none</td>\n",
       "      <td>90</td>\n",
       "      <td>95</td>\n",
       "      <td>93</td>\n",
       "      <td>92.666667</td>\n",
       "      <td>Passed</td>\n",
       "      <td>Passed</td>\n",
       "      <td>Passed</td>\n",
       "      <td>Passed</td>\n",
       "    </tr>\n",
       "    <tr>\n",
       "      <th>3</th>\n",
       "      <td>male</td>\n",
       "      <td>group A</td>\n",
       "      <td>4</td>\n",
       "      <td>none</td>\n",
       "      <td>47</td>\n",
       "      <td>57</td>\n",
       "      <td>44</td>\n",
       "      <td>49.333333</td>\n",
       "      <td>Failed</td>\n",
       "      <td>Failed</td>\n",
       "      <td>Failed</td>\n",
       "      <td>Failed</td>\n",
       "    </tr>\n",
       "    <tr>\n",
       "      <th>4</th>\n",
       "      <td>male</td>\n",
       "      <td>group C</td>\n",
       "      <td>3</td>\n",
       "      <td>none</td>\n",
       "      <td>76</td>\n",
       "      <td>78</td>\n",
       "      <td>75</td>\n",
       "      <td>76.333333</td>\n",
       "      <td>Passed</td>\n",
       "      <td>Passed</td>\n",
       "      <td>Passed</td>\n",
       "      <td>Passed</td>\n",
       "    </tr>\n",
       "  </tbody>\n",
       "</table>\n",
       "</div>"
      ],
      "text/plain": [
       "   gender     race  parentDegree     course  math score  reading score  \\\n",
       "0  female  group B             5       none          72             72   \n",
       "1  female  group C             3  completed          69             90   \n",
       "2  female  group B             6       none          90             95   \n",
       "3    male  group A             4       none          47             57   \n",
       "4    male  group C             3       none          76             78   \n",
       "\n",
       "   writing score      grade Math_PassOrNot Writing_PassOrNot  \\\n",
       "0             74  72.666667         Passed            Passed   \n",
       "1             88  82.333333         Passed            Passed   \n",
       "2             93  92.666667         Passed            Passed   \n",
       "3             44  49.333333         Failed            Failed   \n",
       "4             75  76.333333         Passed            Passed   \n",
       "\n",
       "  Reading_PassOrNot PassStatus  \n",
       "0            Passed     Passed  \n",
       "1            Passed     Passed  \n",
       "2            Passed     Passed  \n",
       "3            Failed     Failed  \n",
       "4            Passed     Passed  "
      ]
     },
     "execution_count": 41,
     "metadata": {},
     "output_type": "execute_result"
    }
   ],
   "source": [
    "data= data.rename({'race/ethnicity':'race'}, axis='columns')\n",
    "data.head()"
   ]
  },
  {
   "cell_type": "code",
   "execution_count": 42,
   "metadata": {},
   "outputs": [
    {
     "name": "stdout",
     "output_type": "stream",
     "text": [
      "     gender  race  parentDegree     course  math score  reading score  \\\n",
      "0    female     2             5       none          72             72   \n",
      "1    female     3             3  completed          69             90   \n",
      "2    female     2             6       none          90             95   \n",
      "3      male     1             4       none          47             57   \n",
      "4      male     3             3       none          76             78   \n",
      "5    female     2             4       none          71             83   \n",
      "6    female     2             3  completed          88             95   \n",
      "7      male     2             3       none          40             43   \n",
      "8      male     4             1  completed          64             64   \n",
      "9    female     2             1       none          38             60   \n",
      "10     male     3             4       none          58             54   \n",
      "11     male     4             4       none          40             52   \n",
      "12   female     2             1       none          65             81   \n",
      "13     male     1             3  completed          78             72   \n",
      "14   female     1             6       none          50             53   \n",
      "15   female     3             2       none          69             75   \n",
      "16     male     3             1       none          88             89   \n",
      "17   female     2             2       none          18             32   \n",
      "18     male     3             6  completed          46             42   \n",
      "19   female     3             4       none          54             58   \n",
      "20     male     4             1       none          66             69   \n",
      "21   female     2             3  completed          65             75   \n",
      "22     male     4             3       none          44             54   \n",
      "23   female     3             2       none          69             73   \n",
      "24     male     4             5  completed          74             71   \n",
      "25     male     1             6       none          73             74   \n",
      "26     male     2             3       none          69             54   \n",
      "27   female     3             5       none          67             69   \n",
      "28     male     3             1       none          70             70   \n",
      "29   female     4             6       none          62             70   \n",
      "..      ...   ...           ...        ...         ...            ...   \n",
      "970  female     4             5       none          89            100   \n",
      "971    male     3             2  completed          78             72   \n",
      "972  female     1             1  completed          53             50   \n",
      "973  female     4             3       none          49             65   \n",
      "974  female     1             3       none          54             63   \n",
      "975  female     3             3  completed          64             82   \n",
      "976    male     2             3  completed          60             62   \n",
      "977    male     3             4       none          62             65   \n",
      "978    male     4             1  completed          55             41   \n",
      "979  female     3             4       none          91             95   \n",
      "980  female     2             1       none           8             24   \n",
      "981    male     4             2       none          81             78   \n",
      "982    male     2             2  completed          79             85   \n",
      "983  female     1             3  completed          78             87   \n",
      "984  female     3             2       none          74             75   \n",
      "985    male     1             1       none          57             51   \n",
      "986  female     3             4       none          40             59   \n",
      "987    male     5             2  completed          81             75   \n",
      "988  female     1             2       none          44             45   \n",
      "989  female     4             3  completed          67             86   \n",
      "990    male     5             1  completed          86             81   \n",
      "991  female     2             2  completed          65             82   \n",
      "992  female     4             4       none          55             76   \n",
      "993  female     4             5       none          62             72   \n",
      "994    male     1             1       none          63             63   \n",
      "995  female     5             6  completed          88             99   \n",
      "996    male     3             1       none          62             55   \n",
      "997  female     3             1  completed          59             71   \n",
      "998  female     4             3  completed          68             78   \n",
      "999  female     4             3       none          77             86   \n",
      "\n",
      "     writing score      grade Math_PassOrNot Writing_PassOrNot  \\\n",
      "0               74  72.666667         Passed            Passed   \n",
      "1               88  82.333333         Passed            Passed   \n",
      "2               93  92.666667         Passed            Passed   \n",
      "3               44  49.333333         Failed            Failed   \n",
      "4               75  76.333333         Passed            Passed   \n",
      "5               78  77.333333         Passed            Passed   \n",
      "6               92  91.666667         Passed            Passed   \n",
      "7               39  40.666667         Failed            Failed   \n",
      "8               67  65.000000         Passed            Passed   \n",
      "9               50  49.333333         Failed            Failed   \n",
      "10              52  54.666667         Failed            Failed   \n",
      "11              43  45.000000         Failed            Failed   \n",
      "12              73  73.000000         Passed            Passed   \n",
      "13              70  73.333333         Passed            Passed   \n",
      "14              58  53.666667         Failed            Failed   \n",
      "15              78  74.000000         Passed            Passed   \n",
      "16              86  87.666667         Passed            Passed   \n",
      "17              28  26.000000         Failed            Failed   \n",
      "18              46  44.666667         Failed            Failed   \n",
      "19              61  57.666667         Failed            Passed   \n",
      "20              63  66.000000         Passed            Passed   \n",
      "21              70  70.000000         Passed            Passed   \n",
      "22              53  50.333333         Failed            Failed   \n",
      "23              73  71.666667         Passed            Passed   \n",
      "24              80  75.000000         Passed            Passed   \n",
      "25              72  73.000000         Passed            Passed   \n",
      "26              55  59.333333         Passed            Failed   \n",
      "27              75  70.333333         Passed            Passed   \n",
      "28              65  68.333333         Passed            Passed   \n",
      "29              75  69.000000         Passed            Passed   \n",
      "..             ...        ...            ...               ...   \n",
      "970            100  96.333333         Passed            Passed   \n",
      "971             69  73.000000         Passed            Passed   \n",
      "972             60  54.333333         Failed            Passed   \n",
      "973             61  58.333333         Failed            Passed   \n",
      "974             67  61.333333         Failed            Passed   \n",
      "975             77  74.333333         Passed            Passed   \n",
      "976             60  60.666667         Passed            Passed   \n",
      "977             58  61.666667         Passed            Failed   \n",
      "978             48  48.000000         Failed            Failed   \n",
      "979             94  93.333333         Passed            Passed   \n",
      "980             23  18.333333         Failed            Failed   \n",
      "981             78  79.000000         Passed            Passed   \n",
      "982             86  83.333333         Passed            Passed   \n",
      "983             91  85.333333         Passed            Passed   \n",
      "984             82  77.000000         Passed            Passed   \n",
      "985             54  54.000000         Failed            Failed   \n",
      "986             51  50.000000         Failed            Failed   \n",
      "987             76  77.333333         Passed            Passed   \n",
      "988             45  44.666667         Failed            Failed   \n",
      "989             83  78.666667         Passed            Passed   \n",
      "990             75  80.666667         Passed            Passed   \n",
      "991             78  75.000000         Passed            Passed   \n",
      "992             76  69.000000         Failed            Passed   \n",
      "993             74  69.333333         Passed            Passed   \n",
      "994             62  62.666667         Passed            Passed   \n",
      "995             95  94.000000         Passed            Passed   \n",
      "996             55  57.333333         Passed            Failed   \n",
      "997             65  65.000000         Failed            Passed   \n",
      "998             77  74.333333         Passed            Passed   \n",
      "999             86  83.000000         Passed            Passed   \n",
      "\n",
      "    Reading_PassOrNot PassStatus  \n",
      "0              Passed     Passed  \n",
      "1              Passed     Passed  \n",
      "2              Passed     Passed  \n",
      "3              Failed     Failed  \n",
      "4              Passed     Passed  \n",
      "5              Passed     Passed  \n",
      "6              Passed     Passed  \n",
      "7              Failed     Failed  \n",
      "8              Passed     Passed  \n",
      "9              Passed     Failed  \n",
      "10             Failed     Failed  \n",
      "11             Failed     Failed  \n",
      "12             Passed     Passed  \n",
      "13             Passed     Passed  \n",
      "14             Failed     Failed  \n",
      "15             Passed     Passed  \n",
      "16             Passed     Passed  \n",
      "17             Failed     Failed  \n",
      "18             Failed     Failed  \n",
      "19             Failed     Failed  \n",
      "20             Passed     Passed  \n",
      "21             Passed     Passed  \n",
      "22             Failed     Failed  \n",
      "23             Passed     Passed  \n",
      "24             Passed     Passed  \n",
      "25             Passed     Passed  \n",
      "26             Failed     Failed  \n",
      "27             Passed     Passed  \n",
      "28             Passed     Passed  \n",
      "29             Passed     Passed  \n",
      "..                ...        ...  \n",
      "970            Passed     Passed  \n",
      "971            Passed     Passed  \n",
      "972            Failed     Failed  \n",
      "973            Passed     Failed  \n",
      "974            Passed     Passed  \n",
      "975            Passed     Passed  \n",
      "976            Passed     Passed  \n",
      "977            Passed     Passed  \n",
      "978            Failed     Failed  \n",
      "979            Passed     Passed  \n",
      "980            Failed     Failed  \n",
      "981            Passed     Passed  \n",
      "982            Passed     Passed  \n",
      "983            Passed     Passed  \n",
      "984            Passed     Passed  \n",
      "985            Failed     Failed  \n",
      "986            Failed     Failed  \n",
      "987            Passed     Passed  \n",
      "988            Failed     Failed  \n",
      "989            Passed     Passed  \n",
      "990            Passed     Passed  \n",
      "991            Passed     Passed  \n",
      "992            Passed     Passed  \n",
      "993            Passed     Passed  \n",
      "994            Passed     Passed  \n",
      "995            Passed     Passed  \n",
      "996            Failed     Failed  \n",
      "997            Passed     Passed  \n",
      "998            Passed     Passed  \n",
      "999            Passed     Passed  \n",
      "\n",
      "[1000 rows x 12 columns]\n"
     ]
    }
   ],
   "source": [
    "newRace= {'group A': 1, 'group B': 2, 'group C': 3, 'group D': 4, 'group E': 5}\n",
    "data.race = [newRace[item] for item in data.race] \n",
    "print(data)"
   ]
  },
  {
   "cell_type": "code",
   "execution_count": 43,
   "metadata": {},
   "outputs": [
    {
     "name": "stderr",
     "output_type": "stream",
     "text": [
      "C:\\ProgramData\\Anaconda3\\lib\\site-packages\\scipy\\stats\\stats.py:1713: FutureWarning: Using a non-tuple sequence for multidimensional indexing is deprecated; use `arr[tuple(seq)]` instead of `arr[seq]`. In the future this will be interpreted as an array index, `arr[np.array(seq)]`, which will result either in an error or a different result.\n",
      "  return np.add.reduce(sorted[indexer] * weights, axis=axis) / sumval\n"
     ]
    },
    {
     "data": {
      "text/plain": [
       "<seaborn.axisgrid.FacetGrid at 0x27fdbf6d748>"
      ]
     },
     "execution_count": 43,
     "metadata": {},
     "output_type": "execute_result"
    },
    {
     "data": {
      "image/png": "[encoded data removed]",
      "text/plain": [
       "<Figure size 360x360 with 1 Axes>"
      ]
     },
     "metadata": {
      "needs_background": "light"
     },
     "output_type": "display_data"
    }
   ],
   "source": [
    "sns.lmplot(\"race\",\"grade\",data)"
   ]
  },
  {
   "cell_type": "markdown",
   "metadata": {},
   "source": [
    "# Now, we'll find a model that best predicts a student's grade in  the test"
   ]
  },
  {
   "cell_type": "markdown",
   "metadata": {},
   "source": [
    " # First Model: KNN"
   ]
  },
  {
   "cell_type": "code",
   "execution_count": 44,
   "metadata": {},
   "outputs": [
    {
     "data": {
      "text/plain": [
       "F    285\n",
       "C    261\n",
       "D    256\n",
       "B    146\n",
       "A     52\n",
       "Name: Grade, dtype: int64"
      ]
     },
     "execution_count": 44,
     "metadata": {},
     "output_type": "execute_result"
    }
   ],
   "source": [
    "# I saw that the grades in the various subjects were quite similar to each other, and to the general average\n",
    "# For this reason, I will only work with the final score.\n",
    "\n",
    "# I will divide the various grades into several groups, as follows:\n",
    "\n",
    "def getGrade(grade, PassStatus):\n",
    "    if(PassStatus=='Failed'):\n",
    "        return 'F'\n",
    "    if(grade>=90):\n",
    "        return 'A'\n",
    "    if(grade>=80):\n",
    "        return 'B'\n",
    "    if(grade>=70):\n",
    "        return 'C'\n",
    "    if(grade>=60):\n",
    "        return 'D'\n",
    "    else:\n",
    "        return 'F'\n",
    "    \n",
    "data['Grade'] = data.apply(lambda x: getGrade(x['grade'], x['PassStatus']), axis=1)\n",
    "data.Grade.value_counts()"
   ]
  },
  {
   "cell_type": "code",
   "execution_count": 45,
   "metadata": {},
   "outputs": [
    {
     "data": {
      "image/png": "[encoded data removed]",
      "text/plain": [
       "<Figure size 432x288 with 1 Axes>"
      ]
     },
     "metadata": {
      "needs_background": "light"
     },
     "output_type": "display_data"
    }
   ],
   "source": [
    "sns.countplot(x=\"Grade\", data=data, order=['A','B','C','D','F'])\n",
    "plt.show()"
   ]
  },
  {
   "cell_type": "code",
   "execution_count": 46,
   "metadata": {},
   "outputs": [
    {
     "name": "stdout",
     "output_type": "stream",
     "text": [
      "     gender  race  parentDegree     course  math score  reading score  \\\n",
      "0         0     2             5       none          72             72   \n",
      "1         0     3             3  completed          69             90   \n",
      "2         0     2             6       none          90             95   \n",
      "3         1     1             4       none          47             57   \n",
      "4         1     3             3       none          76             78   \n",
      "5         0     2             4       none          71             83   \n",
      "6         0     2             3  completed          88             95   \n",
      "7         1     2             3       none          40             43   \n",
      "8         1     4             1  completed          64             64   \n",
      "9         0     2             1       none          38             60   \n",
      "10        1     3             4       none          58             54   \n",
      "11        1     4             4       none          40             52   \n",
      "12        0     2             1       none          65             81   \n",
      "13        1     1             3  completed          78             72   \n",
      "14        0     1             6       none          50             53   \n",
      "15        0     3             2       none          69             75   \n",
      "16        1     3             1       none          88             89   \n",
      "17        0     2             2       none          18             32   \n",
      "18        1     3             6  completed          46             42   \n",
      "19        0     3             4       none          54             58   \n",
      "20        1     4             1       none          66             69   \n",
      "21        0     2             3  completed          65             75   \n",
      "22        1     4             3       none          44             54   \n",
      "23        0     3             2       none          69             73   \n",
      "24        1     4             5  completed          74             71   \n",
      "25        1     1             6       none          73             74   \n",
      "26        1     2             3       none          69             54   \n",
      "27        0     3             5       none          67             69   \n",
      "28        1     3             1       none          70             70   \n",
      "29        0     4             6       none          62             70   \n",
      "..      ...   ...           ...        ...         ...            ...   \n",
      "970       0     4             5       none          89            100   \n",
      "971       1     3             2  completed          78             72   \n",
      "972       0     1             1  completed          53             50   \n",
      "973       0     4             3       none          49             65   \n",
      "974       0     1             3       none          54             63   \n",
      "975       0     3             3  completed          64             82   \n",
      "976       1     2             3  completed          60             62   \n",
      "977       1     3             4       none          62             65   \n",
      "978       1     4             1  completed          55             41   \n",
      "979       0     3             4       none          91             95   \n",
      "980       0     2             1       none           8             24   \n",
      "981       1     4             2       none          81             78   \n",
      "982       1     2             2  completed          79             85   \n",
      "983       0     1             3  completed          78             87   \n",
      "984       0     3             2       none          74             75   \n",
      "985       1     1             1       none          57             51   \n",
      "986       0     3             4       none          40             59   \n",
      "987       1     5             2  completed          81             75   \n",
      "988       0     1             2       none          44             45   \n",
      "989       0     4             3  completed          67             86   \n",
      "990       1     5             1  completed          86             81   \n",
      "991       0     2             2  completed          65             82   \n",
      "992       0     4             4       none          55             76   \n",
      "993       0     4             5       none          62             72   \n",
      "994       1     1             1       none          63             63   \n",
      "995       0     5             6  completed          88             99   \n",
      "996       1     3             1       none          62             55   \n",
      "997       0     3             1  completed          59             71   \n",
      "998       0     4             3  completed          68             78   \n",
      "999       0     4             3       none          77             86   \n",
      "\n",
      "     writing score      grade Math_PassOrNot Writing_PassOrNot  \\\n",
      "0               74  72.666667         Passed            Passed   \n",
      "1               88  82.333333         Passed            Passed   \n",
      "2               93  92.666667         Passed            Passed   \n",
      "3               44  49.333333         Failed            Failed   \n",
      "4               75  76.333333         Passed            Passed   \n",
      "5               78  77.333333         Passed            Passed   \n",
      "6               92  91.666667         Passed            Passed   \n",
      "7               39  40.666667         Failed            Failed   \n",
      "8               67  65.000000         Passed            Passed   \n",
      "9               50  49.333333         Failed            Failed   \n",
      "10              52  54.666667         Failed            Failed   \n",
      "11              43  45.000000         Failed            Failed   \n",
      "12              73  73.000000         Passed            Passed   \n",
      "13              70  73.333333         Passed            Passed   \n",
      "14              58  53.666667         Failed            Failed   \n",
      "15              78  74.000000         Passed            Passed   \n",
      "16              86  87.666667         Passed            Passed   \n",
      "17              28  26.000000         Failed            Failed   \n",
      "18              46  44.666667         Failed            Failed   \n",
      "19              61  57.666667         Failed            Passed   \n",
      "20              63  66.000000         Passed            Passed   \n",
      "21              70  70.000000         Passed            Passed   \n",
      "22              53  50.333333         Failed            Failed   \n",
      "23              73  71.666667         Passed            Passed   \n",
      "24              80  75.000000         Passed            Passed   \n",
      "25              72  73.000000         Passed            Passed   \n",
      "26              55  59.333333         Passed            Failed   \n",
      "27              75  70.333333         Passed            Passed   \n",
      "28              65  68.333333         Passed            Passed   \n",
      "29              75  69.000000         Passed            Passed   \n",
      "..             ...        ...            ...               ...   \n",
      "970            100  96.333333         Passed            Passed   \n",
      "971             69  73.000000         Passed            Passed   \n",
      "972             60  54.333333         Failed            Passed   \n",
      "973             61  58.333333         Failed            Passed   \n",
      "974             67  61.333333         Failed            Passed   \n",
      "975             77  74.333333         Passed            Passed   \n",
      "976             60  60.666667         Passed            Passed   \n",
      "977             58  61.666667         Passed            Failed   \n",
      "978             48  48.000000         Failed            Failed   \n",
      "979             94  93.333333         Passed            Passed   \n",
      "980             23  18.333333         Failed            Failed   \n",
      "981             78  79.000000         Passed            Passed   \n",
      "982             86  83.333333         Passed            Passed   \n",
      "983             91  85.333333         Passed            Passed   \n",
      "984             82  77.000000         Passed            Passed   \n",
      "985             54  54.000000         Failed            Failed   \n",
      "986             51  50.000000         Failed            Failed   \n",
      "987             76  77.333333         Passed            Passed   \n",
      "988             45  44.666667         Failed            Failed   \n",
      "989             83  78.666667         Passed            Passed   \n",
      "990             75  80.666667         Passed            Passed   \n",
      "991             78  75.000000         Passed            Passed   \n",
      "992             76  69.000000         Failed            Passed   \n",
      "993             74  69.333333         Passed            Passed   \n",
      "994             62  62.666667         Passed            Passed   \n",
      "995             95  94.000000         Passed            Passed   \n",
      "996             55  57.333333         Passed            Failed   \n",
      "997             65  65.000000         Failed            Passed   \n",
      "998             77  74.333333         Passed            Passed   \n",
      "999             86  83.000000         Passed            Passed   \n",
      "\n",
      "    Reading_PassOrNot PassStatus Grade  \n",
      "0              Passed     Passed     C  \n",
      "1              Passed     Passed     B  \n",
      "2              Passed     Passed     A  \n",
      "3              Failed     Failed     F  \n",
      "4              Passed     Passed     C  \n",
      "5              Passed     Passed     C  \n",
      "6              Passed     Passed     A  \n",
      "7              Failed     Failed     F  \n",
      "8              Passed     Passed     D  \n",
      "9              Passed     Failed     F  \n",
      "10             Failed     Failed     F  \n",
      "11             Failed     Failed     F  \n",
      "12             Passed     Passed     C  \n",
      "13             Passed     Passed     C  \n",
      "14             Failed     Failed     F  \n",
      "15             Passed     Passed     C  \n",
      "16             Passed     Passed     B  \n",
      "17             Failed     Failed     F  \n",
      "18             Failed     Failed     F  \n",
      "19             Failed     Failed     F  \n",
      "20             Passed     Passed     D  \n",
      "21             Passed     Passed     C  \n",
      "22             Failed     Failed     F  \n",
      "23             Passed     Passed     C  \n",
      "24             Passed     Passed     C  \n",
      "25             Passed     Passed     C  \n",
      "26             Failed     Failed     F  \n",
      "27             Passed     Passed     C  \n",
      "28             Passed     Passed     D  \n",
      "29             Passed     Passed     D  \n",
      "..                ...        ...   ...  \n",
      "970            Passed     Passed     A  \n",
      "971            Passed     Passed     C  \n",
      "972            Failed     Failed     F  \n",
      "973            Passed     Failed     F  \n",
      "974            Passed     Passed     D  \n",
      "975            Passed     Passed     C  \n",
      "976            Passed     Passed     D  \n",
      "977            Passed     Passed     D  \n",
      "978            Failed     Failed     F  \n",
      "979            Passed     Passed     A  \n",
      "980            Failed     Failed     F  \n",
      "981            Passed     Passed     C  \n",
      "982            Passed     Passed     B  \n",
      "983            Passed     Passed     B  \n",
      "984            Passed     Passed     C  \n",
      "985            Failed     Failed     F  \n",
      "986            Failed     Failed     F  \n",
      "987            Passed     Passed     C  \n",
      "988            Failed     Failed     F  \n",
      "989            Passed     Passed     C  \n",
      "990            Passed     Passed     B  \n",
      "991            Passed     Passed     C  \n",
      "992            Passed     Passed     D  \n",
      "993            Passed     Passed     D  \n",
      "994            Passed     Passed     D  \n",
      "995            Passed     Passed     A  \n",
      "996            Failed     Failed     F  \n",
      "997            Passed     Passed     D  \n",
      "998            Passed     Passed     C  \n",
      "999            Passed     Passed     B  \n",
      "\n",
      "[1000 rows x 13 columns]\n"
     ]
    }
   ],
   "source": [
    "new_gender= {'female': 0, 'male': 1}\n",
    "data.gender= [new_gender[item] for item in data.gender]\n",
    "print(data)"
   ]
  },
  {
   "cell_type": "code",
   "execution_count": 47,
   "metadata": {},
   "outputs": [
    {
     "name": "stdout",
     "output_type": "stream",
     "text": [
      "     gender  race  parentDegree  course  math score  reading score  \\\n",
      "0         0     2             5       0          72             72   \n",
      "1         0     3             3       1          69             90   \n",
      "2         0     2             6       0          90             95   \n",
      "3         1     1             4       0          47             57   \n",
      "4         1     3             3       0          76             78   \n",
      "5         0     2             4       0          71             83   \n",
      "6         0     2             3       1          88             95   \n",
      "7         1     2             3       0          40             43   \n",
      "8         1     4             1       1          64             64   \n",
      "9         0     2             1       0          38             60   \n",
      "10        1     3             4       0          58             54   \n",
      "11        1     4             4       0          40             52   \n",
      "12        0     2             1       0          65             81   \n",
      "13        1     1             3       1          78             72   \n",
      "14        0     1             6       0          50             53   \n",
      "15        0     3             2       0          69             75   \n",
      "16        1     3             1       0          88             89   \n",
      "17        0     2             2       0          18             32   \n",
      "18        1     3             6       1          46             42   \n",
      "19        0     3             4       0          54             58   \n",
      "20        1     4             1       0          66             69   \n",
      "21        0     2             3       1          65             75   \n",
      "22        1     4             3       0          44             54   \n",
      "23        0     3             2       0          69             73   \n",
      "24        1     4             5       1          74             71   \n",
      "25        1     1             6       0          73             74   \n",
      "26        1     2             3       0          69             54   \n",
      "27        0     3             5       0          67             69   \n",
      "28        1     3             1       0          70             70   \n",
      "29        0     4             6       0          62             70   \n",
      "..      ...   ...           ...     ...         ...            ...   \n",
      "970       0     4             5       0          89            100   \n",
      "971       1     3             2       1          78             72   \n",
      "972       0     1             1       1          53             50   \n",
      "973       0     4             3       0          49             65   \n",
      "974       0     1             3       0          54             63   \n",
      "975       0     3             3       1          64             82   \n",
      "976       1     2             3       1          60             62   \n",
      "977       1     3             4       0          62             65   \n",
      "978       1     4             1       1          55             41   \n",
      "979       0     3             4       0          91             95   \n",
      "980       0     2             1       0           8             24   \n",
      "981       1     4             2       0          81             78   \n",
      "982       1     2             2       1          79             85   \n",
      "983       0     1             3       1          78             87   \n",
      "984       0     3             2       0          74             75   \n",
      "985       1     1             1       0          57             51   \n",
      "986       0     3             4       0          40             59   \n",
      "987       1     5             2       1          81             75   \n",
      "988       0     1             2       0          44             45   \n",
      "989       0     4             3       1          67             86   \n",
      "990       1     5             1       1          86             81   \n",
      "991       0     2             2       1          65             82   \n",
      "992       0     4             4       0          55             76   \n",
      "993       0     4             5       0          62             72   \n",
      "994       1     1             1       0          63             63   \n",
      "995       0     5             6       1          88             99   \n",
      "996       1     3             1       0          62             55   \n",
      "997       0     3             1       1          59             71   \n",
      "998       0     4             3       1          68             78   \n",
      "999       0     4             3       0          77             86   \n",
      "\n",
      "     writing score      grade Math_PassOrNot Writing_PassOrNot  \\\n",
      "0               74  72.666667         Passed            Passed   \n",
      "1               88  82.333333         Passed            Passed   \n",
      "2               93  92.666667         Passed            Passed   \n",
      "3               44  49.333333         Failed            Failed   \n",
      "4               75  76.333333         Passed            Passed   \n",
      "5               78  77.333333         Passed            Passed   \n",
      "6               92  91.666667         Passed            Passed   \n",
      "7               39  40.666667         Failed            Failed   \n",
      "8               67  65.000000         Passed            Passed   \n",
      "9               50  49.333333         Failed            Failed   \n",
      "10              52  54.666667         Failed            Failed   \n",
      "11              43  45.000000         Failed            Failed   \n",
      "12              73  73.000000         Passed            Passed   \n",
      "13              70  73.333333         Passed            Passed   \n",
      "14              58  53.666667         Failed            Failed   \n",
      "15              78  74.000000         Passed            Passed   \n",
      "16              86  87.666667         Passed            Passed   \n",
      "17              28  26.000000         Failed            Failed   \n",
      "18              46  44.666667         Failed            Failed   \n",
      "19              61  57.666667         Failed            Passed   \n",
      "20              63  66.000000         Passed            Passed   \n",
      "21              70  70.000000         Passed            Passed   \n",
      "22              53  50.333333         Failed            Failed   \n",
      "23              73  71.666667         Passed            Passed   \n",
      "24              80  75.000000         Passed            Passed   \n",
      "25              72  73.000000         Passed            Passed   \n",
      "26              55  59.333333         Passed            Failed   \n",
      "27              75  70.333333         Passed            Passed   \n",
      "28              65  68.333333         Passed            Passed   \n",
      "29              75  69.000000         Passed            Passed   \n",
      "..             ...        ...            ...               ...   \n",
      "970            100  96.333333         Passed            Passed   \n",
      "971             69  73.000000         Passed            Passed   \n",
      "972             60  54.333333         Failed            Passed   \n",
      "973             61  58.333333         Failed            Passed   \n",
      "974             67  61.333333         Failed            Passed   \n",
      "975             77  74.333333         Passed            Passed   \n",
      "976             60  60.666667         Passed            Passed   \n",
      "977             58  61.666667         Passed            Failed   \n",
      "978             48  48.000000         Failed            Failed   \n",
      "979             94  93.333333         Passed            Passed   \n",
      "980             23  18.333333         Failed            Failed   \n",
      "981             78  79.000000         Passed            Passed   \n",
      "982             86  83.333333         Passed            Passed   \n",
      "983             91  85.333333         Passed            Passed   \n",
      "984             82  77.000000         Passed            Passed   \n",
      "985             54  54.000000         Failed            Failed   \n",
      "986             51  50.000000         Failed            Failed   \n",
      "987             76  77.333333         Passed            Passed   \n",
      "988             45  44.666667         Failed            Failed   \n",
      "989             83  78.666667         Passed            Passed   \n",
      "990             75  80.666667         Passed            Passed   \n",
      "991             78  75.000000         Passed            Passed   \n",
      "992             76  69.000000         Failed            Passed   \n",
      "993             74  69.333333         Passed            Passed   \n",
      "994             62  62.666667         Passed            Passed   \n",
      "995             95  94.000000         Passed            Passed   \n",
      "996             55  57.333333         Passed            Failed   \n",
      "997             65  65.000000         Failed            Passed   \n",
      "998             77  74.333333         Passed            Passed   \n",
      "999             86  83.000000         Passed            Passed   \n",
      "\n",
      "    Reading_PassOrNot PassStatus Grade  \n",
      "0              Passed     Passed     C  \n",
      "1              Passed     Passed     B  \n",
      "2              Passed     Passed     A  \n",
      "3              Failed     Failed     F  \n",
      "4              Passed     Passed     C  \n",
      "5              Passed     Passed     C  \n",
      "6              Passed     Passed     A  \n",
      "7              Failed     Failed     F  \n",
      "8              Passed     Passed     D  \n",
      "9              Passed     Failed     F  \n",
      "10             Failed     Failed     F  \n",
      "11             Failed     Failed     F  \n",
      "12             Passed     Passed     C  \n",
      "13             Passed     Passed     C  \n",
      "14             Failed     Failed     F  \n",
      "15             Passed     Passed     C  \n",
      "16             Passed     Passed     B  \n",
      "17             Failed     Failed     F  \n",
      "18             Failed     Failed     F  \n",
      "19             Failed     Failed     F  \n",
      "20             Passed     Passed     D  \n",
      "21             Passed     Passed     C  \n",
      "22             Failed     Failed     F  \n",
      "23             Passed     Passed     C  \n",
      "24             Passed     Passed     C  \n",
      "25             Passed     Passed     C  \n",
      "26             Failed     Failed     F  \n",
      "27             Passed     Passed     C  \n",
      "28             Passed     Passed     D  \n",
      "29             Passed     Passed     D  \n",
      "..                ...        ...   ...  \n",
      "970            Passed     Passed     A  \n",
      "971            Passed     Passed     C  \n",
      "972            Failed     Failed     F  \n",
      "973            Passed     Failed     F  \n",
      "974            Passed     Passed     D  \n",
      "975            Passed     Passed     C  \n",
      "976            Passed     Passed     D  \n",
      "977            Passed     Passed     D  \n",
      "978            Failed     Failed     F  \n",
      "979            Passed     Passed     A  \n",
      "980            Failed     Failed     F  \n",
      "981            Passed     Passed     C  \n",
      "982            Passed     Passed     B  \n",
      "983            Passed     Passed     B  \n",
      "984            Passed     Passed     C  \n",
      "985            Failed     Failed     F  \n",
      "986            Failed     Failed     F  \n",
      "987            Passed     Passed     C  \n",
      "988            Failed     Failed     F  \n",
      "989            Passed     Passed     C  \n",
      "990            Passed     Passed     B  \n",
      "991            Passed     Passed     C  \n",
      "992            Passed     Passed     D  \n",
      "993            Passed     Passed     D  \n",
      "994            Passed     Passed     D  \n",
      "995            Passed     Passed     A  \n",
      "996            Failed     Failed     F  \n",
      "997            Passed     Passed     D  \n",
      "998            Passed     Passed     C  \n",
      "999            Passed     Passed     B  \n",
      "\n",
      "[1000 rows x 13 columns]\n"
     ]
    }
   ],
   "source": [
    "new_course= {'none': 0, 'completed': 1}\n",
    "data.course= [new_course[item] for item in data.course] \n",
    "print(data)"
   ]
  },
  {
   "cell_type": "code",
   "execution_count": 48,
   "metadata": {},
   "outputs": [],
   "source": [
    "# I changed all the non-numeric values to numeric values."
   ]
  },
  {
   "cell_type": "code",
   "execution_count": 49,
   "metadata": {},
   "outputs": [
    {
     "data": {
      "text/html": [
       "<div>\n",
       "<style scoped>\n",
       "    .dataframe tbody tr th:only-of-type {\n",
       "        vertical-align: middle;\n",
       "    }\n",
       "\n",
       "    .dataframe tbody tr th {\n",
       "        vertical-align: top;\n",
       "    }\n",
       "\n",
       "    .dataframe thead th {\n",
       "        text-align: right;\n",
       "    }\n",
       "</style>\n",
       "<table border=\"1\" class=\"dataframe\">\n",
       "  <thead>\n",
       "    <tr style=\"text-align: right;\">\n",
       "      <th></th>\n",
       "      <th>gender</th>\n",
       "      <th>race</th>\n",
       "      <th>parentDegree</th>\n",
       "      <th>course</th>\n",
       "      <th>math score</th>\n",
       "      <th>reading score</th>\n",
       "      <th>writing score</th>\n",
       "      <th>grade</th>\n",
       "      <th>Math_PassOrNot</th>\n",
       "      <th>Writing_PassOrNot</th>\n",
       "      <th>Reading_PassOrNot</th>\n",
       "      <th>PassStatus</th>\n",
       "      <th>Grade</th>\n",
       "    </tr>\n",
       "  </thead>\n",
       "  <tbody>\n",
       "    <tr>\n",
       "      <th>0</th>\n",
       "      <td>0</td>\n",
       "      <td>2</td>\n",
       "      <td>5</td>\n",
       "      <td>0</td>\n",
       "      <td>72</td>\n",
       "      <td>72</td>\n",
       "      <td>74</td>\n",
       "      <td>72.666667</td>\n",
       "      <td>Passed</td>\n",
       "      <td>Passed</td>\n",
       "      <td>Passed</td>\n",
       "      <td>Passed</td>\n",
       "      <td>C</td>\n",
       "    </tr>\n",
       "    <tr>\n",
       "      <th>1</th>\n",
       "      <td>0</td>\n",
       "      <td>3</td>\n",
       "      <td>3</td>\n",
       "      <td>1</td>\n",
       "      <td>69</td>\n",
       "      <td>90</td>\n",
       "      <td>88</td>\n",
       "      <td>82.333333</td>\n",
       "      <td>Passed</td>\n",
       "      <td>Passed</td>\n",
       "      <td>Passed</td>\n",
       "      <td>Passed</td>\n",
       "      <td>B</td>\n",
       "    </tr>\n",
       "    <tr>\n",
       "      <th>2</th>\n",
       "      <td>0</td>\n",
       "      <td>2</td>\n",
       "      <td>6</td>\n",
       "      <td>0</td>\n",
       "      <td>90</td>\n",
       "      <td>95</td>\n",
       "      <td>93</td>\n",
       "      <td>92.666667</td>\n",
       "      <td>Passed</td>\n",
       "      <td>Passed</td>\n",
       "      <td>Passed</td>\n",
       "      <td>Passed</td>\n",
       "      <td>A</td>\n",
       "    </tr>\n",
       "    <tr>\n",
       "      <th>3</th>\n",
       "      <td>1</td>\n",
       "      <td>1</td>\n",
       "      <td>4</td>\n",
       "      <td>0</td>\n",
       "      <td>47</td>\n",
       "      <td>57</td>\n",
       "      <td>44</td>\n",
       "      <td>49.333333</td>\n",
       "      <td>Failed</td>\n",
       "      <td>Failed</td>\n",
       "      <td>Failed</td>\n",
       "      <td>Failed</td>\n",
       "      <td>F</td>\n",
       "    </tr>\n",
       "    <tr>\n",
       "      <th>4</th>\n",
       "      <td>1</td>\n",
       "      <td>3</td>\n",
       "      <td>3</td>\n",
       "      <td>0</td>\n",
       "      <td>76</td>\n",
       "      <td>78</td>\n",
       "      <td>75</td>\n",
       "      <td>76.333333</td>\n",
       "      <td>Passed</td>\n",
       "      <td>Passed</td>\n",
       "      <td>Passed</td>\n",
       "      <td>Passed</td>\n",
       "      <td>C</td>\n",
       "    </tr>\n",
       "  </tbody>\n",
       "</table>\n",
       "</div>"
      ],
      "text/plain": [
       "   gender  race  parentDegree  course  math score  reading score  \\\n",
       "0       0     2             5       0          72             72   \n",
       "1       0     3             3       1          69             90   \n",
       "2       0     2             6       0          90             95   \n",
       "3       1     1             4       0          47             57   \n",
       "4       1     3             3       0          76             78   \n",
       "\n",
       "   writing score      grade Math_PassOrNot Writing_PassOrNot  \\\n",
       "0             74  72.666667         Passed            Passed   \n",
       "1             88  82.333333         Passed            Passed   \n",
       "2             93  92.666667         Passed            Passed   \n",
       "3             44  49.333333         Failed            Failed   \n",
       "4             75  76.333333         Passed            Passed   \n",
       "\n",
       "  Reading_PassOrNot PassStatus Grade  \n",
       "0            Passed     Passed     C  \n",
       "1            Passed     Passed     B  \n",
       "2            Passed     Passed     A  \n",
       "3            Failed     Failed     F  \n",
       "4            Passed     Passed     C  "
      ]
     },
     "execution_count": 49,
     "metadata": {},
     "output_type": "execute_result"
    }
   ],
   "source": [
    "data.head()"
   ]
  },
  {
   "cell_type": "code",
   "execution_count": 50,
   "metadata": {},
   "outputs": [],
   "source": [
    "data_feature= data[['gender','race','course','parentDegree']].copy()\n",
    "##data_feature= pd.DataFrame([data.gender,data.race,data.course,data.parentDegree]).transpose()"
   ]
  },
  {
   "cell_type": "code",
   "execution_count": 51,
   "metadata": {},
   "outputs": [],
   "source": [
    "# I will look at my classification problem from two directions: \n",
    "# one, as a multi-class classification (using 'Grade' column for y)\n",
    "# second, as a binary classification (using 'PassStatus' column for y)"
   ]
  },
  {
   "cell_type": "code",
   "execution_count": 52,
   "metadata": {},
   "outputs": [
    {
     "name": "stdout",
     "output_type": "stream",
     "text": [
      "     gender  race  parentDegree  course  math score  reading score  \\\n",
      "0         0     2             5       0          72             72   \n",
      "1         0     3             3       1          69             90   \n",
      "2         0     2             6       0          90             95   \n",
      "3         1     1             4       0          47             57   \n",
      "4         1     3             3       0          76             78   \n",
      "5         0     2             4       0          71             83   \n",
      "6         0     2             3       1          88             95   \n",
      "7         1     2             3       0          40             43   \n",
      "8         1     4             1       1          64             64   \n",
      "9         0     2             1       0          38             60   \n",
      "10        1     3             4       0          58             54   \n",
      "11        1     4             4       0          40             52   \n",
      "12        0     2             1       0          65             81   \n",
      "13        1     1             3       1          78             72   \n",
      "14        0     1             6       0          50             53   \n",
      "15        0     3             2       0          69             75   \n",
      "16        1     3             1       0          88             89   \n",
      "17        0     2             2       0          18             32   \n",
      "18        1     3             6       1          46             42   \n",
      "19        0     3             4       0          54             58   \n",
      "20        1     4             1       0          66             69   \n",
      "21        0     2             3       1          65             75   \n",
      "22        1     4             3       0          44             54   \n",
      "23        0     3             2       0          69             73   \n",
      "24        1     4             5       1          74             71   \n",
      "25        1     1             6       0          73             74   \n",
      "26        1     2             3       0          69             54   \n",
      "27        0     3             5       0          67             69   \n",
      "28        1     3             1       0          70             70   \n",
      "29        0     4             6       0          62             70   \n",
      "..      ...   ...           ...     ...         ...            ...   \n",
      "970       0     4             5       0          89            100   \n",
      "971       1     3             2       1          78             72   \n",
      "972       0     1             1       1          53             50   \n",
      "973       0     4             3       0          49             65   \n",
      "974       0     1             3       0          54             63   \n",
      "975       0     3             3       1          64             82   \n",
      "976       1     2             3       1          60             62   \n",
      "977       1     3             4       0          62             65   \n",
      "978       1     4             1       1          55             41   \n",
      "979       0     3             4       0          91             95   \n",
      "980       0     2             1       0           8             24   \n",
      "981       1     4             2       0          81             78   \n",
      "982       1     2             2       1          79             85   \n",
      "983       0     1             3       1          78             87   \n",
      "984       0     3             2       0          74             75   \n",
      "985       1     1             1       0          57             51   \n",
      "986       0     3             4       0          40             59   \n",
      "987       1     5             2       1          81             75   \n",
      "988       0     1             2       0          44             45   \n",
      "989       0     4             3       1          67             86   \n",
      "990       1     5             1       1          86             81   \n",
      "991       0     2             2       1          65             82   \n",
      "992       0     4             4       0          55             76   \n",
      "993       0     4             5       0          62             72   \n",
      "994       1     1             1       0          63             63   \n",
      "995       0     5             6       1          88             99   \n",
      "996       1     3             1       0          62             55   \n",
      "997       0     3             1       1          59             71   \n",
      "998       0     4             3       1          68             78   \n",
      "999       0     4             3       0          77             86   \n",
      "\n",
      "     writing score      grade Math_PassOrNot Writing_PassOrNot  \\\n",
      "0               74  72.666667         Passed            Passed   \n",
      "1               88  82.333333         Passed            Passed   \n",
      "2               93  92.666667         Passed            Passed   \n",
      "3               44  49.333333         Failed            Failed   \n",
      "4               75  76.333333         Passed            Passed   \n",
      "5               78  77.333333         Passed            Passed   \n",
      "6               92  91.666667         Passed            Passed   \n",
      "7               39  40.666667         Failed            Failed   \n",
      "8               67  65.000000         Passed            Passed   \n",
      "9               50  49.333333         Failed            Failed   \n",
      "10              52  54.666667         Failed            Failed   \n",
      "11              43  45.000000         Failed            Failed   \n",
      "12              73  73.000000         Passed            Passed   \n",
      "13              70  73.333333         Passed            Passed   \n",
      "14              58  53.666667         Failed            Failed   \n",
      "15              78  74.000000         Passed            Passed   \n",
      "16              86  87.666667         Passed            Passed   \n",
      "17              28  26.000000         Failed            Failed   \n",
      "18              46  44.666667         Failed            Failed   \n",
      "19              61  57.666667         Failed            Passed   \n",
      "20              63  66.000000         Passed            Passed   \n",
      "21              70  70.000000         Passed            Passed   \n",
      "22              53  50.333333         Failed            Failed   \n",
      "23              73  71.666667         Passed            Passed   \n",
      "24              80  75.000000         Passed            Passed   \n",
      "25              72  73.000000         Passed            Passed   \n",
      "26              55  59.333333         Passed            Failed   \n",
      "27              75  70.333333         Passed            Passed   \n",
      "28              65  68.333333         Passed            Passed   \n",
      "29              75  69.000000         Passed            Passed   \n",
      "..             ...        ...            ...               ...   \n",
      "970            100  96.333333         Passed            Passed   \n",
      "971             69  73.000000         Passed            Passed   \n",
      "972             60  54.333333         Failed            Passed   \n",
      "973             61  58.333333         Failed            Passed   \n",
      "974             67  61.333333         Failed            Passed   \n",
      "975             77  74.333333         Passed            Passed   \n",
      "976             60  60.666667         Passed            Passed   \n",
      "977             58  61.666667         Passed            Failed   \n",
      "978             48  48.000000         Failed            Failed   \n",
      "979             94  93.333333         Passed            Passed   \n",
      "980             23  18.333333         Failed            Failed   \n",
      "981             78  79.000000         Passed            Passed   \n",
      "982             86  83.333333         Passed            Passed   \n",
      "983             91  85.333333         Passed            Passed   \n",
      "984             82  77.000000         Passed            Passed   \n",
      "985             54  54.000000         Failed            Failed   \n",
      "986             51  50.000000         Failed            Failed   \n",
      "987             76  77.333333         Passed            Passed   \n",
      "988             45  44.666667         Failed            Failed   \n",
      "989             83  78.666667         Passed            Passed   \n",
      "990             75  80.666667         Passed            Passed   \n",
      "991             78  75.000000         Passed            Passed   \n",
      "992             76  69.000000         Failed            Passed   \n",
      "993             74  69.333333         Passed            Passed   \n",
      "994             62  62.666667         Passed            Passed   \n",
      "995             95  94.000000         Passed            Passed   \n",
      "996             55  57.333333         Passed            Failed   \n",
      "997             65  65.000000         Failed            Passed   \n",
      "998             77  74.333333         Passed            Passed   \n",
      "999             86  83.000000         Passed            Passed   \n",
      "\n",
      "    Reading_PassOrNot  PassStatus Grade  \n",
      "0              Passed           1     C  \n",
      "1              Passed           1     B  \n",
      "2              Passed           1     A  \n",
      "3              Failed           0     F  \n",
      "4              Passed           1     C  \n",
      "5              Passed           1     C  \n",
      "6              Passed           1     A  \n",
      "7              Failed           0     F  \n",
      "8              Passed           1     D  \n",
      "9              Passed           0     F  \n",
      "10             Failed           0     F  \n",
      "11             Failed           0     F  \n",
      "12             Passed           1     C  \n",
      "13             Passed           1     C  \n",
      "14             Failed           0     F  \n",
      "15             Passed           1     C  \n",
      "16             Passed           1     B  \n",
      "17             Failed           0     F  \n",
      "18             Failed           0     F  \n",
      "19             Failed           0     F  \n",
      "20             Passed           1     D  \n",
      "21             Passed           1     C  \n",
      "22             Failed           0     F  \n",
      "23             Passed           1     C  \n",
      "24             Passed           1     C  \n",
      "25             Passed           1     C  \n",
      "26             Failed           0     F  \n",
      "27             Passed           1     C  \n",
      "28             Passed           1     D  \n",
      "29             Passed           1     D  \n",
      "..                ...         ...   ...  \n",
      "970            Passed           1     A  \n",
      "971            Passed           1     C  \n",
      "972            Failed           0     F  \n",
      "973            Passed           0     F  \n",
      "974            Passed           1     D  \n",
      "975            Passed           1     C  \n",
      "976            Passed           1     D  \n",
      "977            Passed           1     D  \n",
      "978            Failed           0     F  \n",
      "979            Passed           1     A  \n",
      "980            Failed           0     F  \n",
      "981            Passed           1     C  \n",
      "982            Passed           1     B  \n",
      "983            Passed           1     B  \n",
      "984            Passed           1     C  \n",
      "985            Failed           0     F  \n",
      "986            Failed           0     F  \n",
      "987            Passed           1     C  \n",
      "988            Failed           0     F  \n",
      "989            Passed           1     C  \n",
      "990            Passed           1     B  \n",
      "991            Passed           1     C  \n",
      "992            Passed           1     D  \n",
      "993            Passed           1     D  \n",
      "994            Passed           1     D  \n",
      "995            Passed           1     A  \n",
      "996            Failed           0     F  \n",
      "997            Passed           1     D  \n",
      "998            Passed           1     C  \n",
      "999            Passed           1     B  \n",
      "\n",
      "[1000 rows x 13 columns]\n"
     ]
    }
   ],
   "source": [
    "new_PassStatus= {'Passed': 1, 'Failed': 0}\n",
    "data.PassStatus= [new_PassStatus[item] for item in data.PassStatus] \n",
    "print(data)"
   ]
  },
  {
   "cell_type": "code",
   "execution_count": 53,
   "metadata": {},
   "outputs": [
    {
     "name": "stdout",
     "output_type": "stream",
     "text": [
      "     gender  race  course  parentDegree\n",
      "0         0     2       0             5\n",
      "1         0     3       1             3\n",
      "2         0     2       0             6\n",
      "3         1     1       0             4\n",
      "4         1     3       0             3\n",
      "5         0     2       0             4\n",
      "6         0     2       1             3\n",
      "7         1     2       0             3\n",
      "8         1     4       1             1\n",
      "9         0     2       0             1\n",
      "10        1     3       0             4\n",
      "11        1     4       0             4\n",
      "12        0     2       0             1\n",
      "13        1     1       1             3\n",
      "14        0     1       0             6\n",
      "15        0     3       0             2\n",
      "16        1     3       0             1\n",
      "17        0     2       0             2\n",
      "18        1     3       1             6\n",
      "19        0     3       0             4\n",
      "20        1     4       0             1\n",
      "21        0     2       1             3\n",
      "22        1     4       0             3\n",
      "23        0     3       0             2\n",
      "24        1     4       1             5\n",
      "25        1     1       0             6\n",
      "26        1     2       0             3\n",
      "27        0     3       0             5\n",
      "28        1     3       0             1\n",
      "29        0     4       0             6\n",
      "..      ...   ...     ...           ...\n",
      "970       0     4       0             5\n",
      "971       1     3       1             2\n",
      "972       0     1       1             1\n",
      "973       0     4       0             3\n",
      "974       0     1       0             3\n",
      "975       0     3       1             3\n",
      "976       1     2       1             3\n",
      "977       1     3       0             4\n",
      "978       1     4       1             1\n",
      "979       0     3       0             4\n",
      "980       0     2       0             1\n",
      "981       1     4       0             2\n",
      "982       1     2       1             2\n",
      "983       0     1       1             3\n",
      "984       0     3       0             2\n",
      "985       1     1       0             1\n",
      "986       0     3       0             4\n",
      "987       1     5       1             2\n",
      "988       0     1       0             2\n",
      "989       0     4       1             3\n",
      "990       1     5       1             1\n",
      "991       0     2       1             2\n",
      "992       0     4       0             4\n",
      "993       0     4       0             5\n",
      "994       1     1       0             1\n",
      "995       0     5       1             6\n",
      "996       1     3       0             1\n",
      "997       0     3       1             1\n",
      "998       0     4       1             3\n",
      "999       0     4       0             3\n",
      "\n",
      "[1000 rows x 4 columns]\n"
     ]
    }
   ],
   "source": [
    "#one \n",
    "\n",
    "X= data_feature\n",
    "y1= data.Grade\n",
    "\n",
    "print(X)"
   ]
  },
  {
   "cell_type": "code",
   "execution_count": 54,
   "metadata": {},
   "outputs": [],
   "source": [
    "#second\n",
    "\n",
    "X= data_feature\n",
    "y2= data.PassStatus"
   ]
  },
  {
   "cell_type": "markdown",
   "metadata": {},
   "source": [
    "- TRAIN\\TEST SPLIT"
   ]
  },
  {
   "cell_type": "code",
   "execution_count": 55,
   "metadata": {},
   "outputs": [],
   "source": [
    "from sklearn.model_selection import train_test_split\n",
    "\n",
    "X_train, X_test, y1_train, y1_test = train_test_split(X, y1, test_size=0.3, random_state=2) #1"
   ]
  },
  {
   "cell_type": "code",
   "execution_count": 56,
   "metadata": {},
   "outputs": [
    {
     "name": "stdout",
     "output_type": "stream",
     "text": [
      "(1000, 4)\n",
      "(1000,)\n",
      "90     C\n",
      "305    D\n",
      "126    D\n",
      "963    C\n",
      "163    F\n",
      "111    F\n",
      "702    B\n",
      "859    C\n",
      "868    C\n",
      "453    F\n",
      "719    B\n",
      "728    B\n",
      "327    F\n",
      "502    F\n",
      "72     F\n",
      "2      A\n",
      "573    D\n",
      "825    D\n",
      "620    F\n",
      "12     C\n",
      "803    B\n",
      "883    F\n",
      "688    F\n",
      "427    D\n",
      "108    D\n",
      "740    C\n",
      "969    C\n",
      "181    F\n",
      "923    D\n",
      "948    F\n",
      "      ..\n",
      "51     C\n",
      "875    C\n",
      "938    B\n",
      "772    D\n",
      "102    B\n",
      "195    F\n",
      "679    D\n",
      "805    C\n",
      "628    F\n",
      "124    C\n",
      "404    F\n",
      "730    C\n",
      "287    C\n",
      "831    B\n",
      "47     C\n",
      "725    C\n",
      "587    F\n",
      "607    F\n",
      "433    F\n",
      "674    C\n",
      "263    A\n",
      "360    F\n",
      "75     F\n",
      "466    F\n",
      "299    B\n",
      "534    C\n",
      "584    C\n",
      "493    B\n",
      "527    F\n",
      "168    C\n",
      "Name: Grade, Length: 700, dtype: object\n"
     ]
    }
   ],
   "source": [
    "print(X.shape)\n",
    "print(y1.shape)\n",
    "print(y1_train)"
   ]
  },
  {
   "cell_type": "code",
   "execution_count": 57,
   "metadata": {},
   "outputs": [],
   "source": [
    "X_train, X_test, y2_train, y2_test = train_test_split(X, y2, test_size=0.3, random_state=2) #2"
   ]
  },
  {
   "cell_type": "code",
   "execution_count": 58,
   "metadata": {},
   "outputs": [
    {
     "name": "stdout",
     "output_type": "stream",
     "text": [
      "(1000, 4)\n",
      "(1000,)\n",
      "90     1\n",
      "305    1\n",
      "126    1\n",
      "963    1\n",
      "163    0\n",
      "111    0\n",
      "702    1\n",
      "859    1\n",
      "868    1\n",
      "453    0\n",
      "719    1\n",
      "728    1\n",
      "327    0\n",
      "502    0\n",
      "72     0\n",
      "2      1\n",
      "573    1\n",
      "825    1\n",
      "620    0\n",
      "12     1\n",
      "803    1\n",
      "883    0\n",
      "688    0\n",
      "427    1\n",
      "108    1\n",
      "740    1\n",
      "969    1\n",
      "181    0\n",
      "923    1\n",
      "948    0\n",
      "      ..\n",
      "51     1\n",
      "875    1\n",
      "938    1\n",
      "772    1\n",
      "102    1\n",
      "195    0\n",
      "679    1\n",
      "805    1\n",
      "628    0\n",
      "124    1\n",
      "404    0\n",
      "730    1\n",
      "287    1\n",
      "831    1\n",
      "47     1\n",
      "725    1\n",
      "587    0\n",
      "607    0\n",
      "433    0\n",
      "674    1\n",
      "263    1\n",
      "360    0\n",
      "75     0\n",
      "466    0\n",
      "299    1\n",
      "534    1\n",
      "584    1\n",
      "493    1\n",
      "527    0\n",
      "168    1\n",
      "Name: PassStatus, Length: 700, dtype: int64\n"
     ]
    }
   ],
   "source": [
    "print(X.shape)\n",
    "print(y2.shape)\n",
    "print(y2_train)"
   ]
  },
  {
   "cell_type": "code",
   "execution_count": 59,
   "metadata": {},
   "outputs": [],
   "source": [
    "from sklearn.neighbors import KNeighborsClassifier"
   ]
  },
  {
   "cell_type": "code",
   "execution_count": 60,
   "metadata": {},
   "outputs": [],
   "source": [
    "knn = KNeighborsClassifier(n_neighbors=30)"
   ]
  },
  {
   "cell_type": "code",
   "execution_count": 61,
   "metadata": {},
   "outputs": [
    {
     "data": {
      "text/plain": [
       "KNeighborsClassifier(algorithm='auto', leaf_size=30, metric='minkowski',\n",
       "           metric_params=None, n_jobs=1, n_neighbors=30, p=2,\n",
       "           weights='uniform')"
      ]
     },
     "execution_count": 61,
     "metadata": {},
     "output_type": "execute_result"
    }
   ],
   "source": [
    "#1\n",
    "knn.fit(X_train, y1_train)"
   ]
  },
  {
   "cell_type": "code",
   "execution_count": 63,
   "metadata": {},
   "outputs": [
    {
     "name": "stdout",
     "output_type": "stream",
     "text": [
      "['F' 'B' 'D' 'F' 'F' 'C' 'F' 'C' 'D' 'C' 'C' 'D' 'C' 'F' 'D' 'F' 'D' 'C'\n",
      " 'C' 'C' 'F' 'D' 'F' 'F' 'C' 'C' 'F' 'D' 'C' 'C' 'F' 'C' 'D' 'C' 'C' 'F'\n",
      " 'F' 'F' 'F' 'C' 'C' 'D' 'C' 'D' 'F' 'C' 'F' 'B' 'F' 'C' 'F' 'C' 'F' 'F'\n",
      " 'C' 'F' 'C' 'C' 'D' 'C' 'C' 'D' 'C' 'D' 'F' 'F' 'F' 'C' 'D' 'D' 'F' 'F'\n",
      " 'C' 'C' 'C' 'C' 'F' 'D' 'D' 'F' 'C' 'C' 'F' 'C' 'C' 'F' 'F' 'F' 'C' 'F'\n",
      " 'C' 'F' 'F' 'F' 'D' 'D' 'D' 'A' 'F' 'C' 'D' 'C' 'C' 'F' 'C' 'F' 'F' 'C'\n",
      " 'C' 'B' 'C' 'C' 'F' 'C' 'F' 'C' 'C' 'C' 'D' 'F' 'C' 'D' 'F' 'C' 'F' 'F'\n",
      " 'F' 'F' 'D' 'F' 'D' 'C' 'D' 'F' 'C' 'F' 'D' 'D' 'D' 'C' 'C' 'F' 'C' 'C'\n",
      " 'C' 'F' 'C' 'F' 'C' 'F' 'D' 'F' 'D' 'C' 'C' 'F' 'C' 'F' 'D' 'D' 'F' 'F'\n",
      " 'F' 'F' 'D' 'C' 'C' 'F' 'C' 'C' 'F' 'F' 'C' 'F' 'F' 'C' 'C' 'D' 'F' 'C'\n",
      " 'F' 'F' 'C' 'C' 'C' 'C' 'C' 'C' 'C' 'C' 'D' 'C' 'F' 'F' 'F' 'D' 'F' 'D'\n",
      " 'D' 'F' 'C' 'F' 'C' 'C' 'C' 'C' 'F' 'D' 'F' 'C' 'C' 'F' 'F' 'D' 'C' 'C'\n",
      " 'F' 'F' 'C' 'F' 'B' 'D' 'D' 'F' 'C' 'F' 'F' 'D' 'F' 'D' 'F' 'F' 'C' 'C'\n",
      " 'D' 'D' 'F' 'F' 'D' 'F' 'C' 'C' 'F' 'F' 'D' 'F' 'F' 'F' 'D' 'D' 'C' 'C'\n",
      " 'C' 'F' 'D' 'C' 'C' 'C' 'F' 'D' 'C' 'D' 'F' 'C' 'F' 'C' 'F' 'B' 'F' 'F'\n",
      " 'D' 'F' 'F' 'D' 'F' 'D' 'C' 'C' 'F' 'C' 'C' 'D' 'F' 'D' 'F' 'D' 'C' 'C'\n",
      " 'C' 'F' 'F' 'C' 'F' 'B' 'F' 'C' 'F' 'C' 'C' 'F']\n",
      "37     F\n",
      "726    C\n",
      "846    B\n",
      "295    D\n",
      "924    C\n",
      "658    F\n",
      "682    F\n",
      "286    B\n",
      "880    D\n",
      "272    F\n",
      "137    D\n",
      "954    D\n",
      "515    B\n",
      "788    D\n",
      "860    F\n",
      "640    F\n",
      "737    D\n",
      "683    F\n",
      "412    D\n",
      "71     D\n",
      "213    F\n",
      "67     D\n",
      "231    F\n",
      "856    D\n",
      "197    F\n",
      "639    C\n",
      "376    B\n",
      "192    D\n",
      "99     D\n",
      "678    C\n",
      "      ..\n",
      "752    C\n",
      "257    C\n",
      "317    C\n",
      "496    F\n",
      "4      C\n",
      "710    B\n",
      "198    F\n",
      "116    B\n",
      "204    F\n",
      "692    C\n",
      "174    F\n",
      "701    D\n",
      "202    C\n",
      "756    F\n",
      "920    D\n",
      "119    D\n",
      "177    C\n",
      "275    C\n",
      "862    F\n",
      "13     C\n",
      "248    D\n",
      "909    D\n",
      "345    C\n",
      "941    B\n",
      "384    F\n",
      "894    D\n",
      "540    C\n",
      "567    C\n",
      "641    B\n",
      "129    F\n",
      "Name: Grade, Length: 300, dtype: object\n",
      "test:\n",
      "0.35333333333333333\n",
      "train:\n",
      "0.3742857142857143\n"
     ]
    }
   ],
   "source": [
    "print(knn.predict(X_test))\n",
    "print(y1_test)\n",
    "print(\"test:\")\n",
    "print(knn.score(X_test,y1_test))\n",
    "print(\"train:\")\n",
    "print(knn.score(X_train, y1_train))"
   ]
  },
  {
   "cell_type": "code",
   "execution_count": 64,
   "metadata": {},
   "outputs": [
    {
     "name": "stdout",
     "output_type": "stream",
     "text": [
      "0.35333333333333333\n"
     ]
    }
   ],
   "source": [
    "from sklearn import metrics\n",
    "\n",
    "y1_pred= knn.predict(X_test)\n",
    "print(metrics.accuracy_score(y1_test, y1_pred))"
   ]
  },
  {
   "cell_type": "code",
   "execution_count": 68,
   "metadata": {},
   "outputs": [],
   "source": [
    "# I want to find the ideal k, which will bring me the highest accuracy (in \"test\")\n",
    "k1_range = list(range(1, 56))\n",
    "scores1 = []\n",
    "for k1 in k1_range:\n",
    "    knn = KNeighborsClassifier(n_neighbors=k1)\n",
    "    knn.fit(X_train, y1_train)\n",
    "    y1_pred = knn.predict(X_test)\n",
    "    scores1.append(metrics.accuracy_score(y1_test, y1_pred))"
   ]
  },
  {
   "cell_type": "code",
   "execution_count": 69,
   "metadata": {},
   "outputs": [
    {
     "data": {
      "text/plain": [
       "Text(0,0.5,'Testing Accuracy')"
      ]
     },
     "execution_count": 69,
     "metadata": {},
     "output_type": "execute_result"
    },
    {
     "data": {
      "image/png": "[encoded data removed]",
      "text/plain": [
       "<Figure size 432x288 with 1 Axes>"
      ]
     },
     "metadata": {
      "needs_background": "light"
     },
     "output_type": "display_data"
    }
   ],
   "source": [
    "# the connection between K and testing accuracy\n",
    "plt.plot(k1_range, scores1)\n",
    "plt.xlabel('Value of K for KNN')\n",
    "plt.ylabel('Testing Accuracy')"
   ]
  },
  {
   "cell_type": "code",
   "execution_count": 70,
   "metadata": {},
   "outputs": [],
   "source": [
    "# From the above graph it can be concluded that the ideal k in that case is k=30.\n",
    "# In addition we can see that KNN is not such a good model for my problem, because the success rates of almost every k are very low."
   ]
  },
  {
   "cell_type": "code",
   "execution_count": 71,
   "metadata": {},
   "outputs": [
    {
     "data": {
      "text/plain": [
       "KNeighborsClassifier(algorithm='auto', leaf_size=30, metric='minkowski',\n",
       "           metric_params=None, n_jobs=1, n_neighbors=55, p=2,\n",
       "           weights='uniform')"
      ]
     },
     "execution_count": 71,
     "metadata": {},
     "output_type": "execute_result"
    }
   ],
   "source": [
    "#2\n",
    "knn.fit(X_train, y2_train)"
   ]
  },
  {
   "cell_type": "code",
   "execution_count": 72,
   "metadata": {},
   "outputs": [
    {
     "name": "stdout",
     "output_type": "stream",
     "text": [
      "[1 1 1 1 1 1 1 1 1 1 1 1 1 1 1 1 1 1 1 1 1 1 1 1 1 1 1 1 1 1 1 1 1 1 1 0 1\n",
      " 1 1 1 1 1 1 1 1 1 1 1 1 1 1 1 0 1 1 1 1 1 1 1 1 1 1 1 1 1 1 1 1 1 1 1 1 1\n",
      " 1 1 1 1 1 1 1 1 1 1 1 1 1 1 1 0 1 1 1 1 1 1 1 1 1 1 1 1 1 1 1 1 1 1 1 1 1\n",
      " 1 1 1 1 1 1 1 1 1 1 1 1 1 1 1 1 1 1 1 1 1 1 1 1 1 1 1 1 1 1 1 1 1 1 0 1 1\n",
      " 1 1 1 1 1 1 1 1 1 1 1 1 1 1 1 1 1 1 1 1 1 1 1 1 1 0 1 1 1 1 1 1 1 1 1 1 1\n",
      " 1 1 1 1 1 1 1 1 1 1 1 0 1 1 1 1 1 1 1 1 1 1 1 1 1 1 1 1 1 1 1 1 1 1 1 1 1\n",
      " 1 1 1 1 1 1 1 1 1 1 1 1 1 1 1 1 1 0 1 1 1 1 1 1 1 1 1 1 1 1 1 1 1 1 1 1 1\n",
      " 1 1 1 1 1 1 1 1 1 1 1 1 1 1 1 1 1 1 1 1 1 1 1 1 1 1 1 1 1 1 1 1 1 1 1 1 1\n",
      " 1 1 1 1]\n",
      "37     0\n",
      "726    1\n",
      "846    1\n",
      "295    1\n",
      "924    1\n",
      "658    0\n",
      "682    0\n",
      "286    1\n",
      "880    1\n",
      "272    0\n",
      "137    1\n",
      "954    1\n",
      "515    1\n",
      "788    1\n",
      "860    0\n",
      "640    0\n",
      "737    1\n",
      "683    0\n",
      "412    1\n",
      "71     1\n",
      "213    0\n",
      "67     1\n",
      "231    0\n",
      "856    1\n",
      "197    0\n",
      "639    1\n",
      "376    1\n",
      "192    1\n",
      "99     1\n",
      "678    1\n",
      "      ..\n",
      "752    1\n",
      "257    1\n",
      "317    1\n",
      "496    0\n",
      "4      1\n",
      "710    1\n",
      "198    0\n",
      "116    1\n",
      "204    0\n",
      "692    1\n",
      "174    0\n",
      "701    1\n",
      "202    1\n",
      "756    0\n",
      "920    1\n",
      "119    1\n",
      "177    1\n",
      "275    1\n",
      "862    0\n",
      "13     1\n",
      "248    1\n",
      "909    1\n",
      "345    1\n",
      "941    1\n",
      "384    0\n",
      "894    1\n",
      "540    1\n",
      "567    1\n",
      "641    1\n",
      "129    0\n",
      "Name: PassStatus, Length: 300, dtype: int64\n",
      "test:\n",
      "0.7166666666666667\n",
      "train:\n",
      "0.7157142857142857\n"
     ]
    }
   ],
   "source": [
    "print(knn.predict(X_test))\n",
    "print(y2_test)\n",
    "print(\"test:\")\n",
    "print(knn.score(X_test,y2_test))\n",
    "print(\"train:\")\n",
    "print(knn.score(X_train, y2_train))"
   ]
  },
  {
   "cell_type": "code",
   "execution_count": 73,
   "metadata": {},
   "outputs": [
    {
     "name": "stdout",
     "output_type": "stream",
     "text": [
      "0.7166666666666667\n"
     ]
    }
   ],
   "source": [
    "from sklearn import metrics\n",
    "\n",
    "y2_pred= knn.predict(X_test)\n",
    "print(metrics.accuracy_score(y2_test, y2_pred))"
   ]
  },
  {
   "cell_type": "code",
   "execution_count": 74,
   "metadata": {},
   "outputs": [],
   "source": [
    "# I want to find the ideal k, which will bring me the highest accuracy (in \"test\")\n",
    "k2_range = list(range(1, 56))\n",
    "scores2 = []\n",
    "for k2 in k2_range:\n",
    "    knn = KNeighborsClassifier(n_neighbors=k2)\n",
    "    knn.fit(X_train, y2_train)\n",
    "    y2_pred = knn.predict(X_test)\n",
    "    scores1.append(metrics.accuracy_score(y2_test, y2_pred))"
   ]
  },
  {
   "cell_type": "code",
   "execution_count": 76,
   "metadata": {},
   "outputs": [],
   "source": [
    "# the connection between K and testing accuracy\n",
    "##plt.plot(k2_range, scores2)\n",
    "##plt.xlabel('Value of K for KNN')\n",
    "##plt.ylabel('Testing Accuracy')"
   ]
  },
  {
   "cell_type": "markdown",
   "metadata": {},
   "source": [
    "- CROSS VALIDATION"
   ]
  },
  {
   "cell_type": "code",
   "execution_count": 77,
   "metadata": {},
   "outputs": [
    {
     "name": "stdout",
     "output_type": "stream",
     "text": [
      "KFold(n_splits=5, random_state=None, shuffle=False)\n"
     ]
    }
   ],
   "source": [
    "# I'll use the K-FOLD cross validator to simulate splitting a dataset of 30 observations into 5 folds\n",
    "from sklearn.model_selection import KFold\n",
    "kf= KFold(n_splits=5)\n",
    "print(kf)"
   ]
  },
  {
   "cell_type": "code",
   "execution_count": 78,
   "metadata": {},
   "outputs": [
    {
     "name": "stdout",
     "output_type": "stream",
     "text": [
      "TRAIN: [200 201 202 203 204 205 206 207 208 209 210 211 212 213 214 215 216 217\n",
      " 218 219 220 221 222 223 224 225 226 227 228 229 230 231 232 233 234 235\n",
      " 236 237 238 239 240 241 242 243 244 245 246 247 248 249 250 251 252 253\n",
      " 254 255 256 257 258 259 260 261 262 263 264 265 266 267 268 269 270 271\n",
      " 272 273 274 275 276 277 278 279 280 281 282 283 284 285 286 287 288 289\n",
      " 290 291 292 293 294 295 296 297 298 299 300 301 302 303 304 305 306 307\n",
      " 308 309 310 311 312 313 314 315 316 317 318 319 320 321 322 323 324 325\n",
      " 326 327 328 329 330 331 332 333 334 335 336 337 338 339 340 341 342 343\n",
      " 344 345 346 347 348 349 350 351 352 353 354 355 356 357 358 359 360 361\n",
      " 362 363 364 365 366 367 368 369 370 371 372 373 374 375 376 377 378 379\n",
      " 380 381 382 383 384 385 386 387 388 389 390 391 392 393 394 395 396 397\n",
      " 398 399 400 401 402 403 404 405 406 407 408 409 410 411 412 413 414 415\n",
      " 416 417 418 419 420 421 422 423 424 425 426 427 428 429 430 431 432 433\n",
      " 434 435 436 437 438 439 440 441 442 443 444 445 446 447 448 449 450 451\n",
      " 452 453 454 455 456 457 458 459 460 461 462 463 464 465 466 467 468 469\n",
      " 470 471 472 473 474 475 476 477 478 479 480 481 482 483 484 485 486 487\n",
      " 488 489 490 491 492 493 494 495 496 497 498 499 500 501 502 503 504 505\n",
      " 506 507 508 509 510 511 512 513 514 515 516 517 518 519 520 521 522 523\n",
      " 524 525 526 527 528 529 530 531 532 533 534 535 536 537 538 539 540 541\n",
      " 542 543 544 545 546 547 548 549 550 551 552 553 554 555 556 557 558 559\n",
      " 560 561 562 563 564 565 566 567 568 569 570 571 572 573 574 575 576 577\n",
      " 578 579 580 581 582 583 584 585 586 587 588 589 590 591 592 593 594 595\n",
      " 596 597 598 599 600 601 602 603 604 605 606 607 608 609 610 611 612 613\n",
      " 614 615 616 617 618 619 620 621 622 623 624 625 626 627 628 629 630 631\n",
      " 632 633 634 635 636 637 638 639 640 641 642 643 644 645 646 647 648 649\n",
      " 650 651 652 653 654 655 656 657 658 659 660 661 662 663 664 665 666 667\n",
      " 668 669 670 671 672 673 674 675 676 677 678 679 680 681 682 683 684 685\n",
      " 686 687 688 689 690 691 692 693 694 695 696 697 698 699 700 701 702 703\n",
      " 704 705 706 707 708 709 710 711 712 713 714 715 716 717 718 719 720 721\n",
      " 722 723 724 725 726 727 728 729 730 731 732 733 734 735 736 737 738 739\n",
      " 740 741 742 743 744 745 746 747 748 749 750 751 752 753 754 755 756 757\n",
      " 758 759 760 761 762 763 764 765 766 767 768 769 770 771 772 773 774 775\n",
      " 776 777 778 779 780 781 782 783 784 785 786 787 788 789 790 791 792 793\n",
      " 794 795 796 797 798 799 800 801 802 803 804 805 806 807 808 809 810 811\n",
      " 812 813 814 815 816 817 818 819 820 821 822 823 824 825 826 827 828 829\n",
      " 830 831 832 833 834 835 836 837 838 839 840 841 842 843 844 845 846 847\n",
      " 848 849 850 851 852 853 854 855 856 857 858 859 860 861 862 863 864 865\n",
      " 866 867 868 869 870 871 872 873 874 875 876 877 878 879 880 881 882 883\n",
      " 884 885 886 887 888 889 890 891 892 893 894 895 896 897 898 899 900 901\n",
      " 902 903 904 905 906 907 908 909 910 911 912 913 914 915 916 917 918 919\n",
      " 920 921 922 923 924 925 926 927 928 929 930 931 932 933 934 935 936 937\n",
      " 938 939 940 941 942 943 944 945 946 947 948 949 950 951 952 953 954 955\n",
      " 956 957 958 959 960 961 962 963 964 965 966 967 968 969 970 971 972 973\n",
      " 974 975 976 977 978 979 980 981 982 983 984 985 986 987 988 989 990 991\n",
      " 992 993 994 995 996 997 998 999] TEST: [  0   1   2   3   4   5   6   7   8   9  10  11  12  13  14  15  16  17\n",
      "  18  19  20  21  22  23  24  25  26  27  28  29  30  31  32  33  34  35\n",
      "  36  37  38  39  40  41  42  43  44  45  46  47  48  49  50  51  52  53\n",
      "  54  55  56  57  58  59  60  61  62  63  64  65  66  67  68  69  70  71\n",
      "  72  73  74  75  76  77  78  79  80  81  82  83  84  85  86  87  88  89\n",
      "  90  91  92  93  94  95  96  97  98  99 100 101 102 103 104 105 106 107\n",
      " 108 109 110 111 112 113 114 115 116 117 118 119 120 121 122 123 124 125\n",
      " 126 127 128 129 130 131 132 133 134 135 136 137 138 139 140 141 142 143\n",
      " 144 145 146 147 148 149 150 151 152 153 154 155 156 157 158 159 160 161\n",
      " 162 163 164 165 166 167 168 169 170 171 172 173 174 175 176 177 178 179\n",
      " 180 181 182 183 184 185 186 187 188 189 190 191 192 193 194 195 196 197\n",
      " 198 199]\n"
     ]
    },
    {
     "ename": "KeyError",
     "evalue": "'[200 201 202 203 204 205 206 207 208 209 210 211 212 213 214 215 216 217\\n 218 219 220 221 222 223 224 225 226 227 228 229 230 231 232 233 234 235\\n 236 237 238 239 240 241 242 243 244 245 246 247 248 249 250 251 252 253\\n 254 255 256 257 258 259 260 261 262 263 264 265 266 267 268 269 270 271\\n 272 273 274 275 276 277 278 279 280 281 282 283 284 285 286 287 288 289\\n 290 291 292 293 294 295 296 297 298 299 300 301 302 303 304 305 306 307\\n 308 309 310 311 312 313 314 315 316 317 318 319 320 321 322 323 324 325\\n 326 327 328 329 330 331 332 333 334 335 336 337 338 339 340 341 342 343\\n 344 345 346 347 348 349 350 351 352 353 354 355 356 357 358 359 360 361\\n 362 363 364 365 366 367 368 369 370 371 372 373 374 375 376 377 378 379\\n 380 381 382 383 384 385 386 387 388 389 390 391 392 393 394 395 396 397\\n 398 399 400 401 402 403 404 405 406 407 408 409 410 411 412 413 414 415\\n 416 417 418 419 420 421 422 423 424 425 426 427 428 429 430 431 432 433\\n 434 435 436 437 438 439 440 441 442 443 444 445 446 447 448 449 450 451\\n 452 453 454 455 456 457 458 459 460 461 462 463 464 465 466 467 468 469\\n 470 471 472 473 474 475 476 477 478 479 480 481 482 483 484 485 486 487\\n 488 489 490 491 492 493 494 495 496 497 498 499 500 501 502 503 504 505\\n 506 507 508 509 510 511 512 513 514 515 516 517 518 519 520 521 522 523\\n 524 525 526 527 528 529 530 531 532 533 534 535 536 537 538 539 540 541\\n 542 543 544 545 546 547 548 549 550 551 552 553 554 555 556 557 558 559\\n 560 561 562 563 564 565 566 567 568 569 570 571 572 573 574 575 576 577\\n 578 579 580 581 582 583 584 585 586 587 588 589 590 591 592 593 594 595\\n 596 597 598 599 600 601 602 603 604 605 606 607 608 609 610 611 612 613\\n 614 615 616 617 618 619 620 621 622 623 624 625 626 627 628 629 630 631\\n 632 633 634 635 636 637 638 639 640 641 642 643 644 645 646 647 648 649\\n 650 651 652 653 654 655 656 657 658 659 660 661 662 663 664 665 666 667\\n 668 669 670 671 672 673 674 675 676 677 678 679 680 681 682 683 684 685\\n 686 687 688 689 690 691 692 693 694 695 696 697 698 699 700 701 702 703\\n 704 705 706 707 708 709 710 711 712 713 714 715 716 717 718 719 720 721\\n 722 723 724 725 726 727 728 729 730 731 732 733 734 735 736 737 738 739\\n 740 741 742 743 744 745 746 747 748 749 750 751 752 753 754 755 756 757\\n 758 759 760 761 762 763 764 765 766 767 768 769 770 771 772 773 774 775\\n 776 777 778 779 780 781 782 783 784 785 786 787 788 789 790 791 792 793\\n 794 795 796 797 798 799 800 801 802 803 804 805 806 807 808 809 810 811\\n 812 813 814 815 816 817 818 819 820 821 822 823 824 825 826 827 828 829\\n 830 831 832 833 834 835 836 837 838 839 840 841 842 843 844 845 846 847\\n 848 849 850 851 852 853 854 855 856 857 858 859 860 861 862 863 864 865\\n 866 867 868 869 870 871 872 873 874 875 876 877 878 879 880 881 882 883\\n 884 885 886 887 888 889 890 891 892 893 894 895 896 897 898 899 900 901\\n 902 903 904 905 906 907 908 909 910 911 912 913 914 915 916 917 918 919\\n 920 921 922 923 924 925 926 927 928 929 930 931 932 933 934 935 936 937\\n 938 939 940 941 942 943 944 945 946 947 948 949 950 951 952 953 954 955\\n 956 957 958 959 960 961 962 963 964 965 966 967 968 969 970 971 972 973\\n 974 975 976 977 978 979 980 981 982 983 984 985 986 987 988 989 990 991\\n 992 993 994 995 996 997 998 999] not in index'",
     "output_type": "error",
     "traceback": [
      "\u001b[1;31m---------------------------------------------------------------------------\u001b[0m",
      "\u001b[1;31mKeyError\u001b[0m                                  Traceback (most recent call last)",
      "\u001b[1;32m<ipython-input-78-b291f0badc8d>\u001b[0m in \u001b[0;36m<module>\u001b[1;34m()\u001b[0m\n\u001b[0;32m      3\u001b[0m \u001b[1;32mfor\u001b[0m \u001b[0mtrain_index\u001b[0m\u001b[1;33m,\u001b[0m \u001b[0mtest_index\u001b[0m \u001b[1;32min\u001b[0m \u001b[0mkf\u001b[0m\u001b[1;33m.\u001b[0m\u001b[0msplit\u001b[0m\u001b[1;33m(\u001b[0m\u001b[0mX\u001b[0m\u001b[1;33m)\u001b[0m\u001b[1;33m:\u001b[0m\u001b[1;33m\u001b[0m\u001b[0m\n\u001b[0;32m      4\u001b[0m     \u001b[0mprint\u001b[0m\u001b[1;33m(\u001b[0m\u001b[1;34m\"TRAIN:\"\u001b[0m\u001b[1;33m,\u001b[0m \u001b[0mtrain_index\u001b[0m\u001b[1;33m,\u001b[0m \u001b[1;34m\"TEST:\"\u001b[0m\u001b[1;33m,\u001b[0m \u001b[0mtest_index\u001b[0m\u001b[1;33m)\u001b[0m\u001b[1;33m\u001b[0m\u001b[0m\n\u001b[1;32m----> 5\u001b[1;33m     \u001b[0mX_train\u001b[0m\u001b[1;33m,\u001b[0m \u001b[0mX_test\u001b[0m \u001b[1;33m=\u001b[0m \u001b[0mX\u001b[0m\u001b[1;33m[\u001b[0m\u001b[0mtrain_index\u001b[0m\u001b[1;33m]\u001b[0m\u001b[1;33m,\u001b[0m \u001b[0mX\u001b[0m\u001b[1;33m[\u001b[0m\u001b[0mtest_index\u001b[0m\u001b[1;33m]\u001b[0m\u001b[1;33m\u001b[0m\u001b[0m\n\u001b[0m\u001b[0;32m      6\u001b[0m     \u001b[0my1_train\u001b[0m\u001b[1;33m,\u001b[0m \u001b[0my1_test\u001b[0m \u001b[1;33m=\u001b[0m \u001b[0my1\u001b[0m\u001b[1;33m[\u001b[0m\u001b[0mtrain_index\u001b[0m\u001b[1;33m]\u001b[0m\u001b[1;33m,\u001b[0m \u001b[0my1\u001b[0m\u001b[1;33m[\u001b[0m\u001b[0mtest_index\u001b[0m\u001b[1;33m]\u001b[0m\u001b[1;33m\u001b[0m\u001b[0m\n",
      "\u001b[1;32mC:\\ProgramData\\Anaconda3\\lib\\site-packages\\pandas\\core\\frame.py\u001b[0m in \u001b[0;36m__getitem__\u001b[1;34m(self, key)\u001b[0m\n\u001b[0;32m   2680\u001b[0m         \u001b[1;32mif\u001b[0m \u001b[0misinstance\u001b[0m\u001b[1;33m(\u001b[0m\u001b[0mkey\u001b[0m\u001b[1;33m,\u001b[0m \u001b[1;33m(\u001b[0m\u001b[0mSeries\u001b[0m\u001b[1;33m,\u001b[0m \u001b[0mnp\u001b[0m\u001b[1;33m.\u001b[0m\u001b[0mndarray\u001b[0m\u001b[1;33m,\u001b[0m \u001b[0mIndex\u001b[0m\u001b[1;33m,\u001b[0m \u001b[0mlist\u001b[0m\u001b[1;33m)\u001b[0m\u001b[1;33m)\u001b[0m\u001b[1;33m:\u001b[0m\u001b[1;33m\u001b[0m\u001b[0m\n\u001b[0;32m   2681\u001b[0m             \u001b[1;31m# either boolean or fancy integer index\u001b[0m\u001b[1;33m\u001b[0m\u001b[1;33m\u001b[0m\u001b[0m\n\u001b[1;32m-> 2682\u001b[1;33m             \u001b[1;32mreturn\u001b[0m \u001b[0mself\u001b[0m\u001b[1;33m.\u001b[0m\u001b[0m_getitem_array\u001b[0m\u001b[1;33m(\u001b[0m\u001b[0mkey\u001b[0m\u001b[1;33m)\u001b[0m\u001b[1;33m\u001b[0m\u001b[0m\n\u001b[0m\u001b[0;32m   2683\u001b[0m         \u001b[1;32melif\u001b[0m \u001b[0misinstance\u001b[0m\u001b[1;33m(\u001b[0m\u001b[0mkey\u001b[0m\u001b[1;33m,\u001b[0m \u001b[0mDataFrame\u001b[0m\u001b[1;33m)\u001b[0m\u001b[1;33m:\u001b[0m\u001b[1;33m\u001b[0m\u001b[0m\n\u001b[0;32m   2684\u001b[0m             \u001b[1;32mreturn\u001b[0m \u001b[0mself\u001b[0m\u001b[1;33m.\u001b[0m\u001b[0m_getitem_frame\u001b[0m\u001b[1;33m(\u001b[0m\u001b[0mkey\u001b[0m\u001b[1;33m)\u001b[0m\u001b[1;33m\u001b[0m\u001b[0m\n",
      "\u001b[1;32mC:\\ProgramData\\Anaconda3\\lib\\site-packages\\pandas\\core\\frame.py\u001b[0m in \u001b[0;36m_getitem_array\u001b[1;34m(self, key)\u001b[0m\n\u001b[0;32m   2724\u001b[0m             \u001b[1;32mreturn\u001b[0m \u001b[0mself\u001b[0m\u001b[1;33m.\u001b[0m\u001b[0m_take\u001b[0m\u001b[1;33m(\u001b[0m\u001b[0mindexer\u001b[0m\u001b[1;33m,\u001b[0m \u001b[0maxis\u001b[0m\u001b[1;33m=\u001b[0m\u001b[1;36m0\u001b[0m\u001b[1;33m)\u001b[0m\u001b[1;33m\u001b[0m\u001b[0m\n\u001b[0;32m   2725\u001b[0m         \u001b[1;32melse\u001b[0m\u001b[1;33m:\u001b[0m\u001b[1;33m\u001b[0m\u001b[0m\n\u001b[1;32m-> 2726\u001b[1;33m             \u001b[0mindexer\u001b[0m \u001b[1;33m=\u001b[0m \u001b[0mself\u001b[0m\u001b[1;33m.\u001b[0m\u001b[0mloc\u001b[0m\u001b[1;33m.\u001b[0m\u001b[0m_convert_to_indexer\u001b[0m\u001b[1;33m(\u001b[0m\u001b[0mkey\u001b[0m\u001b[1;33m,\u001b[0m \u001b[0maxis\u001b[0m\u001b[1;33m=\u001b[0m\u001b[1;36m1\u001b[0m\u001b[1;33m)\u001b[0m\u001b[1;33m\u001b[0m\u001b[0m\n\u001b[0m\u001b[0;32m   2727\u001b[0m             \u001b[1;32mreturn\u001b[0m \u001b[0mself\u001b[0m\u001b[1;33m.\u001b[0m\u001b[0m_take\u001b[0m\u001b[1;33m(\u001b[0m\u001b[0mindexer\u001b[0m\u001b[1;33m,\u001b[0m \u001b[0maxis\u001b[0m\u001b[1;33m=\u001b[0m\u001b[1;36m1\u001b[0m\u001b[1;33m)\u001b[0m\u001b[1;33m\u001b[0m\u001b[0m\n\u001b[0;32m   2728\u001b[0m \u001b[1;33m\u001b[0m\u001b[0m\n",
      "\u001b[1;32mC:\\ProgramData\\Anaconda3\\lib\\site-packages\\pandas\\core\\indexing.py\u001b[0m in \u001b[0;36m_convert_to_indexer\u001b[1;34m(self, obj, axis, is_setter)\u001b[0m\n\u001b[0;32m   1325\u001b[0m                 \u001b[1;32mif\u001b[0m \u001b[0mmask\u001b[0m\u001b[1;33m.\u001b[0m\u001b[0many\u001b[0m\u001b[1;33m(\u001b[0m\u001b[1;33m)\u001b[0m\u001b[1;33m:\u001b[0m\u001b[1;33m\u001b[0m\u001b[0m\n\u001b[0;32m   1326\u001b[0m                     raise KeyError('{mask} not in index'\n\u001b[1;32m-> 1327\u001b[1;33m                                    .format(mask=objarr[mask]))\n\u001b[0m\u001b[0;32m   1328\u001b[0m \u001b[1;33m\u001b[0m\u001b[0m\n\u001b[0;32m   1329\u001b[0m                 \u001b[1;32mreturn\u001b[0m \u001b[0mcom\u001b[0m\u001b[1;33m.\u001b[0m\u001b[0m_values_from_object\u001b[0m\u001b[1;33m(\u001b[0m\u001b[0mindexer\u001b[0m\u001b[1;33m)\u001b[0m\u001b[1;33m\u001b[0m\u001b[0m\n",
      "\u001b[1;31mKeyError\u001b[0m: '[200 201 202 203 204 205 206 207 208 209 210 211 212 213 214 215 216 217\\n 218 219 220 221 222 223 224 225 226 227 228 229 230 231 232 233 234 235\\n 236 237 238 239 240 241 242 243 244 245 246 247 248 249 250 251 252 253\\n 254 255 256 257 258 259 260 261 262 263 264 265 266 267 268 269 270 271\\n 272 273 274 275 276 277 278 279 280 281 282 283 284 285 286 287 288 289\\n 290 291 292 293 294 295 296 297 298 299 300 301 302 303 304 305 306 307\\n 308 309 310 311 312 313 314 315 316 317 318 319 320 321 322 323 324 325\\n 326 327 328 329 330 331 332 333 334 335 336 337 338 339 340 341 342 343\\n 344 345 346 347 348 349 350 351 352 353 354 355 356 357 358 359 360 361\\n 362 363 364 365 366 367 368 369 370 371 372 373 374 375 376 377 378 379\\n 380 381 382 383 384 385 386 387 388 389 390 391 392 393 394 395 396 397\\n 398 399 400 401 402 403 404 405 406 407 408 409 410 411 412 413 414 415\\n 416 417 418 419 420 421 422 423 424 425 426 427 428 429 430 431 432 433\\n 434 435 436 437 438 439 440 441 442 443 444 445 446 447 448 449 450 451\\n 452 453 454 455 456 457 458 459 460 461 462 463 464 465 466 467 468 469\\n 470 471 472 473 474 475 476 477 478 479 480 481 482 483 484 485 486 487\\n 488 489 490 491 492 493 494 495 496 497 498 499 500 501 502 503 504 505\\n 506 507 508 509 510 511 512 513 514 515 516 517 518 519 520 521 522 523\\n 524 525 526 527 528 529 530 531 532 533 534 535 536 537 538 539 540 541\\n 542 543 544 545 546 547 548 549 550 551 552 553 554 555 556 557 558 559\\n 560 561 562 563 564 565 566 567 568 569 570 571 572 573 574 575 576 577\\n 578 579 580 581 582 583 584 585 586 587 588 589 590 591 592 593 594 595\\n 596 597 598 599 600 601 602 603 604 605 606 607 608 609 610 611 612 613\\n 614 615 616 617 618 619 620 621 622 623 624 625 626 627 628 629 630 631\\n 632 633 634 635 636 637 638 639 640 641 642 643 644 645 646 647 648 649\\n 650 651 652 653 654 655 656 657 658 659 660 661 662 663 664 665 666 667\\n 668 669 670 671 672 673 674 675 676 677 678 679 680 681 682 683 684 685\\n 686 687 688 689 690 691 692 693 694 695 696 697 698 699 700 701 702 703\\n 704 705 706 707 708 709 710 711 712 713 714 715 716 717 718 719 720 721\\n 722 723 724 725 726 727 728 729 730 731 732 733 734 735 736 737 738 739\\n 740 741 742 743 744 745 746 747 748 749 750 751 752 753 754 755 756 757\\n 758 759 760 761 762 763 764 765 766 767 768 769 770 771 772 773 774 775\\n 776 777 778 779 780 781 782 783 784 785 786 787 788 789 790 791 792 793\\n 794 795 796 797 798 799 800 801 802 803 804 805 806 807 808 809 810 811\\n 812 813 814 815 816 817 818 819 820 821 822 823 824 825 826 827 828 829\\n 830 831 832 833 834 835 836 837 838 839 840 841 842 843 844 845 846 847\\n 848 849 850 851 852 853 854 855 856 857 858 859 860 861 862 863 864 865\\n 866 867 868 869 870 871 872 873 874 875 876 877 878 879 880 881 882 883\\n 884 885 886 887 888 889 890 891 892 893 894 895 896 897 898 899 900 901\\n 902 903 904 905 906 907 908 909 910 911 912 913 914 915 916 917 918 919\\n 920 921 922 923 924 925 926 927 928 929 930 931 932 933 934 935 936 937\\n 938 939 940 941 942 943 944 945 946 947 948 949 950 951 952 953 954 955\\n 956 957 958 959 960 961 962 963 964 965 966 967 968 969 970 971 972 973\\n 974 975 976 977 978 979 980 981 982 983 984 985 986 987 988 989 990 991\\n 992 993 994 995 996 997 998 999] not in index'"
     ]
    }
   ],
   "source": [
    "#1\n",
    "\n",
    "for train_index, test_index in kf.split(X):\n",
    "    print(\"TRAIN:\", train_index, \"TEST:\", test_index)\n",
    "    X_train, X_test = X[train_index], X[test_index]\n",
    "    y1_train, y1_test = y1[train_index], y1[test_index]"
   ]
  },
  {
   "cell_type": "code",
   "execution_count": 79,
   "metadata": {},
   "outputs": [
    {
     "name": "stdout",
     "output_type": "stream",
     "text": [
      "Iteration                   Training set observations                   Testing set observations\n",
      "    1     [ 6  7  8  9 10 11 12 13 14 15 16 17 18 19 20 21 22 23 24 25 26 27 28 29]       [0 1 2 3 4 5]      \n",
      "    2     [ 0  1  2  3  4  5 12 13 14 15 16 17 18 19 20 21 22 23 24 25 26 27 28 29]    [ 6  7  8  9 10 11]   \n",
      "    3     [ 0  1  2  3  4  5  6  7  8  9 10 11 18 19 20 21 22 23 24 25 26 27 28 29]    [12 13 14 15 16 17]   \n",
      "    4     [ 0  1  2  3  4  5  6  7  8  9 10 11 12 13 14 15 16 17 24 25 26 27 28 29]    [18 19 20 21 22 23]   \n",
      "    5     [ 0  1  2  3  4  5  6  7  8  9 10 11 12 13 14 15 16 17 18 19 20 21 22 23]    [24 25 26 27 28 29]   \n"
     ]
    }
   ],
   "source": [
    "kf= KFold(n_splits=5).split(range(30))\n",
    "print('{} {:^61} {}'.format('Iteration', 'Training set observations', 'Testing set observations'))\n",
    "for iteration, data in enumerate(kf, start=1):\n",
    "    print('{:^9} {} {:^25}'.format(iteration, data[0], str(data[1])))"
   ]
  },
  {
   "cell_type": "code",
   "execution_count": 80,
   "metadata": {},
   "outputs": [
    {
     "name": "stdout",
     "output_type": "stream",
     "text": [
      "[0.22330097 0.35294118 0.35643564 0.2970297  0.34653465 0.31\n",
      " 0.31632653 0.2755102  0.31632653 0.30612245]\n"
     ]
    }
   ],
   "source": [
    "# Select the best tuning parameters for KNN on my dataset\n",
    "from sklearn.model_selection import cross_val_score\n",
    "knn = KNeighborsClassifier(n_neighbors=30)\n",
    "scores1 = cross_val_score(knn, X, y1, cv=10, scoring='accuracy')\n",
    "print(scores1)"
   ]
  },
  {
   "cell_type": "code",
   "execution_count": 81,
   "metadata": {},
   "outputs": [
    {
     "name": "stdout",
     "output_type": "stream",
     "text": [
      "0.3100527861630089\n"
     ]
    }
   ],
   "source": [
    "print(scores1.mean())"
   ]
  },
  {
   "cell_type": "code",
   "execution_count": 82,
   "metadata": {},
   "outputs": [
    {
     "name": "stdout",
     "output_type": "stream",
     "text": [
      "[0.26903499913855766, 0.24315895082439395, 0.2358840714792117, 0.2529303394529012, 0.24715141571383917, 0.2623539317870761, 0.29224326519995675, 0.2820698809947895, 0.27528877985876654, 0.2860807945594849, 0.27926797776690215, 0.2904691111088288, 0.30013255953155077, 0.30244436911552086, 0.2913613299592643, 0.2954944395137657, 0.29431198406499004, 0.3005117165581988, 0.31542638568452463, 0.3033144144517366, 0.31027973073301224, 0.31636315816339033, 0.30701682557094734, 0.32313019765245327, 0.3103509110651855, 0.32109871686827185, 0.32609258826091236, 0.3151581522352284, 0.3200075952711182, 0.3100527861630089, 0.32207038532033017, 0.32404860008023195, 0.32105910725339826, 0.3080533278388737, 0.3060620458892006, 0.30905351632145694, 0.30709609234446444, 0.3119677383209364, 0.31409689831907006, 0.31803848118118727, 0.31406757231393945, 0.32106087260435273, 0.306093120281853, 0.3029754030613495, 0.30935500721484405, 0.3022323697526689, 0.31406716026793297, 0.32409871121379435, 0.3130764845013272, 0.30399443414778193, 0.31283795402232795, 0.31506974971090046, 0.31309987038168147, 0.315959408544731]\n"
     ]
    }
   ],
   "source": [
    "# search for an optimal value of K for KNN\n",
    "k1_range = list(range(1, 55))\n",
    "k1_scores = []\n",
    "for k1 in k1_range:\n",
    "    knn = KNeighborsClassifier(n_neighbors=k1)\n",
    "    scores1 = cross_val_score(knn, X, y1, cv=10, scoring='accuracy')\n",
    "    k1_scores.append(scores1.mean())\n",
    "print(k1_scores)"
   ]
  },
  {
   "cell_type": "code",
   "execution_count": 83,
   "metadata": {},
   "outputs": [
    {
     "data": {
      "text/plain": [
       "Text(0,0.5,'Cross-Validated Accuracy')"
      ]
     },
     "execution_count": 83,
     "metadata": {},
     "output_type": "execute_result"
    },
    {
     "data": {
      "image/png": "[encoded data removed]",
      "text/plain": [
       "<Figure size 432x288 with 1 Axes>"
      ]
     },
     "metadata": {
      "needs_background": "light"
     },
     "output_type": "display_data"
    }
   ],
   "source": [
    "plt.plot(k1_range, k1_scores)\n",
    "plt.xlabel('Value of K for KNN')\n",
    "plt.ylabel('Cross-Validated Accuracy')"
   ]
  },
  {
   "cell_type": "code",
   "execution_count": 84,
   "metadata": {},
   "outputs": [],
   "source": [
    "# We can see that the results for the optimal-K for KNN are quite similar in the train\\test split and the cross-validation. \n",
    "# Up to k=30 the accuracy percentage increases, and then they rise a little and sometimes go down a bit, but not radically.\n",
    "# But again, the accuracy is not high at all, and in the cross-validation accuracy rates are even lower than before (train\\test split)."
   ]
  },
  {
   "cell_type": "code",
   "execution_count": 85,
   "metadata": {},
   "outputs": [],
   "source": [
    "# I did cross validation to select the optimal k value\n",
    "# Now I want to check what the optimal values are for other values in the KNN model. "
   ]
  },
  {
   "cell_type": "code",
   "execution_count": 86,
   "metadata": {},
   "outputs": [],
   "source": [
    "# Let's look for the optimal value for: weights. "
   ]
  },
  {
   "cell_type": "markdown",
   "metadata": {},
   "source": [
    "*From the various statistics I made at the beginning of the notebook, I came to the following conclusions:*\n",
    "1. gender: *females* have higher chance that their final grade will be higher than *males*.\n",
    "2. course: students who completed a test preparation course are more likely to succeed than students who have not taken a course like this (*none*).\n",
    "3. parental level of education: the connection between the grade and the parents' education is linear.\n",
    "4. race/ethnicity: Influence a bit about the final grade, in a linear connection, but not very much. "
   ]
  },
  {
   "cell_type": "code",
   "execution_count": 87,
   "metadata": {},
   "outputs": [
    {
     "name": "stdout",
     "output_type": "stream",
     "text": [
      "KNeighborsClassifier(algorithm='auto', leaf_size=30, metric='minkowski',\n",
      "           metric_params=None, n_jobs=1, n_neighbors=30, p=2,\n",
      "           weights='distance')\n"
     ]
    }
   ],
   "source": [
    "knn = KNeighborsClassifier(n_neighbors=30, weights='distance')\n",
    "print(knn)"
   ]
  },
  {
   "cell_type": "code",
   "execution_count": 88,
   "metadata": {},
   "outputs": [
    {
     "data": {
      "text/plain": [
       "KNeighborsClassifier(algorithm='auto', leaf_size=30, metric='minkowski',\n",
       "           metric_params=None, n_jobs=1, n_neighbors=30, p=2,\n",
       "           weights='distance')"
      ]
     },
     "execution_count": 88,
     "metadata": {},
     "output_type": "execute_result"
    }
   ],
   "source": [
    "knn.fit(X_train, y1_train)"
   ]
  },
  {
   "cell_type": "code",
   "execution_count": 89,
   "metadata": {},
   "outputs": [
    {
     "name": "stdout",
     "output_type": "stream",
     "text": [
      "['F' 'B' 'C' 'F' 'F' 'C' 'F' 'C' 'B' 'C' 'C' 'D' 'C' 'C' 'D' 'F' 'A' 'C'\n",
      " 'F' 'B' 'F' 'D' 'C' 'F' 'C' 'C' 'F' 'C' 'C' 'F' 'D' 'F' 'C' 'C' 'C' 'D'\n",
      " 'F' 'D' 'B' 'C' 'F' 'D' 'C' 'D' 'F' 'C' 'F' 'B' 'F' 'A' 'F' 'C' 'F' 'F'\n",
      " 'C' 'F' 'C' 'C' 'D' 'C' 'C' 'F' 'C' 'A' 'F' 'F' 'F' 'D' 'C' 'D' 'F' 'F'\n",
      " 'D' 'C' 'F' 'D' 'F' 'D' 'D' 'F' 'B' 'C' 'A' 'B' 'A' 'F' 'F' 'F' 'C' 'D'\n",
      " 'D' 'F' 'F' 'F' 'D' 'A' 'A' 'A' 'F' 'D' 'D' 'D' 'C' 'F' 'D' 'F' 'F' 'D'\n",
      " 'F' 'D' 'C' 'B' 'F' 'A' 'F' 'B' 'A' 'C' 'A' 'F' 'C' 'D' 'F' 'F' 'F' 'F'\n",
      " 'F' 'B' 'D' 'F' 'F' 'C' 'B' 'C' 'C' 'F' 'D' 'D' 'D' 'F' 'C' 'C' 'C' 'C'\n",
      " 'C' 'D' 'D' 'F' 'D' 'F' 'F' 'F' 'D' 'C' 'A' 'A' 'F' 'D' 'D' 'D' 'F' 'F'\n",
      " 'D' 'F' 'C' 'D' 'C' 'D' 'B' 'C' 'A' 'F' 'A' 'D' 'B' 'C' 'C' 'C' 'B' 'C'\n",
      " 'F' 'F' 'D' 'F' 'D' 'B' 'A' 'C' 'C' 'C' 'D' 'C' 'F' 'B' 'A' 'D' 'F' 'A'\n",
      " 'D' 'F' 'C' 'F' 'C' 'C' 'C' 'C' 'F' 'D' 'D' 'C' 'F' 'A' 'F' 'A' 'C' 'D'\n",
      " 'F' 'F' 'C' 'F' 'D' 'D' 'B' 'B' 'D' 'F' 'F' 'C' 'C' 'F' 'C' 'F' 'A' 'F'\n",
      " 'A' 'D' 'F' 'F' 'D' 'D' 'F' 'B' 'F' 'F' 'D' 'F' 'F' 'F' 'D' 'F' 'C' 'C'\n",
      " 'B' 'F' 'C' 'C' 'F' 'B' 'F' 'D' 'C' 'D' 'F' 'D' 'C' 'C' 'F' 'B' 'F' 'F'\n",
      " 'C' 'F' 'C' 'D' 'F' 'A' 'D' 'C' 'F' 'A' 'A' 'C' 'C' 'D' 'F' 'D' 'C' 'D'\n",
      " 'C' 'A' 'F' 'C' 'F' 'D' 'F' 'A' 'F' 'A' 'B' 'D']\n",
      "37     F\n",
      "726    C\n",
      "846    B\n",
      "295    D\n",
      "924    C\n",
      "658    F\n",
      "682    F\n",
      "286    B\n",
      "880    D\n",
      "272    F\n",
      "137    D\n",
      "954    D\n",
      "515    B\n",
      "788    D\n",
      "860    F\n",
      "640    F\n",
      "737    D\n",
      "683    F\n",
      "412    D\n",
      "71     D\n",
      "213    F\n",
      "67     D\n",
      "231    F\n",
      "856    D\n",
      "197    F\n",
      "639    C\n",
      "376    B\n",
      "192    D\n",
      "99     D\n",
      "678    C\n",
      "      ..\n",
      "752    C\n",
      "257    C\n",
      "317    C\n",
      "496    F\n",
      "4      C\n",
      "710    B\n",
      "198    F\n",
      "116    B\n",
      "204    F\n",
      "692    C\n",
      "174    F\n",
      "701    D\n",
      "202    C\n",
      "756    F\n",
      "920    D\n",
      "119    D\n",
      "177    C\n",
      "275    C\n",
      "862    F\n",
      "13     C\n",
      "248    D\n",
      "909    D\n",
      "345    C\n",
      "941    B\n",
      "384    F\n",
      "894    D\n",
      "540    C\n",
      "567    C\n",
      "641    B\n",
      "129    F\n",
      "Name: Grade, Length: 300, dtype: object\n",
      "test:\n",
      "0.26\n",
      "train:\n",
      "0.48142857142857143\n"
     ]
    }
   ],
   "source": [
    "print(knn.predict(X_test))\n",
    "print(y1_test)\n",
    "print(\"test:\")\n",
    "print(knn.score(X_test,y1_test))\n",
    "print(\"train:\")\n",
    "print(knn.score(X_train, y1_train))"
   ]
  },
  {
   "cell_type": "code",
   "execution_count": 90,
   "metadata": {},
   "outputs": [],
   "source": [
    "# It was better when the weigth was 'uniform'. "
   ]
  },
  {
   "cell_type": "code",
   "execution_count": 91,
   "metadata": {},
   "outputs": [
    {
     "name": "stdout",
     "output_type": "stream",
     "text": [
      "Iteration                   Training set observations                   Testing set observations\n",
      "    1     [ 6  7  8  9 10 11 12 13 14 15 16 17 18 19 20 21 22 23 24 25 26 27 28 29]       [0 1 2 3 4 5]      \n",
      "    2     [ 0  1  2  3  4  5 12 13 14 15 16 17 18 19 20 21 22 23 24 25 26 27 28 29]    [ 6  7  8  9 10 11]   \n",
      "    3     [ 0  1  2  3  4  5  6  7  8  9 10 11 18 19 20 21 22 23 24 25 26 27 28 29]    [12 13 14 15 16 17]   \n",
      "    4     [ 0  1  2  3  4  5  6  7  8  9 10 11 12 13 14 15 16 17 24 25 26 27 28 29]    [18 19 20 21 22 23]   \n",
      "    5     [ 0  1  2  3  4  5  6  7  8  9 10 11 12 13 14 15 16 17 18 19 20 21 22 23]    [24 25 26 27 28 29]   \n"
     ]
    }
   ],
   "source": [
    "#1\n",
    "\n",
    "kf= KFold(n_splits=5).split(range(30))\n",
    "print('{} {:^61} {}'.format('Iteration', 'Training set observations', 'Testing set observations'))\n",
    "for iteration, data in enumerate(kf, start=1):\n",
    "    print('{:^9} {} {:^25}'.format(iteration, data[0], str(data[1])))"
   ]
  },
  {
   "cell_type": "code",
   "execution_count": 92,
   "metadata": {},
   "outputs": [
    {
     "name": "stdout",
     "output_type": "stream",
     "text": [
      "[0.69306931 0.71287129 0.69306931 0.69306931 0.74257426 0.73737374\n",
      " 0.6969697  0.70707071 0.66666667 0.68686869]\n"
     ]
    }
   ],
   "source": [
    "# Select the best tuning parameters for KNN on my dataset\n",
    "knn = KNeighborsClassifier(n_neighbors=30)\n",
    "scores2 = cross_val_score(knn, X, y2, cv=10, scoring='accuracy')\n",
    "print(scores2)"
   ]
  },
  {
   "cell_type": "code",
   "execution_count": 93,
   "metadata": {},
   "outputs": [
    {
     "name": "stdout",
     "output_type": "stream",
     "text": [
      "0.7029602960296029\n"
     ]
    }
   ],
   "source": [
    "print(scores2.mean())"
   ]
  },
  {
   "cell_type": "code",
   "execution_count": 94,
   "metadata": {},
   "outputs": [
    {
     "name": "stdout",
     "output_type": "stream",
     "text": [
      "[0.6251725172517252, 0.5530653065306531, 0.646934693469347, 0.613091309130913, 0.674007400740074, 0.6298829882988299, 0.6882488248824882, 0.6581258125812581, 0.6772177217721772, 0.6601660166016602, 0.6841284128412841, 0.6782078207820781, 0.6871987198719871, 0.6782078207820782, 0.6931593159315932, 0.6940694069406941, 0.6981098109810981, 0.6931593159315932, 0.6940694069406941, 0.6931593159315932, 0.6981098109810981, 0.6991399139913991, 0.708070807080708, 0.708070807080708, 0.7131213121312131, 0.7140714071407139, 0.7191819181918191, 0.714151415141514, 0.712011201120112, 0.7029602960296029, 0.7089808980898089, 0.7129612961296129, 0.7150215021502151, 0.7120912091209121, 0.715001500150015, 0.71001100110011, 0.706030603060306, 0.706070607060706, 0.714071407140714, 0.7140914091409141, 0.719021902190219, 0.7150815081508151, 0.719041904190419, 0.716051605160516, 0.717041704170417, 0.7111011101110111, 0.717041704170417, 0.716051605160516, 0.718031803180318, 0.7140914091409141, 0.717041704170417, 0.7121112111211121, 0.716071607160716, 0.713081308130813]\n"
     ]
    }
   ],
   "source": [
    "# search for an optimal value of K for KNN\n",
    "k2_range = list(range(1, 55))\n",
    "k2_scores = []\n",
    "for k2 in k2_range:\n",
    "    knn = KNeighborsClassifier(n_neighbors=k2)\n",
    "    scores2 = cross_val_score(knn, X, y2, cv=10, scoring='accuracy')\n",
    "    k2_scores.append(scores2.mean())\n",
    "print(k2_scores)"
   ]
  },
  {
   "cell_type": "code",
   "execution_count": 95,
   "metadata": {},
   "outputs": [
    {
     "data": {
      "text/plain": [
       "Text(0,0.5,'Cross-Validated Accuracy')"
      ]
     },
     "execution_count": 95,
     "metadata": {},
     "output_type": "execute_result"
    },
    {
     "data": {
      "image/png": "[encoded data removed]",
      "text/plain": [
       "<Figure size 432x288 with 1 Axes>"
      ]
     },
     "metadata": {
      "needs_background": "light"
     },
     "output_type": "display_data"
    }
   ],
   "source": [
    "plt.plot(k2_range, k2_scores)\n",
    "plt.xlabel('Value of K for KNN')\n",
    "plt.ylabel('Cross-Validated Accuracy')"
   ]
  },
  {
   "cell_type": "code",
   "execution_count": 96,
   "metadata": {},
   "outputs": [],
   "source": [
    "# From this chart it seems that the ideal k is k=27. "
   ]
  },
  {
   "cell_type": "markdown",
   "metadata": {},
   "source": [
    "**Error models**"
   ]
  },
  {
   "cell_type": "markdown",
   "metadata": {},
   "source": [
    "- Classification accuracy"
   ]
  },
  {
   "cell_type": "code",
   "execution_count": 97,
   "metadata": {},
   "outputs": [],
   "source": [
    "# For convenience, I'll choose to look at the problem as binary classification problem. \n",
    "\n",
    "X_train, X_test, y2_train, y2_test = train_test_split(X, y2, test_size=0.3, random_state=2)\n",
    "knn = KNeighborsClassifier(n_neighbors=27)\n",
    "knn.fit(X_train, y2_train)\n",
    "y2_pred_knn= knn.predict(X_test)"
   ]
  },
  {
   "cell_type": "code",
   "execution_count": 98,
   "metadata": {},
   "outputs": [
    {
     "name": "stdout",
     "output_type": "stream",
     "text": [
      "0.73\n"
     ]
    }
   ],
   "source": [
    "# calculate accuracy\n",
    "print(metrics.accuracy_score(y2_test, y2_pred_knn))"
   ]
  },
  {
   "cell_type": "code",
   "execution_count": null,
   "metadata": {},
   "outputs": [],
   "source": [
    "# KNN accuracy is 73%"
   ]
  },
  {
   "cell_type": "code",
   "execution_count": 99,
   "metadata": {},
   "outputs": [
    {
     "data": {
      "text/plain": [
       "1    216\n",
       "0     84\n",
       "Name: PassStatus, dtype: int64"
      ]
     },
     "execution_count": 99,
     "metadata": {},
     "output_type": "execute_result"
    }
   ],
   "source": [
    "# Distribution of results of the testing set. \n",
    "y2_test.value_counts()"
   ]
  },
  {
   "cell_type": "code",
   "execution_count": 101,
   "metadata": {},
   "outputs": [
    {
     "data": {
      "text/plain": [
       "0.72"
      ]
     },
     "execution_count": 101,
     "metadata": {},
     "output_type": "execute_result"
    }
   ],
   "source": [
    "# calculate the percentage of ones\n",
    "y2_test.mean()"
   ]
  },
  {
   "cell_type": "code",
   "execution_count": 103,
   "metadata": {},
   "outputs": [
    {
     "data": {
      "text/plain": [
       "0.28"
      ]
     },
     "execution_count": 103,
     "metadata": {},
     "output_type": "execute_result"
    }
   ],
   "source": [
    "# calculate the percentage of zeros\n",
    "1 - y2_test.mean()"
   ]
  },
  {
   "cell_type": "code",
   "execution_count": null,
   "metadata": {},
   "outputs": [],
   "source": [
    "# Null accuracy: accuracy that could be achieved by always predicting the most frequent class."
   ]
  },
  {
   "cell_type": "code",
   "execution_count": 105,
   "metadata": {},
   "outputs": [
    {
     "data": {
      "text/plain": [
       "0.72"
      ]
     },
     "execution_count": 105,
     "metadata": {},
     "output_type": "execute_result"
    }
   ],
   "source": [
    "# calculate null accuracy (for binary classification problems coded as 0/1)\n",
    "max(y2_test.mean(), 1 - y2_test.mean())"
   ]
  },
  {
   "cell_type": "code",
   "execution_count": 111,
   "metadata": {},
   "outputs": [
    {
     "data": {
      "text/plain": [
       "F    0.28\n",
       "Name: Grade, dtype: float64"
      ]
     },
     "execution_count": 111,
     "metadata": {},
     "output_type": "execute_result"
    }
   ],
   "source": [
    "# calculate null accuracy (for multi-class classification problems)\n",
    "y1_test.value_counts().head(1) / len(y1_test)"
   ]
  },
  {
   "cell_type": "code",
   "execution_count": 112,
   "metadata": {},
   "outputs": [
    {
     "name": "stdout",
     "output_type": "stream",
     "text": [
      "True: [0 1 1 1 1 0 0 1 1 0 1 1 1 1 0 0 1 0 1 1 0 1 0 1 0]\n",
      "Pred: [1 1 1 0 1 1 0 1 1 1 1 1 1 1 1 1 1 1 1 1 1 1 1 1 1]\n"
     ]
    }
   ],
   "source": [
    "# Comparing the true and predicted response values\n",
    "\n",
    "# print the first 25 true and predicted responses\n",
    "print('True:', y2_test.values[0:25])\n",
    "print('Pred:', y2_pred_knn[0:25])"
   ]
  },
  {
   "cell_type": "markdown",
   "metadata": {},
   "source": [
    "Now, I want to see what \"types\" of errors my classifier is making. "
   ]
  },
  {
   "cell_type": "markdown",
   "metadata": {},
   "source": [
    "- Confusion matrix"
   ]
  },
  {
   "cell_type": "code",
   "execution_count": 113,
   "metadata": {},
   "outputs": [
    {
     "name": "stdout",
     "output_type": "stream",
     "text": [
      "[[ 10  74]\n",
      " [  7 209]]\n"
     ]
    }
   ],
   "source": [
    "# first argument is true values, second argument is predicted values. \n",
    "\n",
    "print(metrics.confusion_matrix(y2_test, y2_pred_knn))"
   ]
  },
  {
   "cell_type": "code",
   "execution_count": 115,
   "metadata": {},
   "outputs": [],
   "source": [
    "confusion = metrics.confusion_matrix(y2_test, y2_pred_knn)"
   ]
  },
  {
   "cell_type": "markdown",
   "metadata": {},
   "source": [
    "1) Type 1 error: False Positive\n",
    "    \n",
    "    we *incorrectly* predicted that they *would* pass the test\n",
    "    when a prediction is wrong & predicted value is positive "
   ]
  },
  {
   "cell_type": "code",
   "execution_count": 117,
   "metadata": {},
   "outputs": [],
   "source": [
    "FP = confusion[0, 1]"
   ]
  },
  {
   "cell_type": "markdown",
   "metadata": {},
   "source": [
    "2) Type 2 error: False Negative\n",
    "    \n",
    "    we *incorrectly* predicted that they *wouldn't* pass the test ( fail )\n",
    "    when a prediction is wrong & predicted value is Negative"
   ]
  },
  {
   "cell_type": "code",
   "execution_count": 118,
   "metadata": {},
   "outputs": [],
   "source": [
    "FN = confusion[1, 0]"
   ]
  },
  {
   "cell_type": "markdown",
   "metadata": {},
   "source": [
    "3) True Positive\n",
    "\n",
    "   we *correctly* predicted that they *would* pass the test\n",
    "   \n",
    "4) True Negative\n",
    "\n",
    "   we *correctly* predicted that they *wouldn't* pass the test ( fail )"
   ]
  },
  {
   "cell_type": "code",
   "execution_count": 120,
   "metadata": {},
   "outputs": [],
   "source": [
    "TP = confusion[1, 1]\n",
    "TN = confusion[0, 0]"
   ]
  },
  {
   "cell_type": "code",
   "execution_count": 124,
   "metadata": {},
   "outputs": [
    {
     "name": "stdout",
     "output_type": "stream",
     "text": [
      "0.73\n",
      "0.73\n"
     ]
    }
   ],
   "source": [
    "# Classification Accuracy:\n",
    "\n",
    "print((TP + TN) / float(TP + TN + FP + FN))\n",
    "print(metrics.accuracy_score(y2_test, y2_pred_knn))"
   ]
  },
  {
   "cell_type": "code",
   "execution_count": 126,
   "metadata": {},
   "outputs": [
    {
     "name": "stdout",
     "output_type": "stream",
     "text": [
      "0.27\n",
      "0.27\n"
     ]
    }
   ],
   "source": [
    "# Classification Error (or: Misclassification Rate):\n",
    "\n",
    "print((FP + FN) / float(TP + TN + FP + FN))\n",
    "print(1 - metrics.accuracy_score(y2_test, y2_pred_knn))"
   ]
  },
  {
   "cell_type": "code",
   "execution_count": 127,
   "metadata": {},
   "outputs": [
    {
     "name": "stdout",
     "output_type": "stream",
     "text": [
      "0.9675925925925926\n",
      "0.9675925925925926\n"
     ]
    }
   ],
   "source": [
    "# Sensitivity (or: True Positive Rate\\ Recall)\n",
    "# When the actual value is positive (pass), how often is the prediction correct?\n",
    "\n",
    "print(TP / float(TP + FN))\n",
    "print(metrics.recall_score(y2_test, y2_pred_knn))"
   ]
  },
  {
   "cell_type": "code",
   "execution_count": 128,
   "metadata": {},
   "outputs": [
    {
     "name": "stdout",
     "output_type": "stream",
     "text": [
      "0.11904761904761904\n"
     ]
    }
   ],
   "source": [
    "# Specificity:\n",
    "# When the actual value is negative (fail), how often is the prediction correct?\n",
    "\n",
    "print(TN / float(TN + FP))"
   ]
  },
  {
   "cell_type": "code",
   "execution_count": 129,
   "metadata": {},
   "outputs": [
    {
     "name": "stdout",
     "output_type": "stream",
     "text": [
      "0.8809523809523809\n"
     ]
    }
   ],
   "source": [
    "# False Positive Rate:\n",
    "# When the actual value is negative, how often is the prediction incorrect?\n",
    "\n",
    "print(FP / float(TN + FP))"
   ]
  },
  {
   "cell_type": "code",
   "execution_count": 130,
   "metadata": {},
   "outputs": [
    {
     "name": "stdout",
     "output_type": "stream",
     "text": [
      "0.7385159010600707\n",
      "0.7385159010600707\n"
     ]
    }
   ],
   "source": [
    "# Precision: \n",
    "# When a positive value is predicted, how often is the prediction correct?\n",
    "\n",
    "print(TP / float(TP + FP))\n",
    "print(metrics.precision_score(y2_test, y2_pred_knn))"
   ]
  },
  {
   "cell_type": "markdown",
   "metadata": {},
   "source": [
    "- F1 score matrix\n",
    "\n",
    "  a function of Precision and Recall. "
   ]
  },
  {
   "cell_type": "code",
   "execution_count": 131,
   "metadata": {},
   "outputs": [
    {
     "data": {
      "text/plain": [
       "0.8376753507014029"
      ]
     },
     "execution_count": 131,
     "metadata": {},
     "output_type": "execute_result"
    }
   ],
   "source": [
    "# We want to seek a balance between Precision and Recall.\n",
    "\n",
    "from sklearn.metrics import f1_score\n",
    "\n",
    "f1_score(y2_test, y2_pred_knn) #defult average='binary'"
   ]
  },
  {
   "cell_type": "code",
   "execution_count": 132,
   "metadata": {},
   "outputs": [
    {
     "data": {
      "text/plain": [
       "0.5178475763408005"
      ]
     },
     "execution_count": 132,
     "metadata": {},
     "output_type": "execute_result"
    }
   ],
   "source": [
    "f1_score(y2_test, y2_pred_knn, average='macro')"
   ]
  },
  {
   "cell_type": "code",
   "execution_count": 133,
   "metadata": {},
   "outputs": [
    {
     "data": {
      "text/plain": [
       "0.7299999999999999"
      ]
     },
     "execution_count": 133,
     "metadata": {},
     "output_type": "execute_result"
    }
   ],
   "source": [
    "f1_score(y2_test, y2_pred_knn, average='micro')"
   ]
  },
  {
   "cell_type": "code",
   "execution_count": 134,
   "metadata": {},
   "outputs": [
    {
     "data": {
      "text/plain": [
       "0.6585717970594654"
      ]
     },
     "execution_count": 134,
     "metadata": {},
     "output_type": "execute_result"
    }
   ],
   "source": [
    "f1_score(y2_test, y2_pred_knn, average='weighted')"
   ]
  },
  {
   "cell_type": "code",
   "execution_count": 135,
   "metadata": {},
   "outputs": [
    {
     "data": {
      "text/plain": [
       "array([0.1980198 , 0.83767535])"
      ]
     },
     "execution_count": 135,
     "metadata": {},
     "output_type": "execute_result"
    }
   ],
   "source": [
    "f1_score(y2_test, y2_pred_knn, average=None)"
   ]
  },
  {
   "cell_type": "code",
   "execution_count": 136,
   "metadata": {},
   "outputs": [
    {
     "name": "stdout",
     "output_type": "stream",
     "text": [
      "             precision    recall  f1-score   support\n",
      "\n",
      "          0       0.59      0.12      0.20        84\n",
      "          1       0.74      0.97      0.84       216\n",
      "\n",
      "avg / total       0.70      0.73      0.66       300\n",
      "\n"
     ]
    }
   ],
   "source": [
    "from sklearn.metrics import classification_report\n",
    "\n",
    "print(classification_report(y2_test, y2_pred_knn))"
   ]
  },
  {
   "cell_type": "markdown",
   "metadata": {},
   "source": [
    "- ROC Curve and Area Under the Curve (AUC)"
   ]
  },
  {
   "cell_type": "code",
   "execution_count": 141,
   "metadata": {},
   "outputs": [
    {
     "data": {
      "text/plain": [
       "array([0.59259259, 0.81481481, 0.81481481, 0.48148148, 0.62962963,\n",
       "       0.74074074, 0.48148148, 0.85185185, 0.81481481, 0.74074074,\n",
       "       0.7037037 , 0.66666667, 0.7037037 , 0.62962963, 0.66666667,\n",
       "       0.62962963, 0.88888889, 0.7037037 , 0.66666667, 0.88888889,\n",
       "       0.66666667, 0.66666667, 0.62962963, 0.59259259, 0.7037037 ,\n",
       "       0.74074074, 0.59259259, 0.66666667, 0.77777778, 0.66666667,\n",
       "       0.66666667, 0.66666667, 0.81481481, 0.77777778, 0.88888889,\n",
       "       0.40740741, 0.62962963, 0.66666667, 0.62962963, 0.74074074,\n",
       "       0.66666667, 0.7037037 , 0.77777778, 0.7037037 , 0.51851852,\n",
       "       0.77777778, 0.48148148, 0.81481481, 0.62962963, 0.92592593,\n",
       "       0.59259259, 0.88888889, 0.44444444, 0.51851852, 0.77777778,\n",
       "       0.59259259, 0.74074074, 0.77777778, 0.88888889, 0.77777778,\n",
       "       0.74074074, 0.7037037 , 0.85185185, 0.88888889, 0.66666667,\n",
       "       0.48148148, 0.51851852, 0.7037037 , 0.66666667, 0.66666667,\n",
       "       0.62962963, 0.62962963, 0.81481481, 0.77777778, 0.77777778,\n",
       "       0.7037037 , 0.66666667, 0.7037037 , 0.7037037 , 0.62962963,\n",
       "       0.88888889, 0.85185185, 0.62962963, 0.7037037 , 0.85185185,\n",
       "       0.48148148, 0.48148148, 0.59259259, 0.85185185, 0.40740741,\n",
       "       0.66666667, 0.62962963, 0.51851852, 0.51851852, 0.66666667,\n",
       "       0.88888889, 0.88888889, 0.88888889, 0.59259259, 0.66666667,\n",
       "       0.74074074, 0.66666667, 0.85185185, 0.62962963, 0.7037037 ,\n",
       "       0.59259259, 0.51851852, 0.74074074, 0.77777778, 0.81481481,\n",
       "       0.77777778, 0.85185185, 0.59259259, 0.92592593, 0.59259259,\n",
       "       0.88888889, 0.85185185, 0.77777778, 0.88888889, 0.59259259,\n",
       "       0.85185185, 0.66666667, 0.51851852, 0.66666667, 0.59259259,\n",
       "       0.51851852, 0.51851852, 0.62962963, 0.81481481, 0.59259259,\n",
       "       0.59259259, 0.88888889, 0.81481481, 0.62962963, 0.85185185,\n",
       "       0.59259259, 0.66666667, 0.7037037 , 0.7037037 , 0.66666667,\n",
       "       0.74074074, 0.62962963, 0.85185185, 0.74074074, 0.85185185,\n",
       "       0.40740741, 0.74074074, 0.59259259, 0.66666667, 0.51851852,\n",
       "       0.59259259, 0.59259259, 0.66666667, 0.7037037 , 0.92592593,\n",
       "       0.62962963, 0.66666667, 0.59259259, 0.66666667, 0.7037037 ,\n",
       "       0.48148148, 0.62962963, 0.59259259, 0.59259259, 0.66666667,\n",
       "       0.66666667, 0.92592593, 0.51851852, 0.88888889, 0.85185185,\n",
       "       0.74074074, 0.59259259, 0.92592593, 0.40740741, 0.7037037 ,\n",
       "       0.77777778, 0.74074074, 0.66666667, 0.7037037 , 0.74074074,\n",
       "       0.48148148, 0.51851852, 0.81481481, 0.77777778, 0.81481481,\n",
       "       0.77777778, 0.85185185, 0.77777778, 0.85185185, 0.77777778,\n",
       "       0.7037037 , 0.88888889, 0.62962963, 0.7037037 , 0.7037037 ,\n",
       "       0.66666667, 0.44444444, 0.7037037 , 0.81481481, 0.62962963,\n",
       "       0.88888889, 0.62962963, 0.7037037 , 0.74074074, 0.77777778,\n",
       "       0.85185185, 0.62962963, 0.7037037 , 0.66666667, 0.74074074,\n",
       "       0.66666667, 0.62962963, 0.59259259, 0.88888889, 0.66666667,\n",
       "       0.81481481, 0.59259259, 0.59259259, 0.77777778, 0.51851852,\n",
       "       0.81481481, 0.66666667, 0.81481481, 0.7037037 , 0.81481481,\n",
       "       0.62962963, 0.40740741, 0.81481481, 0.7037037 , 0.59259259,\n",
       "       0.7037037 , 0.59259259, 0.92592593, 0.77777778, 0.88888889,\n",
       "       0.7037037 , 0.55555556, 0.62962963, 0.7037037 , 0.40740741,\n",
       "       0.66666667, 0.96296296, 0.51851852, 0.51851852, 0.66666667,\n",
       "       0.62962963, 0.51851852, 0.62962963, 0.81481481, 0.59259259,\n",
       "       0.77777778, 0.85185185, 0.7037037 , 0.59259259, 0.81481481,\n",
       "       0.77777778, 0.66666667, 0.7037037 , 0.59259259, 0.7037037 ,\n",
       "       0.77777778, 0.66666667, 0.48148148, 0.81481481, 0.62962963,\n",
       "       0.92592593, 0.62962963, 0.81481481, 0.59259259, 0.59259259,\n",
       "       0.81481481, 0.66666667, 0.62962963, 0.66666667, 0.55555556,\n",
       "       0.7037037 , 0.66666667, 0.85185185, 0.55555556, 0.92592593,\n",
       "       0.92592593, 0.66666667, 0.62962963, 0.7037037 , 0.62962963,\n",
       "       0.66666667, 0.77777778, 0.74074074, 0.85185185, 0.74074074,\n",
       "       0.62962963, 0.88888889, 0.51851852, 0.81481481, 0.51851852,\n",
       "       0.85185185, 0.62962963, 0.88888889, 0.85185185, 0.74074074])"
      ]
     },
     "execution_count": 141,
     "metadata": {},
     "output_type": "execute_result"
    }
   ],
   "source": [
    "y2_pred_knn_prob = knn.predict_proba(X_test)[:, 1]\n",
    "y2_pred_knn_prob"
   ]
  },
  {
   "cell_type": "code",
   "execution_count": 142,
   "metadata": {},
   "outputs": [
    {
     "data": {
      "text/plain": [
       "Text(0,0.5,'Frequency')"
      ]
     },
     "execution_count": 142,
     "metadata": {},
     "output_type": "execute_result"
    },
    {
     "data": {
      "image/png": "[encoded data removed]",
      "text/plain": [
       "<Figure size 432x288 with 1 Axes>"
      ]
     },
     "metadata": {
      "needs_background": "light"
     },
     "output_type": "display_data"
    }
   ],
   "source": [
    "plt.hist(y2_pred_knn_prob, bins=8)\n",
    "plt.xlim(0, 1)\n",
    "plt.title('Histogram of predicted probabilities')\n",
    "plt.xlabel('Predicted probability')\n",
    "plt.ylabel('Frequency')"
   ]
  },
  {
   "cell_type": "code",
   "execution_count": 143,
   "metadata": {},
   "outputs": [
    {
     "data": {
      "image/png": "[encoded data removed]",
      "text/plain": [
       "<Figure size 432x288 with 1 Axes>"
      ]
     },
     "metadata": {
      "needs_background": "light"
     },
     "output_type": "display_data"
    }
   ],
   "source": [
    "fpr, tpr, thresholds = metrics.roc_curve(y2_test, y2_pred_knn_prob)\n",
    "plt.plot(fpr, tpr)\n",
    "plt.xlim([0.0, 1.0])\n",
    "plt.ylim([0.0, 1.0])\n",
    "plt.title('ROC curve')\n",
    "plt.xlabel('False Positive Rate (1 - Specificity)')\n",
    "plt.ylabel('True Positive Rate (Sensitivity)')\n",
    "plt.grid(True)"
   ]
  },
  {
   "cell_type": "code",
   "execution_count": 144,
   "metadata": {},
   "outputs": [],
   "source": [
    "# define a function that accepts a threshold and prints sensitivity and specificity\n",
    "def evaluate_threshold(threshold):\n",
    "    print('Sensitivity:', tpr[thresholds > threshold][-1])\n",
    "    print('Specificity:', 1 - fpr[thresholds > threshold][-1])"
   ]
  },
  {
   "cell_type": "code",
   "execution_count": 145,
   "metadata": {},
   "outputs": [
    {
     "name": "stdout",
     "output_type": "stream",
     "text": [
      "Sensitivity: 0.9675925925925926\n",
      "Specificity: 0.11904761904761907\n"
     ]
    }
   ],
   "source": [
    "evaluate_threshold(0.5)"
   ]
  },
  {
   "cell_type": "code",
   "execution_count": 146,
   "metadata": {},
   "outputs": [
    {
     "name": "stdout",
     "output_type": "stream",
     "text": [
      "Sensitivity: 1.0\n",
      "Specificity: 0.0\n"
     ]
    }
   ],
   "source": [
    "evaluate_threshold(0.3)"
   ]
  },
  {
   "cell_type": "code",
   "execution_count": 147,
   "metadata": {},
   "outputs": [
    {
     "name": "stdout",
     "output_type": "stream",
     "text": [
      "0.632964065255732\n"
     ]
    }
   ],
   "source": [
    "# AUC is the percentage of the ROC plot that is underneath the curve:\n",
    "# Higher value = better classifier\n",
    "\n",
    "print(metrics.roc_auc_score(y2_test, y2_pred_knn_prob))"
   ]
  },
  {
   "cell_type": "code",
   "execution_count": 148,
   "metadata": {},
   "outputs": [
    {
     "data": {
      "text/plain": [
       "0.6224167803757412"
      ]
     },
     "execution_count": 148,
     "metadata": {},
     "output_type": "execute_result"
    }
   ],
   "source": [
    "# calculate cross-validated AUC\n",
    "\n",
    "cross_val_score(knn, X, y2, cv=10, scoring='roc_auc').mean()"
   ]
  },
  {
   "cell_type": "markdown",
   "metadata": {},
   "source": [
    "# Second Model: LOGISTIC REGRESSION"
   ]
  },
  {
   "cell_type": "code",
   "execution_count": 150,
   "metadata": {},
   "outputs": [
    {
     "data": {
      "text/plain": [
       "LogisticRegression(C=1.0, class_weight=None, dual=False, fit_intercept=True,\n",
       "          intercept_scaling=1, max_iter=100, multi_class='ovr', n_jobs=1,\n",
       "          penalty='l2', random_state=None, solver='liblinear', tol=0.0001,\n",
       "          verbose=0, warm_start=False)"
      ]
     },
     "execution_count": 150,
     "metadata": {},
     "output_type": "execute_result"
    }
   ],
   "source": [
    "from sklearn.linear_model import LogisticRegression\n",
    "logreg = LogisticRegression()\n",
    "\n",
    "#1\n",
    "logreg.fit(X_train, y1_train)"
   ]
  },
  {
   "cell_type": "code",
   "execution_count": 151,
   "metadata": {},
   "outputs": [
    {
     "data": {
      "text/plain": [
       "array(['C', 'C', 'C', 'F', 'F', 'C', 'F', 'C', 'C', 'C', 'F', 'F', 'C',\n",
       "       'F', 'F', 'F', 'C', 'C', 'F', 'C', 'C', 'F', 'F', 'F', 'F', 'C',\n",
       "       'C', 'F', 'C', 'F', 'C', 'F', 'C', 'D', 'C', 'F', 'F', 'C', 'D',\n",
       "       'C', 'F', 'F', 'C', 'F', 'F', 'C', 'F', 'C', 'F', 'C', 'F', 'C',\n",
       "       'F', 'F', 'C', 'F', 'C', 'C', 'C', 'C', 'C', 'C', 'C', 'C', 'C',\n",
       "       'F', 'F', 'F', 'F', 'F', 'F', 'F', 'C', 'D', 'F', 'F', 'C', 'F',\n",
       "       'F', 'F', 'C', 'F', 'F', 'C', 'C', 'F', 'F', 'C', 'F', 'F', 'C',\n",
       "       'F', 'F', 'F', 'F', 'C', 'C', 'C', 'F', 'C', 'D', 'F', 'C', 'F',\n",
       "       'F', 'F', 'F', 'F', 'F', 'C', 'C', 'C', 'F', 'C', 'C', 'C', 'C',\n",
       "       'C', 'C', 'F', 'C', 'F', 'F', 'F', 'F', 'F', 'F', 'D', 'C', 'F',\n",
       "       'F', 'A', 'C', 'F', 'C', 'C', 'F', 'F', 'F', 'F', 'C', 'F', 'C',\n",
       "       'C', 'C', 'F', 'F', 'C', 'C', 'F', 'F', 'F', 'F', 'C', 'C', 'F',\n",
       "       'F', 'F', 'F', 'F', 'F', 'F', 'F', 'F', 'F', 'F', 'C', 'F', 'C',\n",
       "       'F', 'F', 'F', 'C', 'F', 'D', 'C', 'C', 'F', 'D', 'C', 'F', 'F',\n",
       "       'C', 'D', 'C', 'F', 'C', 'C', 'C', 'C', 'F', 'C', 'F', 'D', 'F',\n",
       "       'F', 'F', 'C', 'C', 'F', 'A', 'F', 'C', 'C', 'C', 'C', 'F', 'F',\n",
       "       'C', 'C', 'F', 'F', 'F', 'C', 'C', 'C', 'F', 'C', 'C', 'F', 'C',\n",
       "       'F', 'C', 'D', 'C', 'F', 'F', 'C', 'F', 'F', 'F', 'F', 'C', 'F',\n",
       "       'C', 'F', 'F', 'F', 'F', 'F', 'F', 'C', 'F', 'F', 'F', 'F', 'F',\n",
       "       'F', 'C', 'F', 'C', 'C', 'C', 'F', 'C', 'C', 'F', 'C', 'C', 'F',\n",
       "       'C', 'F', 'F', 'C', 'F', 'C', 'C', 'C', 'F', 'F', 'C', 'C', 'F',\n",
       "       'F', 'F', 'C', 'F', 'F', 'F', 'C', 'C', 'F', 'F', 'F', 'F', 'F',\n",
       "       'C', 'F', 'C', 'F', 'F', 'C', 'F', 'C', 'F', 'C', 'C', 'C', 'C',\n",
       "       'F'], dtype=object)"
      ]
     },
     "execution_count": 151,
     "metadata": {},
     "output_type": "execute_result"
    }
   ],
   "source": [
    "y1_pred_logreg = logreg.predict(X_test)\n",
    "y1_pred_logreg"
   ]
  },
  {
   "cell_type": "code",
   "execution_count": 152,
   "metadata": {},
   "outputs": [
    {
     "data": {
      "text/plain": [
       "300"
      ]
     },
     "execution_count": 152,
     "metadata": {},
     "output_type": "execute_result"
    }
   ],
   "source": [
    "len(y1_pred_logreg)"
   ]
  },
  {
   "cell_type": "code",
   "execution_count": 153,
   "metadata": {},
   "outputs": [
    {
     "data": {
      "text/plain": [
       "0.32666666666666666"
      ]
     },
     "execution_count": 153,
     "metadata": {},
     "output_type": "execute_result"
    }
   ],
   "source": [
    "logreg.score(X_test, y1_test)"
   ]
  },
  {
   "cell_type": "code",
   "execution_count": 157,
   "metadata": {},
   "outputs": [
    {
     "data": {
      "text/plain": [
       "0.34885210794882215"
      ]
     },
     "execution_count": 157,
     "metadata": {},
     "output_type": "execute_result"
    }
   ],
   "source": [
    "cross_val_score(logreg, X, y1, cv=10, scoring='accuracy').mean()"
   ]
  },
  {
   "cell_type": "code",
   "execution_count": 158,
   "metadata": {},
   "outputs": [
    {
     "data": {
      "text/plain": [
       "LogisticRegression(C=1.0, class_weight=None, dual=False, fit_intercept=True,\n",
       "          intercept_scaling=1, max_iter=100, multi_class='ovr', n_jobs=1,\n",
       "          penalty='l2', random_state=None, solver='liblinear', tol=0.0001,\n",
       "          verbose=0, warm_start=False)"
      ]
     },
     "execution_count": 158,
     "metadata": {},
     "output_type": "execute_result"
    }
   ],
   "source": [
    "#2\n",
    "logreg.fit(X_train, y2_train)"
   ]
  },
  {
   "cell_type": "code",
   "execution_count": 159,
   "metadata": {},
   "outputs": [
    {
     "data": {
      "text/plain": [
       "array([1, 1, 1, 1, 1, 1, 0, 1, 1, 1, 1, 1, 1, 1, 1, 1, 1, 1, 1, 1, 1, 1,\n",
       "       1, 1, 1, 1, 1, 1, 1, 1, 1, 1, 1, 1, 1, 0, 1, 1, 1, 1, 1, 1, 1, 1,\n",
       "       1, 1, 0, 1, 1, 1, 1, 1, 0, 0, 1, 1, 1, 1, 1, 1, 1, 1, 1, 1, 1, 1,\n",
       "       1, 1, 1, 1, 1, 1, 1, 1, 1, 1, 1, 1, 1, 1, 1, 1, 1, 1, 1, 0, 0, 1,\n",
       "       1, 0, 1, 1, 1, 1, 1, 1, 1, 1, 1, 1, 1, 1, 1, 1, 1, 1, 0, 1, 1, 1,\n",
       "       1, 1, 1, 1, 1, 1, 1, 1, 1, 1, 1, 1, 1, 1, 1, 1, 0, 1, 1, 1, 1, 1,\n",
       "       1, 1, 1, 1, 1, 1, 1, 1, 1, 1, 1, 1, 1, 0, 1, 1, 1, 1, 1, 1, 1, 1,\n",
       "       1, 1, 1, 1, 1, 1, 1, 1, 1, 1, 1, 1, 1, 1, 1, 1, 1, 1, 1, 0, 1, 1,\n",
       "       1, 1, 1, 1, 0, 1, 1, 1, 1, 1, 1, 1, 1, 1, 1, 1, 1, 1, 1, 1, 0, 1,\n",
       "       1, 1, 1, 1, 1, 1, 1, 1, 1, 1, 1, 1, 1, 1, 1, 1, 1, 1, 1, 1, 1, 0,\n",
       "       1, 1, 1, 1, 1, 1, 0, 1, 1, 1, 1, 1, 1, 1, 1, 1, 1, 1, 1, 0, 1, 1,\n",
       "       0, 0, 1, 1, 0, 1, 1, 1, 1, 1, 1, 1, 1, 1, 1, 1, 1, 1, 1, 1, 0, 1,\n",
       "       1, 1, 1, 1, 1, 1, 1, 1, 1, 1, 1, 1, 1, 1, 1, 1, 1, 1, 1, 1, 1, 1,\n",
       "       1, 1, 1, 1, 1, 1, 1, 1, 1, 1, 1, 1, 1, 1], dtype=int64)"
      ]
     },
     "execution_count": 159,
     "metadata": {},
     "output_type": "execute_result"
    }
   ],
   "source": [
    "y2_pred_logreg = logreg.predict(X_test)\n",
    "y2_pred_logreg"
   ]
  },
  {
   "cell_type": "code",
   "execution_count": 160,
   "metadata": {},
   "outputs": [
    {
     "data": {
      "text/plain": [
       "0.73"
      ]
     },
     "execution_count": 160,
     "metadata": {},
     "output_type": "execute_result"
    }
   ],
   "source": [
    "logreg.score(X_test, y2_test)"
   ]
  },
  {
   "cell_type": "code",
   "execution_count": 162,
   "metadata": {},
   "outputs": [
    {
     "data": {
      "text/plain": [
       "0.7141114111411141"
      ]
     },
     "execution_count": 162,
     "metadata": {},
     "output_type": "execute_result"
    }
   ],
   "source": [
    "cross_val_score(logreg, X, y2, cv=10, scoring='accuracy').mean()"
   ]
  },
  {
   "cell_type": "markdown",
   "metadata": {},
   "source": [
    "Error models"
   ]
  },
  {
   "cell_type": "markdown",
   "metadata": {},
   "source": [
    "- Classification accuracy"
   ]
  },
  {
   "cell_type": "code",
   "execution_count": 163,
   "metadata": {},
   "outputs": [
    {
     "data": {
      "text/plain": [
       "1    216\n",
       "0     84\n",
       "Name: PassStatus, dtype: int64"
      ]
     },
     "execution_count": 163,
     "metadata": {},
     "output_type": "execute_result"
    }
   ],
   "source": [
    "# Distribution of results of the testing set. \n",
    "y2_test.value_counts()"
   ]
  },
  {
   "cell_type": "code",
   "execution_count": 164,
   "metadata": {},
   "outputs": [
    {
     "name": "stdout",
     "output_type": "stream",
     "text": [
      "True: [0 1 1 1 1 0 0 1 1 0 1 1 1 1 0 0 1 0 1 1 0 1 0 1 0]\n",
      "Pred: [1 1 1 1 1 1 0 1 1 1 1 1 1 1 1 1 1 1 1 1 1 1 1 1 1]\n"
     ]
    }
   ],
   "source": [
    "# Comparing the true and predicted response values\n",
    "\n",
    "# print the first 25 true and predicted responses\n",
    "print('True:', y2_test.values[0:25])\n",
    "print('Pred:', y2_pred_logreg[0:25])"
   ]
  },
  {
   "cell_type": "code",
   "execution_count": 165,
   "metadata": {},
   "outputs": [
    {
     "name": "stdout",
     "output_type": "stream",
     "text": [
      "0.73\n"
     ]
    }
   ],
   "source": [
    "print(metrics.accuracy_score(y2_test, y2_pred_logreg))"
   ]
  },
  {
   "cell_type": "markdown",
   "metadata": {},
   "source": [
    "- Confusion matrix"
   ]
  },
  {
   "cell_type": "code",
   "execution_count": 166,
   "metadata": {},
   "outputs": [
    {
     "name": "stdout",
     "output_type": "stream",
     "text": [
      "[[ 12  72]\n",
      " [  9 207]]\n"
     ]
    }
   ],
   "source": [
    "print(metrics.confusion_matrix(y2_test, y2_pred_logreg))"
   ]
  },
  {
   "cell_type": "code",
   "execution_count": 167,
   "metadata": {},
   "outputs": [],
   "source": [
    "confusion = metrics.confusion_matrix(y2_test, y2_pred_logreg)\n",
    "\n",
    "TP = confusion[1, 1]\n",
    "TN = confusion[0, 0]\n",
    "FP = confusion[0, 1]\n",
    "FN = confusion[1, 0]"
   ]
  },
  {
   "cell_type": "code",
   "execution_count": 168,
   "metadata": {},
   "outputs": [
    {
     "name": "stdout",
     "output_type": "stream",
     "text": [
      "0.73\n"
     ]
    }
   ],
   "source": [
    "# Classification Accuracy:\n",
    "\n",
    "print((TP + TN) / float(TP + TN + FP + FN))"
   ]
  },
  {
   "cell_type": "code",
   "execution_count": 169,
   "metadata": {},
   "outputs": [
    {
     "name": "stdout",
     "output_type": "stream",
     "text": [
      "0.27\n"
     ]
    }
   ],
   "source": [
    "# Classification Error (or: Misclassification Rate):\n",
    "\n",
    "print((FP + FN) / float(TP + TN + FP + FN))"
   ]
  },
  {
   "cell_type": "code",
   "execution_count": 170,
   "metadata": {},
   "outputs": [
    {
     "name": "stdout",
     "output_type": "stream",
     "text": [
      "0.9583333333333334\n"
     ]
    }
   ],
   "source": [
    "# Sensitivity (or: True Positive Rate\\ Recall)\n",
    "\n",
    "print(TP / float(TP + FN))"
   ]
  },
  {
   "cell_type": "code",
   "execution_count": 171,
   "metadata": {},
   "outputs": [
    {
     "name": "stdout",
     "output_type": "stream",
     "text": [
      "0.8571428571428571\n"
     ]
    }
   ],
   "source": [
    "# False Positive Rate:\n",
    "\n",
    "print(FP / float(TN + FP))"
   ]
  },
  {
   "cell_type": "code",
   "execution_count": 172,
   "metadata": {},
   "outputs": [
    {
     "name": "stdout",
     "output_type": "stream",
     "text": [
      "0.7419354838709677\n"
     ]
    }
   ],
   "source": [
    "# Precision: \n",
    "\n",
    "print(TP / float(TP + FP))"
   ]
  },
  {
   "cell_type": "code",
   "execution_count": 173,
   "metadata": {},
   "outputs": [
    {
     "name": "stdout",
     "output_type": "stream",
     "text": [
      "             precision    recall  f1-score   support\n",
      "\n",
      "          0       0.57      0.14      0.23        84\n",
      "          1       0.74      0.96      0.84       216\n",
      "\n",
      "avg / total       0.69      0.73      0.67       300\n",
      "\n"
     ]
    }
   ],
   "source": [
    "print(classification_report(y2_test, y2_pred_logreg))"
   ]
  },
  {
   "cell_type": "markdown",
   "metadata": {},
   "source": [
    "- ROC Curve and Area Under the Curve (AUC)"
   ]
  },
  {
   "cell_type": "code",
   "execution_count": 176,
   "metadata": {},
   "outputs": [
    {
     "data": {
      "text/plain": [
       "array([0.71239805, 0.93188035, 0.87479108, 0.55851119, 0.56441218,\n",
       "       0.78068096, 0.42342048, 0.89559938, 0.85354893, 0.78068096,\n",
       "       0.63251149, 0.69092158, 0.84363451, 0.62692325, 0.72824194,\n",
       "       0.56441218, 0.82961414, 0.84363451, 0.69060685, 0.84344004,\n",
       "       0.82940577, 0.69092158, 0.62692325, 0.51345479, 0.63251149,\n",
       "       0.78068096, 0.71239805, 0.58400189, 0.81014136, 0.69060685,\n",
       "       0.77185969, 0.60834915, 0.81798575, 0.76260431, 0.79774621,\n",
       "       0.46817864, 0.56441218, 0.80243849, 0.75355947, 0.78068096,\n",
       "       0.69060685, 0.65059783, 0.81014136, 0.65059783, 0.51382286,\n",
       "       0.71209608, 0.42342048, 0.93188035, 0.53940155, 0.90285811,\n",
       "       0.65093269, 0.91137556, 0.39858231, 0.49379292, 0.86608909,\n",
       "       0.65093269, 0.78068096, 0.71209608, 0.87170701, 0.86608909,\n",
       "       0.73295899, 0.85670047, 0.8856066 , 0.82961414, 0.82940577,\n",
       "       0.55851119, 0.60870014, 0.70715774, 0.58400189, 0.69092158,\n",
       "       0.60262432, 0.60262432, 0.74807075, 0.76260431, 0.72795025,\n",
       "       0.70715774, 0.82940577, 0.65059783, 0.65059783, 0.60262432,\n",
       "       0.85651949, 0.70746277, 0.5330751 , 0.86591811, 0.82542689,\n",
       "       0.3560235 , 0.42342048, 0.71239805, 0.70746277, 0.46817864,\n",
       "       0.87755107, 0.56441218, 0.55887447, 0.60870014, 0.69092158,\n",
       "       0.85373302, 0.85373302, 0.94252588, 0.65093269, 0.87755107,\n",
       "       0.8146129 , 0.6272678 , 0.89573706, 0.53940155, 0.70715774,\n",
       "       0.51345479, 0.49379292, 0.66826089, 0.72795025, 0.83647337,\n",
       "       0.86608909, 0.9114945 , 0.51345479, 0.90285811, 0.71239805,\n",
       "       0.84344004, 0.82542689, 0.88575578, 0.95159417, 0.67387625,\n",
       "       0.87739266, 0.69092158, 0.55887447, 0.69060685, 0.67387625,\n",
       "       0.60870014, 0.49379292, 0.75355947, 0.85003134, 0.65093269,\n",
       "       0.71807319, 0.91763828, 0.85354893, 0.62692325, 0.89573706,\n",
       "       0.71239805, 0.69092158, 0.65059783, 0.66858744, 0.60834915,\n",
       "       0.78068096, 0.62692325, 0.89573706, 0.74779297, 0.8856066 ,\n",
       "       0.46817864, 0.66826089, 0.71239805, 0.87755107, 0.60870014,\n",
       "       0.6029771 , 0.65093269, 0.72824194, 0.84363451, 0.90285811,\n",
       "       0.5330751 , 0.60834915, 0.53903547, 0.69092158, 0.65059783,\n",
       "       0.55851119, 0.56441218, 0.67997005, 0.65093269, 0.58400189,\n",
       "       0.6272678 , 0.91943158, 0.65723714, 0.85651949, 0.70746277,\n",
       "       0.69684017, 0.67387625, 0.90285811, 0.46817864, 0.76761193,\n",
       "       0.86608909, 0.78068096, 0.58400189, 0.78541456, 0.73295899,\n",
       "       0.3560235 , 0.60870014, 0.74807075, 0.7938517 , 0.74807075,\n",
       "       0.76233747, 0.82542689, 0.71209608, 0.89559938, 0.86608909,\n",
       "       0.66858744, 0.79774621, 0.53940155, 0.76761193, 0.7337213 ,\n",
       "       0.72824194, 0.39858231, 0.8022048 , 0.85003134, 0.60262432,\n",
       "       0.91763828, 0.53940155, 0.84363451, 0.76691582, 0.88575578,\n",
       "       0.89559938, 0.60262432, 0.66858744, 0.77185969, 0.76691582,\n",
       "       0.60834915, 0.5330751 , 0.67387625, 0.85373302, 0.77211904,\n",
       "       0.74807075, 0.65093269, 0.71239805, 0.81014136, 0.49379292,\n",
       "       0.83647337, 0.72824194, 0.85354893, 0.76761193, 0.74807075,\n",
       "       0.60262432, 0.48780343, 0.87479108, 0.75328575, 0.71807319,\n",
       "       0.75328575, 0.51345479, 0.90285811, 0.72795025, 0.82961414,\n",
       "       0.65059783, 0.58364389, 0.56441218, 0.65059783, 0.46817864,\n",
       "       0.69060685, 0.83277009, 0.49379292, 0.49379292, 0.72824194,\n",
       "       0.53940155, 0.49379292, 0.56441218, 0.85003134, 0.6029771 ,\n",
       "       0.88575578, 0.89559938, 0.86591811, 0.67387625, 0.81798575,\n",
       "       0.88575578, 0.69060685, 0.86591811, 0.71239805, 0.66858744,\n",
       "       0.88575578, 0.72824194, 0.42342048, 0.74807075, 0.62692325,\n",
       "       0.91943158, 0.73837741, 0.93188035, 0.51345479, 0.51345479,\n",
       "       0.87479108, 0.82940577, 0.62692325, 0.69092158, 0.58364389,\n",
       "       0.8022048 , 0.6272678 , 0.70746277, 0.58364389, 0.90285811,\n",
       "       0.90285811, 0.58400189, 0.62692325, 0.65059783, 0.56441218,\n",
       "       0.69092158, 0.88575578, 0.66826089, 0.8856066 , 0.69684017,\n",
       "       0.53940155, 0.91137556, 0.60870014, 0.83647337, 0.51382286,\n",
       "       0.82542689, 0.73837741, 0.93670728, 0.9114945 , 0.64546756])"
      ]
     },
     "execution_count": 176,
     "metadata": {},
     "output_type": "execute_result"
    }
   ],
   "source": [
    "y2_pred_logreg_prob = logreg.predict_proba(X_test)[:, 1]\n",
    "y2_pred_logreg_prob"
   ]
  },
  {
   "cell_type": "code",
   "execution_count": 177,
   "metadata": {},
   "outputs": [
    {
     "data": {
      "text/plain": [
       "Text(0,0.5,'Frequency')"
      ]
     },
     "execution_count": 177,
     "metadata": {},
     "output_type": "execute_result"
    },
    {
     "data": {
      "image/png": "[encoded data removed]",
      "text/plain": [
       "<Figure size 432x288 with 1 Axes>"
      ]
     },
     "metadata": {
      "needs_background": "light"
     },
     "output_type": "display_data"
    }
   ],
   "source": [
    "plt.hist(y2_pred_logreg_prob, bins=8)\n",
    "plt.xlim(0, 1)\n",
    "plt.title('Histogram of predicted probabilities')\n",
    "plt.xlabel('Predicted probability')\n",
    "plt.ylabel('Frequency')"
   ]
  },
  {
   "cell_type": "code",
   "execution_count": 178,
   "metadata": {},
   "outputs": [
    {
     "data": {
      "image/png": "[encoded data removed]",
      "text/plain": [
       "<Figure size 432x288 with 1 Axes>"
      ]
     },
     "metadata": {
      "needs_background": "light"
     },
     "output_type": "display_data"
    }
   ],
   "source": [
    "fpr, tpr, thresholds = metrics.roc_curve(y2_test, y2_pred_logreg_prob)\n",
    "plt.plot(fpr, tpr)\n",
    "plt.xlim([0.0, 1.0])\n",
    "plt.ylim([0.0, 1.0])\n",
    "plt.title('ROC curve')\n",
    "plt.xlabel('False Positive Rate (1 - Specificity)')\n",
    "plt.ylabel('True Positive Rate (Sensitivity)')\n",
    "plt.grid(True)"
   ]
  },
  {
   "cell_type": "code",
   "execution_count": 179,
   "metadata": {},
   "outputs": [
    {
     "name": "stdout",
     "output_type": "stream",
     "text": [
      "0.6682098765432101\n"
     ]
    }
   ],
   "source": [
    "print(metrics.roc_auc_score(y2_test, y2_pred_logreg_prob))"
   ]
  },
  {
   "cell_type": "code",
   "execution_count": 180,
   "metadata": {},
   "outputs": [
    {
     "data": {
      "text/plain": [
       "0.6794105629948273"
      ]
     },
     "execution_count": 180,
     "metadata": {},
     "output_type": "execute_result"
    }
   ],
   "source": [
    "cross_val_score(logreg, X, y2, cv=10, scoring='roc_auc').mean()"
   ]
  },
  {
   "cell_type": "markdown",
   "metadata": {},
   "source": [
    "# Third Model: GaussianNB"
   ]
  },
  {
   "cell_type": "code",
   "execution_count": 183,
   "metadata": {},
   "outputs": [],
   "source": [
    "from sklearn.naive_bayes import GaussianNB"
   ]
  },
  {
   "cell_type": "code",
   "execution_count": 184,
   "metadata": {},
   "outputs": [],
   "source": [
    "GNB= GaussianNB()"
   ]
  },
  {
   "cell_type": "code",
   "execution_count": 185,
   "metadata": {},
   "outputs": [
    {
     "data": {
      "text/plain": [
       "GaussianNB(priors=None)"
      ]
     },
     "execution_count": 185,
     "metadata": {},
     "output_type": "execute_result"
    }
   ],
   "source": [
    "#1\n",
    "\n",
    "GNB.fit(X_train, y1_train)"
   ]
  },
  {
   "cell_type": "code",
   "execution_count": 186,
   "metadata": {},
   "outputs": [
    {
     "data": {
      "text/plain": [
       "array(['F', 'C', 'C', 'F', 'F', 'C', 'F', 'C', 'C', 'C', 'F', 'F', 'C',\n",
       "       'F', 'F', 'F', 'C', 'C', 'F', 'C', 'C', 'F', 'F', 'F', 'F', 'C',\n",
       "       'F', 'F', 'C', 'F', 'C', 'F', 'C', 'D', 'C', 'F', 'F', 'D', 'D',\n",
       "       'C', 'F', 'F', 'C', 'F', 'F', 'F', 'F', 'C', 'F', 'C', 'F', 'B',\n",
       "       'F', 'F', 'C', 'F', 'C', 'F', 'C', 'C', 'C', 'C', 'C', 'C', 'C',\n",
       "       'F', 'F', 'F', 'F', 'F', 'F', 'F', 'C', 'D', 'F', 'F', 'C', 'F',\n",
       "       'F', 'F', 'C', 'F', 'F', 'C', 'C', 'F', 'F', 'F', 'F', 'F', 'C',\n",
       "       'F', 'F', 'F', 'F', 'C', 'C', 'A', 'F', 'C', 'D', 'F', 'C', 'F',\n",
       "       'F', 'F', 'F', 'F', 'F', 'C', 'C', 'C', 'F', 'C', 'F', 'C', 'C',\n",
       "       'C', 'A', 'F', 'C', 'F', 'F', 'F', 'F', 'F', 'F', 'D', 'C', 'F',\n",
       "       'D', 'A', 'C', 'F', 'C', 'F', 'F', 'F', 'F', 'F', 'C', 'F', 'C',\n",
       "       'C', 'C', 'F', 'F', 'F', 'C', 'F', 'F', 'F', 'F', 'C', 'C', 'F',\n",
       "       'F', 'F', 'F', 'F', 'F', 'F', 'D', 'F', 'F', 'F', 'C', 'D', 'C',\n",
       "       'F', 'D', 'F', 'C', 'F', 'D', 'C', 'C', 'F', 'D', 'C', 'F', 'F',\n",
       "       'C', 'C', 'C', 'C', 'C', 'F', 'C', 'C', 'F', 'C', 'F', 'D', 'D',\n",
       "       'F', 'F', 'C', 'C', 'F', 'A', 'F', 'C', 'C', 'C', 'C', 'F', 'F',\n",
       "       'C', 'C', 'F', 'F', 'F', 'C', 'D', 'C', 'F', 'F', 'C', 'F', 'C',\n",
       "       'F', 'C', 'D', 'C', 'F', 'F', 'C', 'D', 'D', 'D', 'F', 'C', 'F',\n",
       "       'C', 'F', 'F', 'F', 'F', 'F', 'F', 'C', 'F', 'F', 'F', 'F', 'F',\n",
       "       'F', 'C', 'F', 'C', 'C', 'C', 'F', 'C', 'C', 'F', 'C', 'F', 'F',\n",
       "       'C', 'F', 'F', 'C', 'F', 'C', 'C', 'C', 'F', 'F', 'C', 'C', 'F',\n",
       "       'F', 'F', 'C', 'F', 'F', 'F', 'C', 'C', 'F', 'F', 'F', 'F', 'F',\n",
       "       'C', 'F', 'C', 'D', 'F', 'B', 'F', 'C', 'F', 'C', 'C', 'A', 'C',\n",
       "       'F'], dtype='<U1')"
      ]
     },
     "execution_count": 186,
     "metadata": {},
     "output_type": "execute_result"
    }
   ],
   "source": [
    "y1_pred_GNB = GNB.predict(X_test)\n",
    "y1_pred_GNB"
   ]
  },
  {
   "cell_type": "code",
   "execution_count": 187,
   "metadata": {},
   "outputs": [
    {
     "data": {
      "text/plain": [
       "0.31333333333333335"
      ]
     },
     "execution_count": 187,
     "metadata": {},
     "output_type": "execute_result"
    }
   ],
   "source": [
    "GNB.score(X_test, y1_test)"
   ]
  },
  {
   "cell_type": "code",
   "execution_count": 188,
   "metadata": {},
   "outputs": [
    {
     "data": {
      "text/plain": [
       "0.34290179572742296"
      ]
     },
     "execution_count": 188,
     "metadata": {},
     "output_type": "execute_result"
    }
   ],
   "source": [
    "cross_val_score(GNB, X, y1, cv=10, scoring='accuracy').mean()"
   ]
  },
  {
   "cell_type": "code",
   "execution_count": 189,
   "metadata": {},
   "outputs": [
    {
     "data": {
      "text/plain": [
       "GaussianNB(priors=None)"
      ]
     },
     "execution_count": 189,
     "metadata": {},
     "output_type": "execute_result"
    }
   ],
   "source": [
    "#2\n",
    "\n",
    "GNB.fit(X_train, y2_train)"
   ]
  },
  {
   "cell_type": "code",
   "execution_count": 190,
   "metadata": {},
   "outputs": [
    {
     "data": {
      "text/plain": [
       "array([1, 1, 1, 1, 1, 1, 0, 1, 1, 1, 1, 1, 1, 1, 1, 1, 1, 1, 1, 1, 1, 1,\n",
       "       1, 0, 1, 1, 1, 1, 1, 1, 1, 1, 1, 1, 1, 0, 1, 1, 1, 1, 1, 1, 1, 1,\n",
       "       0, 1, 0, 1, 1, 1, 1, 1, 0, 0, 1, 1, 1, 1, 1, 1, 1, 1, 1, 1, 1, 1,\n",
       "       1, 1, 1, 1, 1, 1, 1, 1, 1, 1, 1, 1, 1, 1, 1, 1, 1, 1, 1, 0, 0, 1,\n",
       "       1, 0, 1, 1, 1, 1, 1, 1, 1, 1, 1, 1, 1, 1, 1, 1, 1, 0, 0, 1, 1, 1,\n",
       "       1, 1, 0, 1, 1, 1, 1, 1, 1, 1, 1, 1, 1, 1, 1, 1, 0, 1, 1, 1, 1, 1,\n",
       "       1, 1, 1, 1, 1, 1, 1, 1, 1, 1, 1, 1, 1, 0, 1, 1, 1, 1, 1, 1, 1, 1,\n",
       "       1, 1, 1, 0, 1, 1, 1, 1, 1, 1, 1, 1, 1, 1, 1, 1, 1, 1, 1, 0, 1, 1,\n",
       "       1, 1, 1, 1, 0, 1, 1, 1, 1, 1, 1, 1, 1, 1, 1, 1, 1, 1, 1, 1, 0, 1,\n",
       "       1, 1, 1, 1, 1, 1, 1, 1, 1, 1, 1, 1, 1, 1, 1, 1, 1, 1, 1, 1, 1, 0,\n",
       "       1, 1, 1, 1, 1, 1, 0, 1, 1, 1, 1, 0, 1, 1, 1, 1, 1, 1, 1, 0, 1, 1,\n",
       "       0, 0, 1, 1, 0, 1, 1, 1, 1, 1, 1, 1, 1, 1, 1, 1, 1, 1, 1, 1, 0, 1,\n",
       "       1, 1, 1, 1, 0, 0, 1, 1, 1, 1, 1, 1, 1, 1, 1, 1, 1, 1, 1, 1, 1, 1,\n",
       "       1, 1, 1, 1, 1, 1, 1, 1, 0, 1, 1, 1, 1, 1], dtype=int64)"
      ]
     },
     "execution_count": 190,
     "metadata": {},
     "output_type": "execute_result"
    }
   ],
   "source": [
    "y2_pred_GNB = GNB.predict(X_test)\n",
    "y2_pred_GNB"
   ]
  },
  {
   "cell_type": "code",
   "execution_count": 191,
   "metadata": {},
   "outputs": [
    {
     "data": {
      "text/plain": [
       "0.74"
      ]
     },
     "execution_count": 191,
     "metadata": {},
     "output_type": "execute_result"
    }
   ],
   "source": [
    "GNB.score(X_test, y2_test)"
   ]
  },
  {
   "cell_type": "code",
   "execution_count": 192,
   "metadata": {},
   "outputs": [
    {
     "data": {
      "text/plain": [
       "0.7170817081708172"
      ]
     },
     "execution_count": 192,
     "metadata": {},
     "output_type": "execute_result"
    }
   ],
   "source": [
    "cross_val_score(GNB, X, y2, cv=10, scoring='accuracy').mean()"
   ]
  },
  {
   "cell_type": "markdown",
   "metadata": {},
   "source": [
    "Error Models"
   ]
  },
  {
   "cell_type": "markdown",
   "metadata": {},
   "source": [
    "- Classification accuracy"
   ]
  },
  {
   "cell_type": "code",
   "execution_count": 194,
   "metadata": {},
   "outputs": [
    {
     "name": "stdout",
     "output_type": "stream",
     "text": [
      "True: [0 1 1 1 1 0 0 1 1 0 1 1 1 1 0 0 1 0 1 1 0 1 0 1 0]\n",
      "Pred: [1 1 1 1 1 1 0 1 1 1 1 1 1 1 1 1 1 1 1 1 1 1 1 0 1]\n"
     ]
    }
   ],
   "source": [
    "# Comparing the true and predicted response values\n",
    "\n",
    "# print the first 25 true and predicted responses\n",
    "print('True:', y2_test.values[0:25])\n",
    "print('Pred:', y2_pred_GNB[0:25])"
   ]
  },
  {
   "cell_type": "code",
   "execution_count": 195,
   "metadata": {},
   "outputs": [
    {
     "name": "stdout",
     "output_type": "stream",
     "text": [
      "0.74\n"
     ]
    }
   ],
   "source": [
    "print(metrics.accuracy_score(y2_test, y2_pred_GNB))"
   ]
  },
  {
   "cell_type": "markdown",
   "metadata": {},
   "source": [
    "- Confusion accuracy"
   ]
  },
  {
   "cell_type": "code",
   "execution_count": 196,
   "metadata": {},
   "outputs": [
    {
     "name": "stdout",
     "output_type": "stream",
     "text": [
      "[[ 18  66]\n",
      " [ 12 204]]\n"
     ]
    }
   ],
   "source": [
    "print(metrics.confusion_matrix(y2_test, y2_pred_GNB))"
   ]
  },
  {
   "cell_type": "code",
   "execution_count": 197,
   "metadata": {},
   "outputs": [],
   "source": [
    "confusion = metrics.confusion_matrix(y2_test, y2_pred_GNB)\n",
    "\n",
    "TP = confusion[1, 1]\n",
    "TN = confusion[0, 0]\n",
    "FP = confusion[0, 1]\n",
    "FN = confusion[1, 0]"
   ]
  },
  {
   "cell_type": "code",
   "execution_count": 198,
   "metadata": {},
   "outputs": [
    {
     "name": "stdout",
     "output_type": "stream",
     "text": [
      "0.74\n"
     ]
    }
   ],
   "source": [
    "# Classification Accuracy:\n",
    "\n",
    "print((TP + TN) / float(TP + TN + FP + FN))"
   ]
  },
  {
   "cell_type": "code",
   "execution_count": 199,
   "metadata": {},
   "outputs": [
    {
     "name": "stdout",
     "output_type": "stream",
     "text": [
      "0.26\n"
     ]
    }
   ],
   "source": [
    "# Classification Error (or: Misclassification Rate):\n",
    "\n",
    "print((FP + FN) / float(TP + TN + FP + FN))"
   ]
  },
  {
   "cell_type": "code",
   "execution_count": 200,
   "metadata": {},
   "outputs": [
    {
     "name": "stdout",
     "output_type": "stream",
     "text": [
      "0.9444444444444444\n"
     ]
    }
   ],
   "source": [
    "# Sensitivity (or: True Positive Rate\\ Recall)\n",
    "\n",
    "print(TP / float(TP + FN))"
   ]
  },
  {
   "cell_type": "code",
   "execution_count": 201,
   "metadata": {},
   "outputs": [
    {
     "name": "stdout",
     "output_type": "stream",
     "text": [
      "0.7857142857142857\n"
     ]
    }
   ],
   "source": [
    "# False Positive Rate: \n",
    "# When the actual value is negative, how often is the prediction incorrect?\n",
    "\n",
    "print(FP / float(TN + FP))"
   ]
  },
  {
   "cell_type": "code",
   "execution_count": 202,
   "metadata": {},
   "outputs": [
    {
     "name": "stdout",
     "output_type": "stream",
     "text": [
      "0.7555555555555555\n"
     ]
    }
   ],
   "source": [
    "# Precision: \n",
    "\n",
    "print(TP / float(TP + FP))"
   ]
  },
  {
   "cell_type": "code",
   "execution_count": 203,
   "metadata": {},
   "outputs": [
    {
     "name": "stdout",
     "output_type": "stream",
     "text": [
      "             precision    recall  f1-score   support\n",
      "\n",
      "          0       0.60      0.21      0.32        84\n",
      "          1       0.76      0.94      0.84       216\n",
      "\n",
      "avg / total       0.71      0.74      0.69       300\n",
      "\n"
     ]
    }
   ],
   "source": [
    "print(classification_report(y2_test, y2_pred_GNB))"
   ]
  },
  {
   "cell_type": "markdown",
   "metadata": {},
   "source": [
    "- ROC Curve and Area Under the Curve (AUC)"
   ]
  },
  {
   "cell_type": "code",
   "execution_count": 204,
   "metadata": {},
   "outputs": [
    {
     "data": {
      "text/plain": [
       "array([0.67977688, 0.95390931, 0.92372387, 0.52413554, 0.53951593,\n",
       "       0.76390799, 0.38804009, 0.92866105, 0.89566017, 0.76390799,\n",
       "       0.63071568, 0.64714723, 0.87003883, 0.59394239, 0.69929514,\n",
       "       0.53951593, 0.8583546 , 0.87003883, 0.67052697, 0.87566307,\n",
       "       0.86519492, 0.64714723, 0.59394239, 0.46485717, 0.63071568,\n",
       "       0.76390799, 0.67977688, 0.53464301, 0.81229755, 0.67052697,\n",
       "       0.80808982, 0.5717734 , 0.8541998 , 0.75671012, 0.78813152,\n",
       "       0.41949132, 0.53951593, 0.83446831, 0.7990832 , 0.76390799,\n",
       "       0.67052697, 0.61612874, 0.81229755, 0.61612874, 0.47545387,\n",
       "       0.70057615, 0.38804009, 0.95390931, 0.50202455, 0.93172946,\n",
       "       0.60407283, 0.94568372, 0.36310336, 0.45713347, 0.88947214,\n",
       "       0.60407283, 0.76390799, 0.70057615, 0.89898961, 0.88947214,\n",
       "       0.73085103, 0.89098946, 0.92274135, 0.8583546 , 0.86519492,\n",
       "       0.52413554, 0.57242898, 0.73403957, 0.53464301, 0.64714723,\n",
       "       0.59565669, 0.59565669, 0.71845384, 0.75671012, 0.73132438,\n",
       "       0.73403957, 0.86519492, 0.61612874, 0.61612874, 0.59565669,\n",
       "       0.89518393, 0.70078873, 0.53751492, 0.89929422, 0.82507543,\n",
       "       0.33345137, 0.38804009, 0.67977688, 0.70078873, 0.41949132,\n",
       "       0.90305015, 0.53951593, 0.52143559, 0.57242898, 0.64714723,\n",
       "       0.88484274, 0.88484274, 0.96513352, 0.60407283, 0.90305015,\n",
       "       0.8583987 , 0.58001936, 0.91801239, 0.50202455, 0.73403957,\n",
       "       0.46485717, 0.45713347, 0.66174276, 0.73132438, 0.85925958,\n",
       "       0.88947214, 0.93419955, 0.46485717, 0.93172946, 0.67977688,\n",
       "       0.87566307, 0.82507543, 0.91074628, 0.97503226, 0.65068474,\n",
       "       0.91124084, 0.64714723, 0.52143559, 0.67052697, 0.65068474,\n",
       "       0.57242898, 0.45713347, 0.7990832 , 0.86317361, 0.60407283,\n",
       "       0.76023635, 0.9506266 , 0.89566017, 0.59394239, 0.91801239,\n",
       "       0.67977688, 0.64714723, 0.61612874, 0.63651584, 0.5717734 ,\n",
       "       0.76390799, 0.59394239, 0.91801239, 0.74790381, 0.92274135,\n",
       "       0.41949132, 0.66174276, 0.67977688, 0.90305015, 0.57242898,\n",
       "       0.58010773, 0.60407283, 0.69929514, 0.87003883, 0.93172946,\n",
       "       0.53751492, 0.5717734 , 0.48970349, 0.64714723, 0.61612874,\n",
       "       0.52413554, 0.53951593, 0.73561092, 0.60407283, 0.53464301,\n",
       "       0.58001936, 0.9422712 , 0.71441367, 0.89518393, 0.70078873,\n",
       "       0.75044298, 0.65068474, 0.93172946, 0.41949132, 0.83605726,\n",
       "       0.88947214, 0.76390799, 0.53464301, 0.82855986, 0.73085103,\n",
       "       0.33345137, 0.57242898, 0.71845384, 0.81440211, 0.71845384,\n",
       "       0.79339256, 0.82507543, 0.70057615, 0.92866105, 0.88947214,\n",
       "       0.63651584, 0.78813152, 0.50202455, 0.83605726, 0.7922262 ,\n",
       "       0.69929514, 0.36310336, 0.83503003, 0.86317361, 0.59565669,\n",
       "       0.9506266 , 0.50202455, 0.87003883, 0.75577261, 0.91074628,\n",
       "       0.92866105, 0.59565669, 0.63651584, 0.80808982, 0.75577261,\n",
       "       0.5717734 , 0.53751492, 0.65068474, 0.88484274, 0.81561792,\n",
       "       0.71845384, 0.60407283, 0.67977688, 0.81229755, 0.45713347,\n",
       "       0.85925958, 0.69929514, 0.89566017, 0.83605726, 0.71845384,\n",
       "       0.59565669, 0.46494742, 0.92372387, 0.79216648, 0.76023635,\n",
       "       0.79216648, 0.46485717, 0.93172946, 0.73132438, 0.8583546 ,\n",
       "       0.61612874, 0.53565602, 0.53951593, 0.61612874, 0.41949132,\n",
       "       0.67052697, 0.88227225, 0.45713347, 0.45713347, 0.69929514,\n",
       "       0.50202455, 0.45713347, 0.53951593, 0.86317361, 0.58010773,\n",
       "       0.91074628, 0.92866105, 0.89929422, 0.65068474, 0.8541998 ,\n",
       "       0.91074628, 0.67052697, 0.89929422, 0.67977688, 0.63651584,\n",
       "       0.91074628, 0.69929514, 0.38804009, 0.71845384, 0.59394239,\n",
       "       0.9422712 , 0.78700226, 0.95390931, 0.46485717, 0.46485717,\n",
       "       0.92372387, 0.86519492, 0.59394239, 0.64714723, 0.53565602,\n",
       "       0.83503003, 0.58001936, 0.70078873, 0.53565602, 0.93172946,\n",
       "       0.93172946, 0.53464301, 0.59394239, 0.61612874, 0.53951593,\n",
       "       0.64714723, 0.91074628, 0.66174276, 0.92274135, 0.75044298,\n",
       "       0.50202455, 0.94568372, 0.57242898, 0.85925958, 0.47545387,\n",
       "       0.82507543, 0.78700226, 0.96401455, 0.93419955, 0.64885239])"
      ]
     },
     "execution_count": 204,
     "metadata": {},
     "output_type": "execute_result"
    }
   ],
   "source": [
    "y2_pred_GNB_prob = GNB.predict_proba(X_test)[:, 1]\n",
    "y2_pred_GNB_prob"
   ]
  },
  {
   "cell_type": "code",
   "execution_count": 205,
   "metadata": {},
   "outputs": [
    {
     "data": {
      "text/plain": [
       "Text(0,0.5,'Frequency')"
      ]
     },
     "execution_count": 205,
     "metadata": {},
     "output_type": "execute_result"
    },
    {
     "data": {
      "image/png": "[encoded data removed]",
      "text/plain": [
       "<Figure size 432x288 with 1 Axes>"
      ]
     },
     "metadata": {
      "needs_background": "light"
     },
     "output_type": "display_data"
    }
   ],
   "source": [
    "plt.hist(y2_pred_GNB_prob, bins=8)\n",
    "plt.xlim(0, 1)\n",
    "plt.title('Histogram of predicted probabilities')\n",
    "plt.xlabel('Predicted probability')\n",
    "plt.ylabel('Frequency')"
   ]
  },
  {
   "cell_type": "code",
   "execution_count": 206,
   "metadata": {},
   "outputs": [
    {
     "data": {
      "image/png": "[encoded data removed]",
      "text/plain": [
       "<Figure size 432x288 with 1 Axes>"
      ]
     },
     "metadata": {
      "needs_background": "light"
     },
     "output_type": "display_data"
    }
   ],
   "source": [
    "fpr, tpr, thresholds = metrics.roc_curve(y2_test, y2_pred_GNB_prob)\n",
    "plt.plot(fpr, tpr)\n",
    "plt.xlim([0.0, 1.0])\n",
    "plt.ylim([0.0, 1.0])\n",
    "plt.title('ROC curve')\n",
    "plt.xlabel('False Positive Rate (1 - Specificity)')\n",
    "plt.ylabel('True Positive Rate (Sensitivity)')\n",
    "plt.grid(True)"
   ]
  },
  {
   "cell_type": "code",
   "execution_count": 207,
   "metadata": {},
   "outputs": [
    {
     "name": "stdout",
     "output_type": "stream",
     "text": [
      "0.6662808641975307\n"
     ]
    }
   ],
   "source": [
    "print(metrics.roc_auc_score(y2_test, y2_pred_GNB_prob))"
   ]
  },
  {
   "cell_type": "code",
   "execution_count": 208,
   "metadata": {},
   "outputs": [
    {
     "data": {
      "text/plain": [
       "0.681015691852263"
      ]
     },
     "execution_count": 208,
     "metadata": {},
     "output_type": "execute_result"
    }
   ],
   "source": [
    "cross_val_score(GNB, X, y2, cv=10, scoring='roc_auc').mean()"
   ]
  },
  {
   "cell_type": "code",
   "execution_count": 209,
   "metadata": {},
   "outputs": [],
   "source": [
    "# the AUC is pretty poor, the separation between the people who fail the test and the passes is not very clear and therefore the model can not guess the result well enough."
   ]
  },
  {
   "cell_type": "markdown",
   "metadata": {},
   "source": [
    "**Summary:** \n",
    "\n",
    "- I think the best model is the one that has the lowest value of FP (or: the lowest value of False Positive Rate- When the actual value is negative, how often is the prediction incorrect?).\n",
    "- FP this is when we tell someone that he will pass the test, but in the end he does not pass. \n",
    "- This is the worst mistake in my eyes because then the student allows himself to be scornful and not invest in learning for the test.\n",
    "- On the other hand, an FN error, telling the student that he will not pass the test but he will, this is better because the student will invest more in learning and get a better grade. \n",
    "- So the best of the three models I've tested is the third Model: **GaussianNB. \n",
    "- if I choose the treshold to be lower than 0.5, the FP error will be reduced, but also the TP Rate. "
   ]
  }
 ],
 "metadata": {
  "kernelspec": {
   "display_name": "Python 3",
   "language": "python",
   "name": "python3"
  },
  "language_info": {
   "codemirror_mode": {
    "name": "ipython",
    "version": 3
   },
   "file_extension": ".py",
   "mimetype": "text/x-python",
   "name": "python",
   "nbconvert_exporter": "python",
   "pygments_lexer": "ipython3",
   "version": "3.7.0"
  }
 },
 "nbformat": 4,
 "nbformat_minor": 2
}
